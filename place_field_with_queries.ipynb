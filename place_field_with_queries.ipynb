{
 "cells": [
  {
   "cell_type": "code",
   "execution_count": 9,
   "metadata": {},
   "outputs": [
    {
     "name": "stdout",
     "output_type": "stream",
     "text": [
      "The autoreload extension is already loaded. To reload it, use:\n",
      "  %reload_ext autoreload\n"
     ]
    }
   ],
   "source": [
    "%load_ext autoreload\n",
    "%autoreload 2\n",
    "\n",
    "# General\n",
    "import pynwb\n",
    "import numpy as np\n",
    "\n",
    "# Local\n",
    "from nwb_query import ContinuousData, PointData, EventData, TimeIntervals\n",
    "\n",
    "# Plotting\n",
    "import matplotlib.pyplot as plt\n",
    "import matplotlib.dates as mdates\n",
    "plt.rcParams.update({'font.size': 12})\n",
    "plt.rcParams.update({'lines.solid_capstyle': 'butt'})\n",
    "mdates.rcParams.update({'date.autoformatter.microsecond': '%H:%M:%S.%f'})"
   ]
  },
  {
   "cell_type": "markdown",
   "metadata": {},
   "source": [
    "### Todo\n",
    "- ContinuousData accessors (based on column names?)\n",
    "- Make ContinuousData and PointProcess iterable by interval (return single interval and its data)\n",
    "- Convenience functions: obs_durations (diff of obs_intervals)\n",
    "- write occupancy function\n",
    "- query spiking by epoch before doing behavior selection (requires adding epochs to NWBfile)\n",
    "    - requires extracting epoch information from nspike\n",
    "- behavior (position/speed) indexed by time, and not by epoch name\n",
    "    - requires concatenating behav on import\n",
    "- ? Subclass PointProcess for spiking data (include other columns: clustering metadata, e.g.)\n",
    "- ? Subclass ContinuousData for Behavioral data (include SI units?)"
   ]
  },
  {
   "cell_type": "markdown",
   "metadata": {},
   "source": [
    "### Data import and analysis parameters"
   ]
  },
  {
   "cell_type": "code",
   "execution_count": 10,
   "metadata": {},
   "outputs": [],
   "source": [
    "# what data to analyze\n",
    "d = {}\n",
    "d['anim'] = 'Bon'\n",
    "d['day'] = 4 # 1-indexed\n",
    "\n",
    "d['epoch'] = 4 # 1-indexed\n",
    "d['cluster_id'] = 30\n",
    "\n",
    "# analysis configuration\n",
    "c = {}\n",
    "c['speed_threshold'] = 0.05 # m/s"
   ]
  },
  {
   "cell_type": "markdown",
   "metadata": {},
   "source": [
    "### Read NWB file"
   ]
  },
  {
   "cell_type": "code",
   "execution_count": 11,
   "metadata": {},
   "outputs": [
    {
     "name": "stdout",
     "output_type": "stream",
     "text": [
      "Loading file: ./Bon04_test.nwb\n"
     ]
    }
   ],
   "source": [
    "animday = '{}{:02d}'.format(d['anim'], d['day'])\n",
    "nwb_filename = './' + animday + '_test.nwb'\n",
    "\n",
    "print('Loading file: %s' % nwb_filename)\n",
    "io = pynwb.NWBHDF5IO(nwb_filename, mode='r')\n",
    "nwbf = io.read()\n",
    " \n",
    "sst = nwbf.session_start_time.timestamp()"
   ]
  },
  {
   "cell_type": "markdown",
   "metadata": {},
   "source": [
    "### Dataset Query: speed of a given animal, day, and epoch\n",
    "#### NWBFile (one animal), day, epoch --> ContinuousProcess (speed)"
   ]
  },
  {
   "cell_type": "code",
   "execution_count": 12,
   "metadata": {},
   "outputs": [],
   "source": [
    "speed_module_name = 'Speed d{:d} e{:d}'.format(d['day'], d['epoch']) # HACKY--we should query on epoch directly\n",
    "speed_h5py = nwbf.modules['Behavior']['Speed'][speed_module_name]\n",
    "speed = ContinuousData(data=speed_h5py.data[()], timestamps=speed_h5py.timestamps[()])"
   ]
  },
  {
   "cell_type": "markdown",
   "metadata": {},
   "source": [
    "### Dataset Query: position of a given animal, day, and epoch\n",
    "#### NWBFile (one animal), day, epoch --> ContinuousProcess (position)"
   ]
  },
  {
   "cell_type": "code",
   "execution_count": 13,
   "metadata": {},
   "outputs": [
    {
     "name": "stdout",
     "output_type": "stream",
     "text": [
      "*** All position records for epoch ***\n",
      "# of measurements = 28082\n",
      "# of intervals = 1\n",
      "duration of intervals = 936.96 s\n"
     ]
    }
   ],
   "source": [
    "position_module_name = 'Position d{:d} e{:d}'.format(d['day'], d['epoch']) # HACKY--we should query on epoch directly\n",
    "position_h5py = nwbf.modules['Behavior']['Position'][position_module_name]\n",
    "position = ContinuousData(position_h5py.data[()], position_h5py.timestamps[()])\n",
    "\n",
    "print('*** All position records for epoch ***')\n",
    "print('# of measurements = %d' % position.data.shape[0])\n",
    "print('# of intervals = %d' % len(position.obs_intervals))\n",
    "print('duration of intervals = %0.2f s' % np.sum(position.obs_intervals.durations()))"
   ]
  },
  {
   "cell_type": "markdown",
   "metadata": {},
   "source": [
    "### Dataset Query: spiking of a given animal and cluster\n",
    "#### NWBFile (one animal), cluster --> PointProcess (spiking)"
   ]
  },
  {
   "cell_type": "code",
   "execution_count": 14,
   "metadata": {},
   "outputs": [
    {
     "name": "stdout",
     "output_type": "stream",
     "text": [
      "*** Spiking for cluster 30 ***\n",
      "# of spikes = 2192\n",
      "# of intervals = 7 (epochs?)\n",
      "duration of intervals = 7163.00 s\n"
     ]
    }
   ],
   "source": [
    "# Get spike times and obs_intervals\n",
    "spikes_t = nwbf.units['spike_times'][d['cluster_id']]\n",
    "obs_intervals = TimeIntervals(nwbf.units['obs_intervals'][d['cluster_id']])\n",
    "spiking = PointData(event_times=spikes_t,\n",
    "                       obs_intervals=obs_intervals)\n",
    "\n",
    "print('*** Spiking for cluster %s ***' % d['cluster_id'])\n",
    "print('# of spikes = %d' % spiking.event_times.shape[0])\n",
    "print('# of intervals = %d (epochs?)' % len(spiking.obs_intervals))\n",
    "print('duration of intervals = %0.2f s' % np.sum(spiking.obs_intervals.durations()))"
   ]
  },
  {
   "cell_type": "markdown",
   "metadata": {},
   "source": [
    "### TODO ----->  Query: Find spiking within an epoch\n",
    "#### PointProcess (spiking), TimeInterval (epoch) --> PointProcess (spiking)"
   ]
  },
  {
   "cell_type": "code",
   "execution_count": 15,
   "metadata": {},
   "outputs": [],
   "source": [
    "# epoch_time_interval = TimeIntervals(np.array([[epoch_start, epoch_end]]))\n",
    "# spiking.time_query(epoch_time_interval)"
   ]
  },
  {
   "cell_type": "markdown",
   "metadata": {},
   "source": [
    "### Analysis: Find time intervals where speed > threshold\n",
    "#### ContinuousData (speed), lambda function --> TimeSelection\n",
    "This is an _analysis_, not a query, because we are not simply selecting a subset of a given datatype. i.e. We are not asking for a subset of the speed data, but rather for the intervals where it fulfills a lambda function. The lambda function could have been something different, like \"find the times of all upward threshold crossings, and then pad this by 5 seconds on either side.\". Regardless of how simple or complex the lambda function is, we consider this to be an analysis. Using the output of this to select a subset of the spiking data, however, is a query."
   ]
  },
  {
   "cell_type": "code",
   "execution_count": 16,
   "metadata": {},
   "outputs": [
    {
     "name": "stdout",
     "output_type": "stream",
     "text": [
      "*** Times where speed > threshold ***\n",
      "# of selection intervals = 264\n",
      "duration of selection intervals = 376.94 s\n",
      "# of observation intervals = 1\n",
      "duration of observation intervals = 936.96 s\n"
     ]
    }
   ],
   "source": [
    "speed_threshold_fn = lambda x: x > c['speed_threshold']\n",
    "speed_time_selection = speed.filter_intervals(speed_threshold_fn)\n",
    "\n",
    "print('*** Times where speed > threshold ***')\n",
    "print('# of selection intervals = %d' % len(speed_time_selection.select_intervals))\n",
    "print('duration of selection intervals = %0.2f s' % np.sum(speed_time_selection.durations()))\n",
    "print('# of observation intervals = %d' % len(speed_time_selection.obs_intervals))\n",
    "print('duration of observation intervals = %0.2f s' % np.sum(speed_time_selection.obs_durations()))"
   ]
  },
  {
   "cell_type": "markdown",
   "metadata": {},
   "source": [
    "### Query: spiking during time intervals where speed > threshold\n",
    "#### PointProcess (spiking), TimeSelection --> PointProcess (spiking)"
   ]
  },
  {
   "cell_type": "code",
   "execution_count": 17,
   "metadata": {},
   "outputs": [
    {
     "name": "stdout",
     "output_type": "stream",
     "text": [
      "*** Spiking where speed > threshold ***\n",
      "# of spikes = 312\n",
      "# of intervals = 264\n",
      "duration of intervals = 376.94 s\n",
      "\n"
     ]
    }
   ],
   "source": [
    "spiking_run = spiking.time_query(speed_time_selection)  # Use the built-in time query method on PointProcess\n",
    "\n",
    "print('*** Spiking where speed > threshold ***')\n",
    "print('# of spikes = %d' % len(spiking_run.event_times))\n",
    "print('# of intervals = %d' % len(spiking_run.obs_intervals))\n",
    "print('duration of intervals = %0.2f s' % np.sum(spiking_run.obs_intervals.durations()))\n",
    "print()"
   ]
  },
  {
   "cell_type": "markdown",
   "metadata": {},
   "source": [
    "### Analysis: Mark animal position at the event time of each spike\n",
    "#### PointProcess (spiking), ContinuousData (position[m x 2]) --> PointProcess with marks (spike times with associated positions)"
   ]
  },
  {
   "cell_type": "code",
   "execution_count": 18,
   "metadata": {},
   "outputs": [
    {
     "name": "stdout",
     "output_type": "stream",
     "text": [
      "*** Spiking where speed > threshold, marked with position ***\n",
      "# of marked spikes = 312\n",
      "# of intervals = 264\n",
      "duration of intervals = 376.94 s\n",
      "\n"
     ]
    }
   ],
   "source": [
    "spiking_run_mark_pos = spiking_run.mark_with_ContinuousData(position)\n",
    "\n",
    "print('*** Spiking where speed > threshold, marked with position ***')\n",
    "print('# of marked spikes = %d' % len(spiking_run_mark_pos.event_times))\n",
    "print('# of intervals = %d' % len(spiking_run_mark_pos.obs_intervals))\n",
    "print('duration of intervals = %0.2f s' % np.sum(spiking_run_mark_pos.obs_intervals.durations()))\n",
    "print()"
   ]
  },
  {
   "cell_type": "markdown",
   "metadata": {},
   "source": [
    "### Query: Get animal locations during running intervals\n",
    "#### ContinuousData (position [m x 2]), TimeIntervals --> ContinuousData (position [m_new x 2])"
   ]
  },
  {
   "cell_type": "code",
   "execution_count": 19,
   "metadata": {},
   "outputs": [
    {
     "name": "stdout",
     "output_type": "stream",
     "text": [
      "*** Position where speed > threshold ***\n",
      "# of samples = 11561\n",
      "# of intervals = 264\n",
      "duration of intervals = 376.94 s\n",
      "\n"
     ]
    }
   ],
   "source": [
    "position_run = position.time_query(speed_time_selection)\n",
    "\n",
    "print('*** Position where speed > threshold ***')\n",
    "print('# of samples = %d' % position_run.data.shape[0])\n",
    "print('# of intervals = %d' % len(position_run.obs_intervals))\n",
    "print('duration of intervals = %0.2f s' % np.sum(position_run.obs_intervals.durations()))\n",
    "print()"
   ]
  },
  {
   "cell_type": "markdown",
   "metadata": {},
   "source": [
    "### Plot spikes by location"
   ]
  },
  {
   "cell_type": "code",
   "execution_count": null,
   "metadata": {},
   "outputs": [],
   "source": [
    "fig1 = plt.figure(1, figsize=(15,15))\n",
    "ax1 = fig1.add_subplot(1,1,1)\n",
    "ax1.axis('equal')\n",
    "\n",
    "plt.plot(position.data[:,0], position.data[:,1], marker='', color='gray', label='Rat location', zorder=1)\n",
    "\n",
    "run_label = 'Rat location during movement'\n",
    "for ivl in position_run.obs_intervals.intervals:\n",
    "    ivl_data = position.time_query(TimeIntervals(ivl)).data \n",
    "    plt.plot(ivl_data[:,0], ivl_data[:,1], marker='', color='red', label=run_label, zorder=2)\n",
    "    run_label = '_' # omit later lines from legend\n",
    "\n",
    "plt.scatter(spiking_run_mark_pos.marks[:, 0], spiking_run_mark_pos.marks[:, 1], marker='D', s=50, label='Location at spike times during movement', zorder=3)\n",
    "\n",
    "ax1.legend()\n",
    "ax1.set_xlabel('X position (m)')\n",
    "ax1.set_ylabel('Y position (m)')\n",
    "ax1.set_title('Spike-position map for {} d{} e{} c{}, speed > {:0.1f} cm/s'.format(d['anim'], d['day'], d['epoch'], d['cluster_id'], (c['speed_threshold'] * 100)))\n",
    "pass"
   ]
  },
  {
   "cell_type": "code",
   "execution_count": null,
   "metadata": {},
   "outputs": [],
   "source": []
  }
 ],
 "metadata": {
  "kernelspec": {
   "display_name": "Python 3",
   "language": "python",
   "name": "python3"
  },
  "language_info": {
   "codemirror_mode": {
    "name": "ipython",
    "version": 3
   },
   "file_extension": ".py",
   "mimetype": "text/x-python",
   "name": "python",
   "nbconvert_exporter": "python",
   "pygments_lexer": "ipython3",
   "version": "3.6.7"
  }
 },
 "nbformat": 4,
 "nbformat_minor": 2
}
