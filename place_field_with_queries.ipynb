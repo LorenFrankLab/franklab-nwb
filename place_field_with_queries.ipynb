{
 "cells": [
  {
   "cell_type": "code",
   "execution_count": 115,
   "metadata": {},
   "outputs": [
    {
     "name": "stdout",
     "output_type": "stream",
     "text": [
      "The autoreload extension is already loaded. To reload it, use:\n",
      "  %reload_ext autoreload\n"
     ]
    }
   ],
   "source": [
    "%load_ext autoreload\n",
    "%autoreload 2\n",
    "\n",
    "# General\n",
    "import pynwb\n",
    "import numpy as np\n",
    "import pandas as pd\n",
    "\n",
    "# Local\n",
    "from nwb_query import TimeIntervals as TI\n",
    "from nwb_query import ContinuousData, PointData, EventData, TimeIntervals, plot_PointData_multiple\n",
    "\n",
    "# Plotting\n",
    "import matplotlib.pyplot as plt\n",
    "import matplotlib.dates as mdates\n",
    "plt.rcParams.update({'font.size': 12})\n",
    "plt.rcParams.update({'lines.solid_capstyle': 'butt'})\n",
    "mdates.rcParams.update({'date.autoformatter.microsecond': '%H:%M:%S.%f'})"
   ]
  },
  {
   "cell_type": "markdown",
   "metadata": {},
   "source": [
    "### Todo\n",
    "Next up:\n",
    "- ContinuousData accessors (based on column names? require column names? Propagating to MarkedPointProcess\n",
    "\n",
    "Prettify notebook:\n",
    "  - Make plots for ContData and EventData that show valid_intervals\n",
    "  - Add valid_intervals to legends of plots\n",
    "  - Add `__repr__` methods for classes and get rid of multiline print statements\n",
    "\n",
    "Plumbing:\n",
    "- Make ContinuousData and PointProcess iterable by interval (return single interval and its data)\n",
    "- use pynwb.TimeIntervals (exercise using pynwb datatypes)\n",
    "- add valid_intervals to pynwb.TimeSeries\n",
    "- use pynwb.TimeSeries as base class for ContinuousData, PointData, EventData\n",
    "- ? Subclass PointProcess for spiking data (include other columns: clustering metadata, e.g.)\n",
    "- ? Subclass ContinuousData for Behavioral data (include SI units, samplerate?)\n",
    "\n",
    "Usage:\n",
    "- query spiking by epoch before doing behavior selection\n",
    "- behavior (position/speed) should be a time_query (using epoch tq), and not epoch name\n",
    "    - requires concatenating behav on import\n",
    "\n",
    "Analysis:\n",
    "- write occupancy function\n"
   ]
  },
  {
   "cell_type": "markdown",
   "metadata": {},
   "source": [
    "### Data import and analysis parameters"
   ]
  },
  {
   "cell_type": "code",
   "execution_count": 116,
   "metadata": {},
   "outputs": [],
   "source": [
    "# what data to analyze\n",
    "d = {}\n",
    "d['anim'] = 'Bon'\n",
    "d['day'] = 4 # 1-indexed\n",
    "\n",
    "d['epoch'] = 4 # 1-indexed\n",
    "d['cluster_id'] = 30\n",
    "\n",
    "# analysis configuration\n",
    "c = {}\n",
    "c['speed_threshold'] = 0.05 # m/s"
   ]
  },
  {
   "cell_type": "markdown",
   "metadata": {},
   "source": [
    "### Read NWB file"
   ]
  },
  {
   "cell_type": "code",
   "execution_count": 117,
   "metadata": {},
   "outputs": [
    {
     "name": "stdout",
     "output_type": "stream",
     "text": [
      "Loading file: ./Bon04_test.nwb\n"
     ]
    }
   ],
   "source": [
    "animday = '{}{:02d}'.format(d['anim'], d['day'])\n",
    "nwb_filename = './' + animday + '_test.nwb'\n",
    "\n",
    "print('Loading file: %s' % nwb_filename)\n",
    "io = pynwb.NWBHDF5IO(nwb_filename, mode='r')\n",
    "nwbf = io.read()\n",
    " \n",
    "sst = nwbf.session_start_time.timestamp()"
   ]
  },
  {
   "cell_type": "markdown",
   "metadata": {},
   "source": [
    "### Dataset Query: speed of a given animal, day, and epoch\n",
    "#### NWBFile (one animal), day, epoch --> ContinuousData (speed)"
   ]
  },
  {
   "cell_type": "code",
   "execution_count": 118,
   "metadata": {},
   "outputs": [
    {
     "data": {
      "text/plain": [
       "TimeIntervals([1136409364.0273,1136410300.9887])"
      ]
     },
     "execution_count": 118,
     "metadata": {},
     "output_type": "execute_result"
    }
   ],
   "source": [
    "speed_module_name = 'Speed d{:d} e{:d}'.format(d['day'], d['epoch']) # HACKY--we should query on epoch directly\n",
    "speed_h5py = nwbf.modules['Behavior']['Speed'][speed_module_name]\n",
    "speed = ContinuousData(samples=speed_h5py.data[()], sample_times=speed_h5py.timestamps[()])\n",
    "\n",
    "speed.valid_intervals"
   ]
  },
  {
   "cell_type": "markdown",
   "metadata": {},
   "source": [
    "### Dataset Query: position of a given animal, day, and epoch\n",
    "#### NWBFile (one animal), day, epoch --> ContinuousData (position)"
   ]
  },
  {
   "cell_type": "code",
   "execution_count": 119,
   "metadata": {},
   "outputs": [
    {
     "name": "stdout",
     "output_type": "stream",
     "text": [
      "*** All position records for epoch ***\n",
      "# of measurements = 28082\n",
      "# of intervals = 1\n",
      "duration of intervals = 936.96 s\n"
     ]
    }
   ],
   "source": [
    "position_module_name = 'Position d{:d} e{:d}'.format(d['day'], d['epoch']) # HACKY--we should query on epoch directly\n",
    "position_h5py = nwbf.modules['Behavior']['Position'][position_module_name]\n",
    "position_data = np.array(position_h5py.data[()])\n",
    "position_data = pd.DataFrame(data=position_h5py.data[()], columns=['x', 'y'])\n",
    "position = ContinuousData(position_data, position_h5py.timestamps[()])\n",
    "\n",
    "print('*** All position records for epoch ***')\n",
    "print('# of measurements = %d' % position.samples.shape[0])\n",
    "print('# of intervals = %d' % len(position.valid_intervals))\n",
    "print('duration of intervals = %0.2f s' % np.sum(position.valid_intervals.durations()))"
   ]
  },
  {
   "cell_type": "markdown",
   "metadata": {},
   "source": [
    "### Dataset Query: spiking of a given animal and cluster\n",
    "#### NWBFile (one animal), cluster --> PointData (spiking)"
   ]
  },
  {
   "cell_type": "code",
   "execution_count": 120,
   "metadata": {},
   "outputs": [
    {
     "name": "stdout",
     "output_type": "stream",
     "text": [
      "*** Spiking for cluster 30 ***\n",
      "# of spikes = 2192\n",
      "# of intervals = 7\n",
      "duration of intervals = 7163.00 s\n"
     ]
    }
   ],
   "source": [
    "spikes_t = nwbf.units['spike_times'][d['cluster_id']]\n",
    "valid_intervals = TimeIntervals(nwbf.units['obs_intervals'][d['cluster_id']])\n",
    "spiking_all = PointData(point_times=spikes_t, valid_intervals=valid_intervals)\n",
    "\n",
    "print('*** Spiking for cluster %s ***' % d['cluster_id'])\n",
    "print('# of spikes = %d' % spiking_all.point_times.shape[0])\n",
    "print('# of intervals = %d' % len(spiking_all.valid_intervals))\n",
    "print('duration of intervals = %0.2f s' % np.sum(spiking_all.valid_intervals.durations()))"
   ]
  },
  {
   "cell_type": "markdown",
   "metadata": {},
   "source": [
    "### Time Query: Find spiking within all non-sleep epochs\n",
    "#### PointData (spiking), TimeIntervals (epochs) --> PointData (spiking)\n",
    "\n",
    "The resulting valid_intervals for spiking are the intersection of the valid_intervals for spiking data and the time intervals defining the non-sleep behavioral epochs. Presently, the epoch start/stop times are inferred from the behavioral data, as epoch start/stop times are not explicitly defined in FrankLab data structures. "
   ]
  },
  {
   "cell_type": "code",
   "execution_count": 121,
   "metadata": {},
   "outputs": [
    {
     "name": "stdout",
     "output_type": "stream",
     "text": [
      "*** Spiking for cluster 30 during non-sleep behavioral epochs ***\n",
      "# of spikes = 1791\n",
      "# of intervals = 3\n",
      "duration of intervals = 2704.00 s\n"
     ]
    },
    {
     "data": {
      "image/png": "[encoded data removed]",
      "text/plain": [
       "<Figure size 1080x216 with 1 Axes>"
      ]
     },
     "metadata": {
      "needs_background": "light"
     },
     "output_type": "display_data"
    }
   ],
   "source": [
    "# Get start/stop times for all non-sleep behavioral epochs (called 'run' epochs in FrankLab data)\n",
    "epoch_types = np.array(nwbf.epochs['epoch_type'][:])\n",
    "behav_epoch_indices = np.where(epoch_types=='run')[0]\n",
    "\n",
    "# Build a TimeIntervals query with start/stop times of non-sleep behavioral epochs\n",
    "behav_intervals = []\n",
    "for i in behav_epoch_indices:\n",
    "    epoch_start = nwbf.epochs['start_time'][i]\n",
    "    epoch_stop = nwbf.epochs['stop_time'][i]\n",
    "    behav_intervals.append([epoch_start, epoch_stop])\n",
    "behav_intervals = TimeIntervals(np.array(behav_intervals)) # convert to TimeIntervals for query\n",
    "\n",
    "# time_query on spiking during non-sleep behavioral epochs\n",
    "spiking_behav = spiking_all.time_query(behav_intervals)\n",
    "\n",
    "print('*** Spiking for cluster %s during non-sleep behavioral epochs ***' % d['cluster_id'])\n",
    "print('# of spikes = %d' % spiking_behav.point_times.shape[0])\n",
    "print('# of intervals = %d' % len(spiking_behav.valid_intervals))\n",
    "print('duration of intervals = %0.2f s' % np.sum(spiking_behav.valid_intervals.durations()))\n",
    "\n",
    "# Plot spiking\n",
    "spikeplots = [(spiking_all, 'All spiking'),\n",
    "              (spiking_behav, 'Spikes in\\nnon-sleep epochs')]\n",
    "\n",
    "fig1 = plt.figure(1, figsize=(15,3))\n",
    "ax1 = fig1.add_subplot(1, 1, 1)\n",
    "plot_PointData_multiple(spikeplots, axis=ax1)\n",
    "\n",
    "pass # suppress output\n",
    "    \n"
   ]
  },
  {
   "cell_type": "markdown",
   "metadata": {},
   "source": [
    "### Time Query: Find spiking within a single behavioral epoch\n",
    "#### PointData (spiking), TimeIntervals (epoch) --> PointData (spiking)"
   ]
  },
  {
   "cell_type": "code",
   "execution_count": 122,
   "metadata": {},
   "outputs": [
    {
     "name": "stdout",
     "output_type": "stream",
     "text": [
      "*** Spiking for cluster 30 during epoch 4 ***\n",
      "# of spikes = 672\n",
      "# of intervals = 1\n",
      "duration of intervals = 876.00 s\n"
     ]
    },
    {
     "data": {
      "image/png": "[encoded data removed]",
      "text/plain": [
       "<Figure size 1080x216 with 1 Axes>"
      ]
     },
     "metadata": {
      "needs_background": "light"
     },
     "output_type": "display_data"
    },
    {
     "data": {
      "image/png": "[encoded data removed]",
      "text/plain": [
       "<Figure size 1080x144 with 1 Axes>"
      ]
     },
     "metadata": {
      "needs_background": "light"
     },
     "output_type": "display_data"
    }
   ],
   "source": [
    "# Get epoch start/stop times from the NWB file\n",
    "epoch_start = nwbf.epochs['start_time'][d['epoch']-1]\n",
    "epoch_end = nwbf.epochs['stop_time'][d['epoch']-1]\n",
    "epoch_interval = TimeIntervals(np.array([epoch_start, epoch_end]))\n",
    "\n",
    "# time_query on spiking during the epoch\n",
    "spiking = spiking_all.time_query(epoch_interval)\n",
    "\n",
    "print('*** Spiking for cluster %s during epoch %d ***' % (d['cluster_id'], d['epoch']))\n",
    "print('# of spikes = %d' % spiking.point_times.shape[0])\n",
    "print('# of intervals = %d' % len(spiking.valid_intervals))\n",
    "print('duration of intervals = %0.2f s' % np.sum(spiking.valid_intervals.durations()))\n",
    "\n",
    "\n",
    "# Plot spiking\n",
    "spikeplots = [(spiking_all, 'All spiking'),\n",
    "              (spiking_behav, 'Spikes in\\nnon-sleep epochs'),\n",
    "              (spiking, 'Spikes in\\nepoch %s' % d['epoch'])]\n",
    "\n",
    "fig1 = plt.figure(1, figsize=(15,3))\n",
    "ax1 = fig1.add_subplot(1, 1, 1)\n",
    "plot_PointData_multiple(spikeplots, axis=ax1)\n",
    "\n",
    "fig2 = plt.figure(2, figsize=(15,2))\n",
    "ax2 = fig2.add_subplot(1, 1, 1)\n",
    "plot_PointData_multiple([spikeplots[2]], axis=ax2)\n",
    "ax2.set_title(\"Zooming in...\")\n",
    "\n",
    "pass # suppress output"
   ]
  },
  {
   "cell_type": "markdown",
   "metadata": {},
   "source": [
    "### Analysis: Find time intervals where speed > threshold\n",
    "#### ContinuousData (speed), lambda function --> EventData (time periods where animal speed > threshold)\n",
    "This is an _analysis_, not a query, because we are not simply selecting a subset of a given datatype. i.e. We are not asking for a subset of the speed data, but rather for the intervals where it fulfills a lambda function. The lambda function could have been something different, like \"find the times of all upward threshold crossings, and then pad this by 5 seconds on either side.\". Regardless of how simple or complex the lambda function is, we consider this to be an analysis. Using the output of this to select a subset of the spiking data, however, is a query."
   ]
  },
  {
   "cell_type": "code",
   "execution_count": 123,
   "metadata": {},
   "outputs": [
    {
     "name": "stdout",
     "output_type": "stream",
     "text": [
      "*** Times where speed > threshold ***\n",
      "# of events = 264\n",
      "duration of events = 376.94 s\n",
      "# of valid intervals = 1\n",
      "duration of intervals = 936.96 s\n"
     ]
    }
   ],
   "source": [
    "speed_threshold_fn = lambda x: x > c['speed_threshold']\n",
    "speed_events = speed.filter_intervals(speed_threshold_fn)\n",
    "\n",
    "print('*** Times where speed > threshold ***')\n",
    "print('# of events = %d' % len(speed_events.event_intervals))\n",
    "print('duration of events = %0.2f s' % np.sum(speed_events.durations()))\n",
    "print('# of valid intervals = %d' % len(speed_events.valid_intervals))\n",
    "print('duration of intervals = %0.2f s' % np.sum(speed_events.valid_durations()))\n",
    "\n",
    "# TODO: Plot continuous speed\n",
    "\n",
    "# TODO: Plot speed events\n",
    "# fig1 = plt.figure(1, figsize=(15,1.5))\n",
    "# ax1 = fig1.add_subplot(1,1,1)\n",
    "# plot_EventData(speed_events, axis=ax1, ypos=1)\n",
    "# ax1.set_yticks([1])\n",
    "# ax1.set_yticklabels(['Run events (speed>threshold)']) # eventually use metadata from PointData object\n",
    "# ax1.set_xlim(xl)\n",
    "# pass # suppress output"
   ]
  },
  {
   "cell_type": "markdown",
   "metadata": {},
   "source": [
    "### Query: spiking during time intervals where speed > threshold\n",
    "#### PointData (spiking), EventData (bouts where speed > threshold) --> PointData (spiking)"
   ]
  },
  {
   "cell_type": "code",
   "execution_count": 124,
   "metadata": {},
   "outputs": [
    {
     "name": "stdout",
     "output_type": "stream",
     "text": [
      "*** Spiking where speed > threshold ***\n",
      "# of spikes = 295\n",
      "# of intervals = 251\n",
      "duration of intervals = 359.06 s\n",
      "\n",
      "<nwb_query.PointData object at 0x116de1860>\n"
     ]
    },
    {
     "data": {
      "image/png": "[encoded data removed]",
      "text/plain": [
       "<Figure size 1080x108 with 1 Axes>"
      ]
     },
     "metadata": {
      "needs_background": "light"
     },
     "output_type": "display_data"
    }
   ],
   "source": [
    "spiking_run = spiking.time_query(speed_events)  # Use the built-in time query method on PointProcess\n",
    "\n",
    "print('*** Spiking where speed > threshold ***')\n",
    "print('# of spikes = %d' % len(spiking_run.point_times))\n",
    "print('# of intervals = %d' % len(spiking_run.valid_intervals))\n",
    "print('duration of intervals = %0.2f s' % np.sum(spiking_run.valid_intervals.durations()))\n",
    "print()\n",
    "\n",
    "print(spiking_run)\n",
    "\n",
    "# Plot spiking\n",
    "fig1 = plt.figure(1, figsize=(15,1.5))\n",
    "ax1 = fig1.add_subplot(1, 1, 1)\n",
    "plot_PointData_multiple([(spiking_run, 'Spiking during run')], axis=ax1)\n",
    "\n",
    "pass # suppress output"
   ]
  },
  {
   "cell_type": "markdown",
   "metadata": {},
   "source": [
    "### Analysis: Mark animal position at the time of each spike\n",
    "#### PointData (spiking), ContinuousData (position [m x 2]) --> PointData with marks (spike times with associated positions)"
   ]
  },
  {
   "cell_type": "code",
   "execution_count": 125,
   "metadata": {},
   "outputs": [
    {
     "name": "stdout",
     "output_type": "stream",
     "text": [
      "*** Spiking where speed > threshold, marked with position ***\n",
      "# of marked spikes = 295\n",
      "# of intervals = 251\n",
      "duration of intervals = 359.06 s\n",
      "\n"
     ]
    }
   ],
   "source": [
    "spiking_run_mark_pos = spiking_run.mark_with_ContinuousData(position)\n",
    "\n",
    "print('*** Spiking where speed > threshold, marked with position ***')\n",
    "print('# of marked spikes = %d' % len(spiking_run_mark_pos.point_times))\n",
    "print('# of intervals = %d' % len(spiking_run_mark_pos.valid_intervals))\n",
    "print('duration of intervals = %0.2f s' % np.sum(spiking_run_mark_pos.valid_intervals.durations()))\n",
    "print()"
   ]
  },
  {
   "cell_type": "code",
   "execution_count": null,
   "metadata": {},
   "outputs": [],
   "source": []
  },
  {
   "cell_type": "markdown",
   "metadata": {},
   "source": [
    "### Query: Get animal locations during running events\n",
    "#### ContinuousData (position [m x 2]), EventData (bouts where speed > threshold) --> ContinuousData (position [m_new x 2])"
   ]
  },
  {
   "cell_type": "code",
   "execution_count": 110,
   "metadata": {},
   "outputs": [
    {
     "name": "stdout",
     "output_type": "stream",
     "text": [
      "*** Position where speed > threshold ***\n",
      "# of samples = 11561\n",
      "# of intervals = 264\n",
      "duration of intervals = 376.94 s\n",
      "\n"
     ]
    }
   ],
   "source": [
    "position_run = position.time_query(speed_events)\n",
    "\n",
    "print('*** Position where speed > threshold ***')\n",
    "print('# of samples = %d' % position_run.samples.shape[0])\n",
    "print('# of intervals = %d' % len(position_run.valid_intervals))\n",
    "print('duration of intervals = %0.2f s' % np.sum(position_run.valid_intervals.durations()))\n",
    "print()"
   ]
  },
  {
   "cell_type": "markdown",
   "metadata": {},
   "source": [
    "### Plot spikes by location"
   ]
  },
  {
   "cell_type": "code",
   "execution_count": 111,
   "metadata": {},
   "outputs": [
    {
     "ename": "TypeError",
     "evalue": "unhashable type: 'slice'",
     "output_type": "error",
     "traceback": [
      "\u001b[0;31m---------------------------------------------------------------------------\u001b[0m",
      "\u001b[0;31mTypeError\u001b[0m                                 Traceback (most recent call last)",
      "\u001b[0;32m<ipython-input-111-ce0cedcecd0f>\u001b[0m in \u001b[0;36m<module>\u001b[0;34m\u001b[0m\n\u001b[1;32m      4\u001b[0m \u001b[0;34m\u001b[0m\u001b[0m\n\u001b[1;32m      5\u001b[0m \u001b[0;31m# Line showing the animal's movement during the entire epoch\u001b[0m\u001b[0;34m\u001b[0m\u001b[0;34m\u001b[0m\u001b[0;34m\u001b[0m\u001b[0m\n\u001b[0;32m----> 6\u001b[0;31m \u001b[0mplt\u001b[0m\u001b[0;34m.\u001b[0m\u001b[0mplot\u001b[0m\u001b[0;34m(\u001b[0m\u001b[0mposition\u001b[0m\u001b[0;34m.\u001b[0m\u001b[0msamples\u001b[0m\u001b[0;34m[\u001b[0m\u001b[0;34m:\u001b[0m\u001b[0;34m,\u001b[0m\u001b[0;36m0\u001b[0m\u001b[0;34m]\u001b[0m\u001b[0;34m,\u001b[0m \u001b[0mposition\u001b[0m\u001b[0;34m.\u001b[0m\u001b[0msamples\u001b[0m\u001b[0;34m[\u001b[0m\u001b[0;34m:\u001b[0m\u001b[0;34m,\u001b[0m\u001b[0;36m1\u001b[0m\u001b[0;34m]\u001b[0m\u001b[0;34m,\u001b[0m \u001b[0mmarker\u001b[0m\u001b[0;34m=\u001b[0m\u001b[0;34m''\u001b[0m\u001b[0;34m,\u001b[0m \u001b[0mcolor\u001b[0m\u001b[0;34m=\u001b[0m\u001b[0;34m'gray'\u001b[0m\u001b[0;34m,\u001b[0m \u001b[0mlabel\u001b[0m\u001b[0;34m=\u001b[0m\u001b[0;34m'Rat location'\u001b[0m\u001b[0;34m,\u001b[0m \u001b[0mzorder\u001b[0m\u001b[0;34m=\u001b[0m\u001b[0;36m1\u001b[0m\u001b[0;34m)\u001b[0m\u001b[0;34m\u001b[0m\u001b[0;34m\u001b[0m\u001b[0m\n\u001b[0m\u001b[1;32m      7\u001b[0m \u001b[0;34m\u001b[0m\u001b[0m\n\u001b[1;32m      8\u001b[0m \u001b[0;31m# Lines showing animal movement during each interval where it was running\u001b[0m\u001b[0;34m\u001b[0m\u001b[0;34m\u001b[0m\u001b[0;34m\u001b[0m\u001b[0m\n",
      "\u001b[0;32m~/anaconda/envs/pynwb/lib/python3.6/site-packages/pandas/core/frame.py\u001b[0m in \u001b[0;36m__getitem__\u001b[0;34m(self, key)\u001b[0m\n\u001b[1;32m   2686\u001b[0m             \u001b[0;32mreturn\u001b[0m \u001b[0mself\u001b[0m\u001b[0;34m.\u001b[0m\u001b[0m_getitem_multilevel\u001b[0m\u001b[0;34m(\u001b[0m\u001b[0mkey\u001b[0m\u001b[0;34m)\u001b[0m\u001b[0;34m\u001b[0m\u001b[0;34m\u001b[0m\u001b[0m\n\u001b[1;32m   2687\u001b[0m         \u001b[0;32melse\u001b[0m\u001b[0;34m:\u001b[0m\u001b[0;34m\u001b[0m\u001b[0;34m\u001b[0m\u001b[0m\n\u001b[0;32m-> 2688\u001b[0;31m             \u001b[0;32mreturn\u001b[0m \u001b[0mself\u001b[0m\u001b[0;34m.\u001b[0m\u001b[0m_getitem_column\u001b[0m\u001b[0;34m(\u001b[0m\u001b[0mkey\u001b[0m\u001b[0;34m)\u001b[0m\u001b[0;34m\u001b[0m\u001b[0;34m\u001b[0m\u001b[0m\n\u001b[0m\u001b[1;32m   2689\u001b[0m \u001b[0;34m\u001b[0m\u001b[0m\n\u001b[1;32m   2690\u001b[0m     \u001b[0;32mdef\u001b[0m \u001b[0m_getitem_column\u001b[0m\u001b[0;34m(\u001b[0m\u001b[0mself\u001b[0m\u001b[0;34m,\u001b[0m \u001b[0mkey\u001b[0m\u001b[0;34m)\u001b[0m\u001b[0;34m:\u001b[0m\u001b[0;34m\u001b[0m\u001b[0;34m\u001b[0m\u001b[0m\n",
      "\u001b[0;32m~/anaconda/envs/pynwb/lib/python3.6/site-packages/pandas/core/frame.py\u001b[0m in \u001b[0;36m_getitem_column\u001b[0;34m(self, key)\u001b[0m\n\u001b[1;32m   2693\u001b[0m         \u001b[0;31m# get column\u001b[0m\u001b[0;34m\u001b[0m\u001b[0;34m\u001b[0m\u001b[0;34m\u001b[0m\u001b[0m\n\u001b[1;32m   2694\u001b[0m         \u001b[0;32mif\u001b[0m \u001b[0mself\u001b[0m\u001b[0;34m.\u001b[0m\u001b[0mcolumns\u001b[0m\u001b[0;34m.\u001b[0m\u001b[0mis_unique\u001b[0m\u001b[0;34m:\u001b[0m\u001b[0;34m\u001b[0m\u001b[0;34m\u001b[0m\u001b[0m\n\u001b[0;32m-> 2695\u001b[0;31m             \u001b[0;32mreturn\u001b[0m \u001b[0mself\u001b[0m\u001b[0;34m.\u001b[0m\u001b[0m_get_item_cache\u001b[0m\u001b[0;34m(\u001b[0m\u001b[0mkey\u001b[0m\u001b[0;34m)\u001b[0m\u001b[0;34m\u001b[0m\u001b[0;34m\u001b[0m\u001b[0m\n\u001b[0m\u001b[1;32m   2696\u001b[0m \u001b[0;34m\u001b[0m\u001b[0m\n\u001b[1;32m   2697\u001b[0m         \u001b[0;31m# duplicate columns & possible reduce dimensionality\u001b[0m\u001b[0;34m\u001b[0m\u001b[0;34m\u001b[0m\u001b[0;34m\u001b[0m\u001b[0m\n",
      "\u001b[0;32m~/anaconda/envs/pynwb/lib/python3.6/site-packages/pandas/core/generic.py\u001b[0m in \u001b[0;36m_get_item_cache\u001b[0;34m(self, item)\u001b[0m\n\u001b[1;32m   2485\u001b[0m         \u001b[0;34m\"\"\"Return the cached item, item represents a label indexer.\"\"\"\u001b[0m\u001b[0;34m\u001b[0m\u001b[0;34m\u001b[0m\u001b[0m\n\u001b[1;32m   2486\u001b[0m         \u001b[0mcache\u001b[0m \u001b[0;34m=\u001b[0m \u001b[0mself\u001b[0m\u001b[0;34m.\u001b[0m\u001b[0m_item_cache\u001b[0m\u001b[0;34m\u001b[0m\u001b[0;34m\u001b[0m\u001b[0m\n\u001b[0;32m-> 2487\u001b[0;31m         \u001b[0mres\u001b[0m \u001b[0;34m=\u001b[0m \u001b[0mcache\u001b[0m\u001b[0;34m.\u001b[0m\u001b[0mget\u001b[0m\u001b[0;34m(\u001b[0m\u001b[0mitem\u001b[0m\u001b[0;34m)\u001b[0m\u001b[0;34m\u001b[0m\u001b[0;34m\u001b[0m\u001b[0m\n\u001b[0m\u001b[1;32m   2488\u001b[0m         \u001b[0;32mif\u001b[0m \u001b[0mres\u001b[0m \u001b[0;32mis\u001b[0m \u001b[0;32mNone\u001b[0m\u001b[0;34m:\u001b[0m\u001b[0;34m\u001b[0m\u001b[0;34m\u001b[0m\u001b[0m\n\u001b[1;32m   2489\u001b[0m             \u001b[0mvalues\u001b[0m \u001b[0;34m=\u001b[0m \u001b[0mself\u001b[0m\u001b[0;34m.\u001b[0m\u001b[0m_data\u001b[0m\u001b[0;34m.\u001b[0m\u001b[0mget\u001b[0m\u001b[0;34m(\u001b[0m\u001b[0mitem\u001b[0m\u001b[0;34m)\u001b[0m\u001b[0;34m\u001b[0m\u001b[0;34m\u001b[0m\u001b[0m\n",
      "\u001b[0;31mTypeError\u001b[0m: unhashable type: 'slice'"
     ]
    },
    {
     "data": {
      "image/png": "[encoded data removed]",
      "text/plain": [
       "<Figure size 1080x1080 with 1 Axes>"
      ]
     },
     "metadata": {
      "needs_background": "light"
     },
     "output_type": "display_data"
    }
   ],
   "source": [
    "fig1 = plt.figure(1, figsize=(15,15))\n",
    "ax1 = fig1.add_subplot(1, 1, 1)\n",
    "ax1.axis('equal')\n",
    "\n",
    "# Line showing the animal's movement during the entire epoch\n",
    "plt.plot(position.samples['x'], position.samples['y'], marker='', color='gray', label='Rat location', zorder=1)\n",
    "\n",
    "# Lines showing animal movement during each interval where it was running\n",
    "run_label = 'Rat location during movement'\n",
    "for ivl in position_run.valid_intervals:\n",
    "    ivl_data = position.time_query(TimeIntervals(ivl)).samples  # position at this valid interval \n",
    "    plt.plot(ivl_data['x'], ivl_data['y'], marker='', color='red', label=run_label, zorder=2)\n",
    "    run_label = '_' # omit later lines from legend\n",
    "\n",
    "# Markers for locations where unit spiked during animal running\n",
    "plt.scatter(spiking_run_mark_pos.marks['x'], spiking_run_mark_pos.marks['y'], marker='D', s=50, label='Location at spike times during movement', zorder=3)\n",
    "\n",
    "ax1.legend()\n",
    "ax1.set_xlabel('X position (m)')\n",
    "ax1.set_ylabel('Y position (m)')\n",
    "ax1.set_title('Spike-position map for {} d{} e{} c{}, speed > {:0.1f} cm/s'.format(d['anim'], d['day'], d['epoch'], d['cluster_id'], (c['speed_threshold'] * 100)))\n",
    "pass"
   ]
  },
  {
   "cell_type": "code",
   "execution_count": null,
   "metadata": {},
   "outputs": [],
   "source": []
  }
 ],
 "metadata": {
  "kernelspec": {
   "display_name": "Python 3",
   "language": "python",
   "name": "python3"
  },
  "language_info": {
   "codemirror_mode": {
    "name": "ipython",
    "version": 3
   },
   "file_extension": ".py",
   "mimetype": "text/x-python",
   "name": "python",
   "nbconvert_exporter": "python",
   "pygments_lexer": "ipython3",
   "version": "3.6.7"
  }
 },
 "nbformat": 4,
 "nbformat_minor": 2
}
