{
 "cells": [
  {
   "cell_type": "code",
   "execution_count": null,
   "metadata": {},
   "outputs": [],
   "source": [
    "# debug settings\n",
    "limit_num_of_tets = None # To speed up testing. Set to None to load all tets\n",
    "\n",
    "# Session-specific params\n",
    "data_path = '/opt/data46/FrankData/kkay/Bon/'\n",
    "#data_dir = '/Users/tjd/Data/FrankData/kkay/Bon'\n",
    "data_source = 'Animal Bond'\n",
    "anim = 'Bon' \n",
    "day = 3 # below we'll code date as 2006-Jan-'Day'\n",
    "\n",
    "# 'Wall clock' (i.e. actual) date and time of the Nspike time = 0 for this experiment.\n",
    "# NOTE: this is not the true zero_time, as we don't have easy access to that without digging in lab notebooks.\n",
    "# TODO: dig in lab notebooks, at least to get the date of recording.\n",
    "nspike_zero_time = datetime(2006, 1, day, 12, 0, 0, tzinfo=tz.gettz('US/Pacific'))\n",
    "\n",
    "\n",
    "nwbf = nspike_day_to_nwb(\n",
    "        data_path=data_path,   # Path to anim directory \n",
    "        anim_name='Bond'             # e.g. Bond\n",
    "        anim_prefix='Bon', # 3-letter prefix, e.g. Bon \n",
    "        day_num=3,\n",
    "        nspike_zero_time = nspike_zero_time, # tz-aware datetime corresponding to NSpike t=0 \n",
    "        limit_num_of_tets=None, # debugging"
   ]
  }
 ],
 "metadata": {
  "kernelspec": {
   "display_name": "Python 3",
   "language": "python",
   "name": "python3"
  },
  "language_info": {
   "codemirror_mode": {
    "name": "ipython",
    "version": 3
   },
   "file_extension": ".py",
   "mimetype": "text/x-python",
   "name": "python",
   "nbconvert_exporter": "python",
   "pygments_lexer": "ipython3",
   "version": "3.6.6"
  }
 },
 "nbformat": 4,
 "nbformat_minor": 2
}
