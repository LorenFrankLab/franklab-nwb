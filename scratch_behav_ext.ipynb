{
 "cells": [
  {
   "cell_type": "code",
   "execution_count": 1,
   "metadata": {},
   "outputs": [],
   "source": [
    "%load_ext autoreload\n",
    "%autoreload 2\n",
    "\n",
    "import numpy as np\n",
    "import networkx as nx\n",
    "from datetime import datetime\n",
    "from dateutil import tz\n",
    "import matplotlib.pyplot as plt\n",
    "\n",
    "import pynwb\n",
    "from pynwb import get_class, register_class, load_namespaces\n",
    "from pynwb.form.utils import docval, getargs, popargs, call_docval_func\n",
    "from pynwb.file import MultiContainerInterface, NWBContainer, NWBDataInterface\n",
    "from pynwb.spec import NWBNamespaceBuilder, NWBGroupSpec, NWBAttributeSpec"
   ]
  },
  {
   "cell_type": "code",
   "execution_count": 2,
   "metadata": {},
   "outputs": [],
   "source": [
    "name = 'multicontainerinterface'\n",
    "ns_path = name + \".namespace.yaml\"\n",
    "ext_source = name + \".extensions.yaml\"\n",
    "\n",
    "node = NWBGroupSpec(neurodata_type_def='Node',\n",
    "                    neurodata_type_inc='NWBDataInterface',\n",
    "                    doc='node in apparatus'\n",
    "                    )\n",
    "\n",
    "node_instance = NWBGroupSpec(neurodata_type_inc='Node',\n",
    "                            doc='node in apparatus', \n",
    "                            quantity='*',\n",
    "                            )\n",
    "\n",
    "special_node = NWBGroupSpec(neurodata_type_def='SpecialNode',\n",
    "                            neurodata_type_inc='Node',\n",
    "                            doc='special node in apparatus', \n",
    "                            quantity='*',\n",
    "                            attributes=[NWBAttributeSpec(name='special',\n",
    "                                                doc='why the node is special',\n",
    "                                                dtype='text',\n",
    "                                                value=\"just a very cool node\")]\n",
    "                            )\n",
    "\n",
    "appar = NWBGroupSpec(neurodata_type_def='ApparatusGraph',\n",
    "                     neurodata_type_inc='NWBDataInterface',\n",
    "                     name='apparatus_graph',\n",
    "                     doc='graph of apparatus', \n",
    "                     groups=[node_instance],\n",
    "                    )\n",
    "\n",
    "\n",
    "ns_builder = NWBNamespaceBuilder(name + ' extensions', name)\n",
    "\n",
    "ns_builder.add_spec(ext_source, node)\n",
    "ns_builder.add_spec(ext_source, appar)\n",
    "ns_builder.add_spec(ext_source, special_node)\n",
    "ns_builder.export(ns_path)"
   ]
  },
  {
   "cell_type": "code",
   "execution_count": 3,
   "metadata": {},
   "outputs": [],
   "source": [
    "load_namespaces(ns_path)\n",
    "\n",
    "@register_class('Node', 'multicontainerinterface')\n",
    "class Node(NWBDataInterface):\n",
    "\n",
    "    __nwbfields__ = ('name',)\n",
    "        \n",
    "    @docval({'name': 'name', 'type': str, 'doc': 'name of this node'})\n",
    "    def __init__(self, **kwargs):\n",
    "        super(Node, self).__init__(name=kwargs['name'])\n",
    "        \n",
    "@register_class('SpecialNode', 'multicontainerinterface')\n",
    "class SpecialNode(Node):\n",
    "\n",
    "    __nwbfields__ = ('name', 'special')\n",
    "        \n",
    "    @docval({'name': 'name', 'type': str, 'doc': 'name of this node'},\n",
    "            {'name': 'special', 'type': str, 'doc': 'why this node is special'})\n",
    "    def __init__(self, **kwargs):\n",
    "        super(Node, self).__init__(name=kwargs['name'])\n",
    "        self.special = kwargs['special']\n",
    "\n",
    "\n",
    "@register_class('ApparatusGraph', 'multicontainerinterface')\n",
    "class ApparatusGraph(MultiContainerInterface):\n",
    "    \"\"\"\n",
    "    Graph of FL_ApparatusNodes connected by undirected FL_ApparatusEdges.\n",
    "    Represents behaviorally reachable components of an apparatus.\n",
    "    \"\"\"\n",
    "    \n",
    "    __clsconf__ = {\n",
    "        'attr': 'my_node',\n",
    "        'type': NWBDataInterface,\n",
    "        'add': 'add_node',\n",
    "        'get': 'get_node',\n",
    "        'create': 'create_node',\n",
    "    }\n",
    "\n",
    "    __help = 'info about ApparatusGraph'"
   ]
  },
  {
   "cell_type": "code",
   "execution_count": 4,
   "metadata": {},
   "outputs": [
    {
     "name": "stdout",
     "output_type": "stream",
     "text": [
      "\n",
      "hello world <class '__main__.ApparatusGraph'>\n",
      "Fields:\n",
      "  my_node: { FlyingNode <class '__main__.SpecialNode'> }\n",
      "\n"
     ]
    }
   ],
   "source": [
    "appar = ApparatusGraph(name='hello world')\n",
    "appar.add_node(SpecialNode(name='FlyingNode', special='this node can fly'))\n",
    "print(appar)"
   ]
  },
  {
   "cell_type": "code",
   "execution_count": 5,
   "metadata": {},
   "outputs": [
    {
     "name": "stdout",
     "output_type": "stream",
     "text": [
      "None\n"
     ]
    }
   ],
   "source": [
    "import inspect\n",
    "print(inspect.getcomments(appar.get_node))"
   ]
  },
  {
   "cell_type": "code",
   "execution_count": 6,
   "metadata": {},
   "outputs": [
    {
     "name": "stderr",
     "output_type": "stream",
     "text": [
      "/Users/ericmiller/Src/pynwb/src/pynwb/file.py:612: UserWarning: Date is missing timezone information. Updating to local timezone.\n",
      "  warn(\"Date is missing timezone information. Updating to local timezone.\")\n",
      "/Users/ericmiller/Src/pynwb/src/pynwb/form/build/map.py:881: MissingRequiredWarning: attribute 'help' for 'apparatus_graph' (ApparatusGraph)\n",
      "  warnings.warn(msg, MissingRequiredWarning)\n"
     ]
    }
   ],
   "source": [
    "nwbfile = pynwb.NWBFile(\"a file\", \"appar_test\", datetime(2018, 6, 1))\n",
    "pmod = nwbfile.create_processing_module('behavior', 'behavior data and metadata')\n",
    "pmod.add_container(appar)\n",
    "\n",
    "with pynwb.NWBHDF5IO('appar_test.nwb', 'w') as io:\n",
    "    io.write(nwbfile)"
   ]
  },
  {
   "cell_type": "code",
   "execution_count": 7,
   "metadata": {},
   "outputs": [
    {
     "name": "stdout",
     "output_type": "stream",
     "text": [
      "\n",
      "apparatus_graph <class '__main__.ApparatusGraph'>\n",
      "Fields:\n",
      "  my_node: { }\n",
      "\n"
     ]
    }
   ],
   "source": [
    "io = pynwb.NWBHDF5IO('appar_test.nwb', 'r')\n",
    "nwb = io.read()\n",
    "print(nwb.get_processing_module()['behavior'])"
   ]
  },
  {
   "cell_type": "code",
   "execution_count": null,
   "metadata": {},
   "outputs": [],
   "source": [
    "help(nwb.get_processing_module()['behavior'])"
   ]
  },
  {
   "cell_type": "code",
   "execution_count": null,
   "metadata": {},
   "outputs": [],
   "source": [
    "io.close()"
   ]
  },
  {
   "cell_type": "code",
   "execution_count": null,
   "metadata": {},
   "outputs": [],
   "source": []
  },
  {
   "cell_type": "code",
   "execution_count": null,
   "metadata": {},
   "outputs": [],
   "source": []
  }
 ],
 "metadata": {
  "kernelspec": {
   "display_name": "Python 3",
   "language": "python",
   "name": "python3"
  },
  "language_info": {
   "codemirror_mode": {
    "name": "ipython",
    "version": 3
   },
   "file_extension": ".py",
   "mimetype": "text/x-python",
   "name": "python",
   "nbconvert_exporter": "python",
   "pygments_lexer": "ipython3",
   "version": "3.6.7"
  }
 },
 "nbformat": 4,
 "nbformat_minor": 2
}
