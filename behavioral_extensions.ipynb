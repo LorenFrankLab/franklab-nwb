{
 "cells": [
  {
   "cell_type": "code",
   "execution_count": null,
   "metadata": {},
   "outputs": [],
   "source": [
    "%load_ext autoreload\n",
    "%autoreload 2\n",
    "\n",
    "import numpy as np\n",
    "import networkx as nx\n",
    "\n",
    "import pynwb\n",
    "from pynwb import get_class\n",
    "from pynwb import register_class\n",
    "from pynwb.form.utils import docval, getargs, popargs, call_docval_func\n",
    "\n",
    "from datetime import datetime\n",
    "from dateutil import tz\n",
    "\n",
    "import matplotlib.pyplot as plt"
   ]
  },
  {
   "cell_type": "markdown",
   "metadata": {},
   "source": [
    "### Build the track in NetworkX"
   ]
  },
  {
   "cell_type": "code",
   "execution_count": null,
   "metadata": {},
   "outputs": [],
   "source": [
    "# Initialize a graph\n",
    "G = nx.Graph(name='w-track')\n",
    "\n",
    "# Add nodes to the graph\n",
    "# ----------------------\n",
    "# Segments\n",
    "G.add_node('L', coords=[(1.6, 2.2), (1.6, 0.65)], intermediate_coords=None, kind='segment')\n",
    "G.add_node('LC', coords=[(1.6, 0.65), (1.9, 0.65)], intermediate_coords=None, kind='segment')  \n",
    "G.add_node('C', coords=[(1.9, 0.65), (1.9, 2.2)], intermediate_coords=None, kind='segment')  \n",
    "G.add_node('RC', coords=[(1.9, 0.65), (2.2, 0.65)], intermediate_coords=None, kind='segment')  \n",
    "G.add_node('R', coords=[(2.2, 0.65), (2.2, 2.2)], intermediate_coords=None, kind='segment')  \n",
    "G.add_node('EH', coords=[(1.9, 0.4), (1.9, 0.65)], intermediate_coords=None, kind='segment')\n",
    "# Points\n",
    "G.add_node('LW', coords=[(1.6, 2.2)], kind='point')\n",
    "G.add_node('CW', coords=[(1.9, 2.2)], kind='point')\n",
    "G.add_node('RW', coords=[(2.2, 2.2)], kind='point')\n",
    "G.add_node('CP', coords=[(1.9, 0.65)], kind='point')\n",
    "G.add_node('SBD', coords=[(1.9, 0.4)], kind='point')\n",
    "# Polygon areas\n",
    "G.add_node('SB', coords=[(1.8, 0.4), (1.9, 0.4), (2.0, 0.4), (2.0, 0.0), (1.8, 0.0)], \n",
    "           interior_coords=None, kind='polygon')\n",
    "\n",
    "# Add edges connecting the appropriate nodes\n",
    "# -----------------------------------------\n",
    "# Segment <-> Segment       (Segs must share a coord)\n",
    "G.add_edge('L', 'LC')\n",
    "G.add_edge('RC', 'R')\n",
    "# Segment <-> Well (Point)  (Seg must share a coord with the well)\n",
    "G.add_edge('L', 'LW')\n",
    "G.add_edge('C', 'CW')\n",
    "G.add_edge('R', 'RW')\n",
    "# Choice Point (Point) <-> Segments  (Seg must share a coord with the choice point)\n",
    "G.add_edge('CP', 'C')\n",
    "G.add_edge('CP', 'LC')\n",
    "G.add_edge('CP', 'RC')\n",
    "G.add_edge('CP', 'EH')\n",
    "# Door (Point) <-> Segment  (Segment must share a coord with the door)\n",
    "G.add_edge('SBD', 'EH')\n",
    "# Polygon <-> Door (Point)  (Area must share a coord with the door)\n",
    "G.add_edge('SB', 'SBD')"
   ]
  },
  {
   "cell_type": "markdown",
   "metadata": {},
   "source": [
    "### Plot the track topology from NetworkX"
   ]
  },
  {
   "cell_type": "code",
   "execution_count": null,
   "metadata": {},
   "outputs": [],
   "source": [
    "ax = plt.subplot(111)\n",
    "ax.axes.get_xaxis().set_visible(False)\n",
    "ax.axes.get_yaxis().set_visible(False)\n",
    "plt.title(\"W-track topology\")\n",
    "nx.draw_networkx(G, fontsize=6)\n",
    "pass"
   ]
  },
  {
   "cell_type": "markdown",
   "metadata": {},
   "source": [
    "### Plot geometry from NetworkX"
   ]
  },
  {
   "cell_type": "code",
   "execution_count": null,
   "metadata": {},
   "outputs": [],
   "source": [
    "ax = plt.subplot(111)\n",
    "plt.title('W-track geometry')\n",
    "for n, attrs in list(G.nodes.data()):\n",
    "    if attrs['kind']=='point':\n",
    "        coord = attrs['coords'][0]\n",
    "        plt.scatter([coord[0]], [coord[1]], color='r')\n",
    "    elif attrs['kind']=='segment':\n",
    "        start, end = attrs['coords']\n",
    "        plt.plot([start[0], end[0]], [start[1], end[1]], color='k')\n",
    "    elif attrs['kind']=='polygon':\n",
    "        poly = attrs['coords']\n",
    "        xs = [e[0] for e in poly]\n",
    "        ys = [e[1] for e in poly]\n",
    "        plt.fill(xs, ys, color='grey', alpha=0.4)\n",
    "    else:\n",
    "        raise TypeError(\"Nodes must have 'kind' point, segment, or polygon.\")\n",
    "plt.xlabel('x pos (meters)')\n",
    "plt.ylabel('y pos (meters)')\n",
    "pass "
   ]
  },
  {
   "cell_type": "markdown",
   "metadata": {},
   "source": [
    "### Load extension and get Python classes for the FL_ApparatusNodes\n",
    "\n",
    "Note that the get_class() methods turn all parameters into type list/tuple/dict/set. \n",
    "This works for Nodes, since they just have coords that we can view as a list of (x, y) \n",
    "tuples as a convention. It also works for Edges, which we can view as a list of two Nodes\n",
    "as convention. However, we might want to write our own Python classes at some\n",
    "point to enforce the behavior we want, instead of just using named lists for these parameters."
   ]
  },
  {
   "cell_type": "code",
   "execution_count": null,
   "metadata": {},
   "outputs": [],
   "source": [
    "ns_path = \"franklab.namespace.yaml\"\n",
    "pynwb.load_namespaces(ns_path)"
   ]
  },
  {
   "cell_type": "code",
   "execution_count": null,
   "metadata": {},
   "outputs": [],
   "source": [
    "from pynwb import register_class, load_namespaces\n",
    "from pynwb.file import MultiContainerInterface, NWBContainer\n",
    "\n",
    "@register_class('Node', 'franklab')\n",
    "class Node(NWBContainer):\n",
    "\n",
    "    __nwbfields__ = ('name', 'coords')\n",
    "    \n",
    "    __help = 'info about FL_ApparatusNode'\n",
    "    \n",
    "    @docval({'name': 'name', 'type': str, 'doc': 'name of this node'}, \n",
    "            {'name': 'coords', 'type': ('array_data', 'data'), 'doc': 'coords for this node'})\n",
    "    def __init__(self, **kwargs):\n",
    "        super(Node, self).__init__(name=kwargs['name'])\n",
    "        self.coords = kwargs['coords']\n",
    "        \n",
    "@register_class('Edge', 'franklab')\n",
    "class Edge(NWBContainer):\n",
    "\n",
    "    __nwbfields__ = ('name', 'edge_nodes')\n",
    "\n",
    "    @docval({'name': 'name', 'type': str, 'doc': 'name of this segement node'},\n",
    "            {'name': 'edge_nodes', 'type': ('array_data', 'data'), \n",
    "             'doc': 'the names of the two nodes in this undirected edge'})\n",
    "    def __init__(self, **kwargs):\n",
    "        super(Edge, self).__init__(name=kwargs['name'])\n",
    "        self.edge_nodes = kwargs['edge_nodes']\n",
    "        \n",
    "@register_class('FL_PointNode', 'franklab')\n",
    "class FL_PointNode(Node):\n",
    "    \n",
    "    __nwbfields__ = ('name', 'coords')\n",
    "\n",
    "    @docval({'name': 'name', 'type': str, 'doc': 'name of this point node'},\n",
    "            {'name': 'coords', 'type': ('array_data', 'data'), 'doc': 'coords of this node'})\n",
    "    def __init__(self, **kwargs):\n",
    "        super(FL_PointNode, self).__init__(name=kwargs['name'], coords=kwargs['coords'])\n",
    "        \n",
    "@register_class('FL_SegmentNode', 'franklab')\n",
    "class FL_SegmentNode(Node):\n",
    "    \n",
    "    __nwbfields__ = ('name', 'coords', 'intermediate_coords')\n",
    "\n",
    "    @docval({'name': 'name', 'type': str, 'doc': 'name of this segement node'},\n",
    "            {'name': 'coords', 'type': ('array_data', 'data'), 'doc': 'start/stoop coords of this segment'},\n",
    "            {'name': 'intermediate_coords', 'type': ('array_data', 'data'), \n",
    "             'doc': 'intermediate coords between the start/stop coords of this node', 'default': None})\n",
    "    def __init__(self, **kwargs):\n",
    "        super(FL_SegmentNode, self).__init__(name=kwargs['name'], coords=kwargs['coords'])\n",
    "        self.intermediate_coords = kwargs['intermediate_coords']\n",
    "        \n",
    "@register_class('FL_PolygonNode', 'franklab')\n",
    "class FL_PolygonNode(Node):\n",
    "\n",
    "    __nwbfields__ = ('name', 'coords', 'interior_coords')\n",
    "\n",
    "    @docval({'name': 'name', 'type': str, 'doc': 'name of this segement node'},\n",
    "            {'name': 'coords', 'type': ('array_data', 'data'), 'doc': 'vertices and exterior control points (i.e. doors) of this polygon'},\n",
    "            {'name': 'interior_coords', 'type': ('array_data', 'data'), \n",
    "             'doc': 'coords inside this polygon area (i.e. wells, objects)', 'default': None})\n",
    "    def __init__(self, **kwargs):\n",
    "        super(FL_PolygonNode, self).__init__(name=kwargs['name'], coords=kwargs['coords'])\n",
    "        self.interior_coords = kwargs['interior_coords']\n",
    " \n",
    "\n",
    "@register_class('FL_ApparatusGraph', 'franklab')\n",
    "class FL_ApparatusGraph(MultiContainerInterface):\n",
    "    \"\"\"\n",
    "    Graph of FL_ApparatusNodes connected by undirected FL_ApparatusEdges.\n",
    "    Represents behaviorally reachable components of an apparatus.\n",
    "    \"\"\"\n",
    "    \n",
    "    __nwbfields__ = ('name', 'edges', 'nodes')\n",
    "    \n",
    "    __clsconf__ = [\n",
    "        {\n",
    "        'attr': 'edges',\n",
    "        'type': Edge,\n",
    "        'add': 'add_edge',\n",
    "        'get': 'get_edge'\n",
    "        },\n",
    "        {\n",
    "        'attr': 'nodes',\n",
    "        'type': Node,\n",
    "        'add': 'add_node',\n",
    "        'get': 'get_node'\n",
    "        }\n",
    "    ]\n",
    "    __help = 'info about FL_ApparatusGraph'"
   ]
  },
  {
   "cell_type": "markdown",
   "metadata": {},
   "source": [
    "### Function for converting from NX nodes to FL_ApparatusNodes"
   ]
  },
  {
   "cell_type": "code",
   "execution_count": null,
   "metadata": {},
   "outputs": [],
   "source": [
    "def nx_to_fl_node(node_name, attrs):\n",
    "    if 'kind' not in attrs:\n",
    "        raise TypeError(\"NX node attributes must contain a 'kind' field\")\n",
    "    if 'coords' not in attrs:\n",
    "        raise TypeError(\"NX node attributes must contain a 'coords' field\")\n",
    "    if attrs['kind']=='segment':\n",
    "        if 'intermediate_coords' not in attrs:\n",
    "            raise TypeError(\"NX 'segment' nodes must contain a 'intermediate_coords' field. It can be set to None.\")\n",
    "        return FL_SegmentNode(name=node_name, coords=attrs['coords'], \n",
    "                              intermediate_coords=attrs['intermediate_coords'])\n",
    "    elif attrs['kind']=='point':\n",
    "        return FL_PointNode(name=n, coords=attrs['coords'])\n",
    "    elif attrs['kind']=='polygon':\n",
    "        if 'interior_coords' not in attrs:\n",
    "            raise TypeError(\"NX 'polygon' nodes must contain a 'interior_coords' field. It can be set to None.\")\n",
    "        return FL_PolygonNode(name=n, coords=attrs['coords'], \n",
    "                              interior_coords=attrs['interior_coords'])\n",
    "    else:\n",
    "        raise TypeError('Nodes must be of type point, segment, or polygon.')"
   ]
  },
  {
   "cell_type": "markdown",
   "metadata": {},
   "source": [
    "### Load NetworkX nodes into FL_ApparatusNode objects and add to the FL_ApparatusGraph"
   ]
  },
  {
   "cell_type": "code",
   "execution_count": null,
   "metadata": {},
   "outputs": [],
   "source": [
    "appar = FL_ApparatusGraph(name='W-track with sleep box')\n",
    "for n, attrs in list(G.nodes.data()):\n",
    "    fl_node = nx_to_fl_node(n, attrs)\n",
    "    appar.add_node(fl_node)"
   ]
  },
  {
   "cell_type": "markdown",
   "metadata": {},
   "source": [
    "### Load NetworkX edges into FL_ApparatusEdge objects"
   ]
  },
  {
   "cell_type": "code",
   "execution_count": null,
   "metadata": {},
   "outputs": [],
   "source": [
    "for (n1, n2) in G.edges:\n",
    "    name_str = n1 + '-' + n2\n",
    "    appar.add_edge(Edge(name=name_str, edge_nodes=(n1, n2)))"
   ]
  },
  {
   "cell_type": "markdown",
   "metadata": {},
   "source": [
    "### Examine our Apparatus (before saving to file)"
   ]
  },
  {
   "cell_type": "code",
   "execution_count": null,
   "metadata": {},
   "outputs": [],
   "source": [
    "print(appar)"
   ]
  },
  {
   "cell_type": "markdown",
   "metadata": {},
   "source": [
    "### Create a new NWBfile"
   ]
  },
  {
   "cell_type": "code",
   "execution_count": null,
   "metadata": {},
   "outputs": [],
   "source": [
    "anim = 'Bon' \n",
    "day = 4 # below we'll code date as 2006-Jan-'Day'\n",
    "day_str = '%02d' % day\n",
    "dataset_zero_time = datetime(2006, 1, day, 12, 0, 0, tzinfo=tz.gettz('US/Pacific'))\n",
    "file_create_date = datetime.now(tz.tzlocal())\n",
    "nwb_filename = 'apparatus_extension_test.nwb'\n",
    "\n",
    "nwbf = pynwb.NWBFile(\n",
    "           session_description='Example NWBFile with behavioral track data',\n",
    "           identifier=anim+day_str,\n",
    "           session_start_time=dataset_zero_time,\n",
    "           file_create_date=file_create_date,\n",
    "           lab='Frank Laboratory',\n",
    "           experimenter='Mattias Karlsson',\n",
    "           institution='UCSF',\n",
    "           experiment_description='Recordings from awake behaving rat')"
   ]
  },
  {
   "cell_type": "markdown",
   "metadata": {},
   "source": [
    "### Add the FL_ApparatusGraph into the NWBFile\n",
    "Here we add it as a data interface of a processing module called 'Behavior', even though the docs state that data interfaces should be used for containers that do not include metadata. (https://pynwb.readthedocs.io/en/latest/building_api.html#nwbdatainterface)"
   ]
  },
  {
   "cell_type": "code",
   "execution_count": null,
   "metadata": {},
   "outputs": [],
   "source": [
    "behav_mod = nwbf.create_processing_module(name='Behavior', \n",
    "                                          description='Behavioral data and metadata')\n",
    "behav_mod.add_container(appar)"
   ]
  },
  {
   "cell_type": "markdown",
   "metadata": {},
   "source": [
    "### Write the NWBfile"
   ]
  },
  {
   "cell_type": "code",
   "execution_count": null,
   "metadata": {},
   "outputs": [],
   "source": [
    "# Write\n",
    "with pynwb.NWBHDF5IO(nwb_filename, mode='w') as iow:\n",
    "    iow.write(nwbf, cache_spec=True)\n",
    "print('Wrote nwb file: ' + nwb_filename)"
   ]
  },
  {
   "cell_type": "markdown",
   "metadata": {},
   "source": [
    "### Read the NWBFile"
   ]
  },
  {
   "cell_type": "code",
   "execution_count": null,
   "metadata": {},
   "outputs": [],
   "source": [
    "# Read\n",
    "io = pynwb.NWBHDF5IO(nwb_filename, mode='r')\n",
    "nwbf_read = io.read()\n",
    "print('Finished reading nwb file: ' + nwb_filename)"
   ]
  },
  {
   "cell_type": "markdown",
   "metadata": {},
   "source": [
    "### Make sure our FL_ApparatusGraph is still looking good"
   ]
  },
  {
   "cell_type": "code",
   "execution_count": null,
   "metadata": {},
   "outputs": [],
   "source": [
    "appar = nwbf_read.modules['Behavior']['W-track']\n",
    "print(appar)"
   ]
  },
  {
   "cell_type": "markdown",
   "metadata": {},
   "source": [
    "### Function to directly input FL_ApparatusNodes into an NX graph"
   ]
  },
  {
   "cell_type": "code",
   "execution_count": null,
   "metadata": {},
   "outputs": [],
   "source": [
    "def add_fl_node_to_nx_graph(fl_node, nx_graph):\n",
    "    if isinstance(fl_node, FL_SegmentNode):\n",
    "        nx_graph.add_node(fl_node.name, coords=fl_node.coords, intermediate_coords=fl_node.intermediate_coords)\n",
    "    elif isinstance(fl_node, FL_PointNode):\n",
    "        nx_graph.add_node(fl_node.name, coords=fl_node.coords)\n",
    "    elif isinstance(fl_node, FL_PolygonNode):\n",
    "        nx_graph.add_node(fl_node.name, coords=fl_node.coords, interior_coords=fl_node.interior_coords)\n",
    "    else:\n",
    "        raise TypeError(\"'fl_node' must be of type FL_SegmentNode, FL_PointNode, or FL_PolygonNode\")"
   ]
  },
  {
   "cell_type": "markdown",
   "metadata": {},
   "source": [
    "### Extract graph data back out into NetworkX"
   ]
  },
  {
   "cell_type": "code",
   "execution_count": null,
   "metadata": {},
   "outputs": [],
   "source": [
    "appar = nwbf_read.modules['Behavior']['W-track']\n",
    "H = nx.Graph(name='w-track round trip')\n",
    "\n",
    "for n in appar.nodes:\n",
    "    add_fl_node_to_nx_graph(n, H)\n",
    "\n",
    "for e in appar.edges:\n",
    "    (n1, n2) = e.nodes\n",
    "    H.add_edge(n1, n2)"
   ]
  },
  {
   "cell_type": "markdown",
   "metadata": {},
   "source": [
    "### Plot track topology from NetworkX (roundtrip)"
   ]
  },
  {
   "cell_type": "code",
   "execution_count": null,
   "metadata": {},
   "outputs": [],
   "source": [
    "ax = plt.subplot(111)\n",
    "ax.axes.get_xaxis().set_visible(False)\n",
    "ax.axes.get_yaxis().set_visible(False)\n",
    "plt.title(\"W-track topology\")\n",
    "nx.draw_networkx(H, fontsize=6)\n",
    "pass"
   ]
  },
  {
   "cell_type": "markdown",
   "metadata": {},
   "source": [
    "### Plot track geometry from NetworkX (roundtrip)"
   ]
  },
  {
   "cell_type": "code",
   "execution_count": null,
   "metadata": {},
   "outputs": [],
   "source": [
    "ax = plt.subplot(111)\n",
    "plt.title('W-track geometry')\n",
    "for n, attrs in list(H.nodes.data()):\n",
    "    if attrs['kind']=='point':\n",
    "        coord = attrs['coords'][0]\n",
    "        plt.scatter([coord[0]], [coord[1]], color='r')\n",
    "    elif attrs['kind']=='segment':\n",
    "        start, end = attrs['coords']\n",
    "        plt.plot([start[0], end[0]], [start[1], end[1]], color='k')\n",
    "    elif attrs['kind']=='polygon':\n",
    "        poly = attrs['coords']\n",
    "        xs = [e[0] for e in poly]\n",
    "        ys = [e[1] for e in poly]\n",
    "        plt.fill(xs, ys, color='grey', alpha=0.4)\n",
    "    else:\n",
    "        raise TypeError(\"Nodes must have 'kind' point, segment, or polygon.\")\n",
    "plt.xlabel('x pos (meters)')\n",
    "plt.ylabel('y pos (meters)')\n",
    "pass "
   ]
  },
  {
   "cell_type": "code",
   "execution_count": null,
   "metadata": {},
   "outputs": [],
   "source": [
    "io.close()  # Close the reading file IO"
   ]
  },
  {
   "cell_type": "code",
   "execution_count": null,
   "metadata": {},
   "outputs": [],
   "source": []
  }
 ],
 "metadata": {
  "kernelspec": {
   "display_name": "Python 3",
   "language": "python",
   "name": "python3"
  },
  "language_info": {
   "codemirror_mode": {
    "name": "ipython",
    "version": 3
   },
   "file_extension": ".py",
   "mimetype": "text/x-python",
   "name": "python",
   "nbconvert_exporter": "python",
   "pygments_lexer": "ipython3",
   "version": "3.6.7"
  }
 },
 "nbformat": 4,
 "nbformat_minor": 2
}
