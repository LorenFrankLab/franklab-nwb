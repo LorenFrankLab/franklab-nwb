{
 "cells": [
  {
   "cell_type": "code",
   "execution_count": 1,
   "metadata": {},
   "outputs": [],
   "source": [
    "%load_ext autoreload\n",
    "%autoreload 2\n",
    "\n",
    "import numpy as np\n",
    "import networkx as nx\n",
    "\n",
    "import pynwb\n",
    "from pynwb import get_class\n",
    "from pynwb import register_class\n",
    "from pynwb.form.utils import docval, getargs, popargs, call_docval_func\n",
    "\n",
    "from datetime import datetime\n",
    "from dateutil import tz\n",
    "\n",
    "import matplotlib.pyplot as plt"
   ]
  },
  {
   "cell_type": "markdown",
   "metadata": {},
   "source": [
    "### Build the track in NetworkX"
   ]
  },
  {
   "cell_type": "code",
   "execution_count": 2,
   "metadata": {},
   "outputs": [],
   "source": [
    "# Initialize a graph\n",
    "G = nx.Graph(name='w-track')\n",
    "\n",
    "# Add nodes to the graph\n",
    "# ----------------------\n",
    "# Segments\n",
    "G.add_node('L', coords=[(1.6, 2.2), (1.6, 0.65)], intermediate_coords=None, kind='segment')\n",
    "G.add_node('LC', coords=[(1.6, 0.65), (1.9, 0.65)], intermediate_coords=None, kind='segment')  \n",
    "G.add_node('C', coords=[(1.9, 0.65), (1.9, 2.2)], intermediate_coords=None, kind='segment')  \n",
    "G.add_node('RC', coords=[(1.9, 0.65), (2.2, 0.65)], intermediate_coords=None, kind='segment')  \n",
    "G.add_node('R', coords=[(2.2, 0.65), (2.2, 2.2)], intermediate_coords=None, kind='segment')  \n",
    "G.add_node('EH', coords=[(1.9, 0.4), (1.9, 0.65)], intermediate_coords=None, kind='segment')\n",
    "# Points\n",
    "G.add_node('LW', coords=[(1.6, 2.2)], kind='point')\n",
    "G.add_node('CW', coords=[(1.9, 2.2)], kind='point')\n",
    "G.add_node('RW', coords=[(2.2, 2.2)], kind='point')\n",
    "G.add_node('CP', coords=[(1.9, 0.65)], kind='point')\n",
    "G.add_node('SBD', coords=[(1.9, 0.4)], kind='point')\n",
    "# Polygon areas\n",
    "G.add_node('SB', coords=[(1.8, 0.4), (1.9, 0.4), (2.0, 0.4), (2.0, 0.0), (1.8, 0.0)], \n",
    "           interior_coords=None, kind='polygon')\n",
    "\n",
    "# Add edges connecting the appropriate nodes\n",
    "# -----------------------------------------\n",
    "# Segment <-> Segment       (Segs must share a coord)\n",
    "G.add_edge('L', 'LC')\n",
    "G.add_edge('RC', 'R')\n",
    "# Segment <-> Well (Point)  (Seg must share a coord with the well)\n",
    "G.add_edge('L', 'LW')\n",
    "G.add_edge('C', 'CW')\n",
    "G.add_edge('R', 'RW')\n",
    "# Choice Point (Point) <-> Segments  (Seg must share a coord with the choice point)\n",
    "G.add_edge('CP', 'C')\n",
    "G.add_edge('CP', 'LC')\n",
    "G.add_edge('CP', 'RC')\n",
    "G.add_edge('CP', 'EH')\n",
    "# Door (Point) <-> Segment  (Segment must share a coord with the door)\n",
    "G.add_edge('SBD', 'EH')\n",
    "# Polygon <-> Door (Point)  (Area must share a coord with the door)\n",
    "G.add_edge('SB', 'SBD')"
   ]
  },
  {
   "cell_type": "markdown",
   "metadata": {},
   "source": [
    "### Plot the track topology from NetworkX"
   ]
  },
  {
   "cell_type": "code",
   "execution_count": 3,
   "metadata": {},
   "outputs": [
    {
     "data": {
      "image/png": "[encoded data removed]",
      "text/plain": [
       "<Figure size 432x288 with 1 Axes>"
      ]
     },
     "metadata": {
      "needs_background": "light"
     },
     "output_type": "display_data"
    }
   ],
   "source": [
    "ax = plt.subplot(111)\n",
    "ax.axes.get_xaxis().set_visible(False)\n",
    "ax.axes.get_yaxis().set_visible(False)\n",
    "plt.title(\"W-track topology\")\n",
    "nx.draw_networkx(G, fontsize=6)\n",
    "pass"
   ]
  },
  {
   "cell_type": "markdown",
   "metadata": {},
   "source": [
    "### Plot geometry from NetworkX"
   ]
  },
  {
   "cell_type": "code",
   "execution_count": 4,
   "metadata": {},
   "outputs": [
    {
     "data": {
      "image/png": "[encoded data removed]",
      "text/plain": [
       "<Figure size 432x288 with 1 Axes>"
      ]
     },
     "metadata": {
      "needs_background": "light"
     },
     "output_type": "display_data"
    }
   ],
   "source": [
    "ax = plt.subplot(111)\n",
    "plt.title('W-track geometry')\n",
    "for n, attrs in list(G.nodes.data()):\n",
    "    if attrs['kind']=='point':\n",
    "        coord = attrs['coords'][0]\n",
    "        plt.scatter([coord[0]], [coord[1]], color='r')\n",
    "    elif attrs['kind']=='segment':\n",
    "        start, end = attrs['coords']\n",
    "        plt.plot([start[0], end[0]], [start[1], end[1]], color='k')\n",
    "    elif attrs['kind']=='polygon':\n",
    "        poly = attrs['coords']\n",
    "        xs = [e[0] for e in poly]\n",
    "        ys = [e[1] for e in poly]\n",
    "        plt.fill(xs, ys, color='grey', alpha=0.4)\n",
    "    else:\n",
    "        raise TypeError(\"Nodes must have 'kind' point, segment, or polygon.\")\n",
    "plt.xlabel('x pos (meters)')\n",
    "plt.ylabel('y pos (meters)')\n",
    "pass "
   ]
  },
  {
   "cell_type": "markdown",
   "metadata": {},
   "source": [
    "### Load extension and get Python classes for the FL_ApparatusNodes\n",
    "\n",
    "Note that the get_class() methods turn all parameters into type list/tuple/dict/set. \n",
    "This works for Nodes, since they just have coords that we can view as a list of (x, y) \n",
    "tuples as a convention. It also works for Edges, which we can view as a list of two Nodes\n",
    "as convention. However, we might want to write our own Python classes at some\n",
    "point to enforce the behavior we want, instead of just using named lists for these parameters."
   ]
  },
  {
   "cell_type": "code",
   "execution_count": 5,
   "metadata": {},
   "outputs": [],
   "source": [
    "ns_path = \"franklab.namespace.yaml\"\n",
    "pynwb.load_namespaces(ns_path)\n",
    "\n",
    "# If I get a class for the parent FL_ApparatusNode class, then we get a recursion error when trying to instantiate\n",
    "# objects of the child classes (e.g. FL_PointNode). Why is this?? This prevents us from referencing the parent class.\n",
    "# FL_ApparatusNode = get_class('FL_ApparatusNode', 'franklab') \n",
    "\n",
    "FL_PointNode = get_class('FL_PointNode', 'franklab')\n",
    "FL_SegmentNode = get_class('FL_SegmentNode', 'franklab')\n",
    "FL_PolygonNode = get_class('FL_PolygonNode', 'franklab')\n",
    "\n",
    "FL_ApparatusEdge = get_class('FL_ApparatusEdge', 'franklab') "
   ]
  },
  {
   "cell_type": "markdown",
   "metadata": {},
   "source": [
    "### Make a Python class for FL_ApparatusGraph\n",
    "\n",
    "As mentioned above, the get_class() method turns all parameters into type list/tuple/dict/set. For FL_ApparatusGraph, we have a nodes list and an edge list, so we could again just allow these to be named lists. However, we want to include some enforcement of properties on this graph, such as making sure all nodes are of type FL_BehavioralNode, and requiring all edges to contain only nodes in the nodes list. To do this, I will write my own Python class implementing the FL_ApparatusGraph spec."
   ]
  },
  {
   "cell_type": "code",
   "execution_count": 6,
   "metadata": {},
   "outputs": [],
   "source": [
    "@register_class('FL_ApparatusGraph', 'franklab')\n",
    "class FL_ApparatusGraph(pynwb.core.NWBDataInterface):\n",
    "    \"\"\"\n",
    "    Graph of FL_ApparatusNodes connected by undirected FL_ApparatusEdges.\n",
    "    Represents behaviorally reachable components of an apparatus.\n",
    "    \"\"\"\n",
    "    \n",
    "    __nwbfields__ = (\n",
    "        'name',\n",
    "        'description',\n",
    "        'nodes',\n",
    "        'edges'\n",
    "    )\n",
    "    \n",
    "    \n",
    "    @docval({'name': 'name', 'type': str, 'doc': 'Name of this FL_ApparatusGraph', 'default': 'FL_ApparatusGraph'},\n",
    "            {'name': 'description', 'type': str, 'doc': 'a description of this FL_ApparatusGraph', 'default': \"\"},\n",
    "            {'name': 'nodes', 'type': list, 'doc': 'list of FL_ApparatusNodes to initialize the graph with', 'default': None},\n",
    "            {'name': 'edges', 'type': list, \n",
    "             'doc': 'list of edges (tuples of node names) to initialize the graph with', 'default': None})\n",
    "    def __init__(self, **kwargs):\n",
    "        call_docval_func(super(FL_ApparatusGraph, self).__init__, kwargs)\n",
    "        if not kwargs['nodes']:\n",
    "            self.nodes = []\n",
    "        else:\n",
    "            assert(all([isinstance(n, FL_ApparatusNode) for n in nodes]))\n",
    "            self.nodes = kwargs['nodes']\n",
    "        \n",
    "        if not kwargs['edges']:\n",
    "            self.edges = []\n",
    "        else:\n",
    "            assert(all([e in nodes for e in edges]))\n",
    "            self.edges = kwargs['edges']\n",
    "            \n",
    "        \n",
    "    def add_edge(self, edge):\n",
    "        \"\"\"\n",
    "        Add an undirected edge to the edge list. Both nodes must already be in the nodes list.\n",
    "        \"\"\"\n",
    "        if not isinstance(edge, FL_ApparatusEdge):\n",
    "            raise TypeError(\"Edge must be of type FL_ApparatusEdge\")\n",
    "            \n",
    "        node_names = [n.name for n in self.nodes]\n",
    "        if edge.nodes[0] not in node_names or edge.nodes[1] not in node_names:\n",
    "            raise ValueError(\"Error adding edge \" + edge.name + \". Both nodes in the edge must already be in the nodes list.\")\n",
    "            \n",
    "        self.edges.append(edge)\n",
    "        \n",
    "        \n",
    "    def add_node(self, node):\n",
    "        \"\"\"\n",
    "        Add a node to the nodes list.\n",
    "        \"\"\"\n",
    "        if not (isinstance(node, FL_PointNode) or \n",
    "                isinstance(node, FL_SegmentNode) or \n",
    "                isinstance(node, FL_PolygonNode)):\n",
    "            raise TypeError(\"Node must be of type FL_ApparatusNode\")\n",
    "            \n",
    "        self.nodes.append(node)"
   ]
  },
  {
   "cell_type": "markdown",
   "metadata": {},
   "source": [
    "### Function for converting from NX nodes to FL_ApparatusNodes"
   ]
  },
  {
   "cell_type": "code",
   "execution_count": 7,
   "metadata": {},
   "outputs": [],
   "source": [
    "def nx_to_fl_node(node_name, attrs, apparatus):\n",
    "    if 'kind' not in attrs:\n",
    "        raise TypeError(\"NX node attributes must contain a 'kind' field\")\n",
    "    if 'coords' not in attrs:\n",
    "        raise TypeError(\"NX node attributes must contain a 'coords' field\")\n",
    "    if attrs['kind']=='segment':\n",
    "        if 'intermediate_coords' not in attrs:\n",
    "            raise TypeError(\"NX 'segment' nodes must contain a 'intermediate_coords' field. It can be set to None.\")\n",
    "        return FL_SegmentNode(name=node_name, coords=attrs['coords'], \n",
    "                              intermediate_coords=attrs['intermediate_coords'], parent=apparatus)\n",
    "    elif attrs['kind']=='point':\n",
    "        return FL_PointNode(name=n, coords=attrs['coords'], parent=apparatus)\n",
    "    elif attrs['kind']=='polygon':\n",
    "        if 'interior_coords' not in attrs:\n",
    "            raise TypeError(\"NX 'polygon' nodes must contain a 'interior_coords' field. It can be set to None.\")\n",
    "        return FL_PolygonNode(name=n, coords=attrs['coords'], \n",
    "                              interior_coords=attrs['interior_coords'], parent=apparatus)\n",
    "    else:\n",
    "        raise TypeError('Nodes must be of type point, segment, or polygon.')"
   ]
  },
  {
   "cell_type": "markdown",
   "metadata": {},
   "source": [
    "### Load NetworkX nodes into FL_ApparatusNode objects and add to the FL_ApparatusGraph"
   ]
  },
  {
   "cell_type": "code",
   "execution_count": 8,
   "metadata": {},
   "outputs": [],
   "source": [
    "appar = FL_ApparatusGraph(name='W-track with sleep box')\n",
    "for n, attrs in list(G.nodes.data()):\n",
    "    fl_node = nx_to_fl_node(n, attrs, appar)\n",
    "    appar.add_node(fl_node)"
   ]
  },
  {
   "cell_type": "markdown",
   "metadata": {},
   "source": [
    "### Load NetworkX edges into FL_ApparatusEdge objects"
   ]
  },
  {
   "cell_type": "code",
   "execution_count": 9,
   "metadata": {},
   "outputs": [],
   "source": [
    "for (n1, n2) in G.edges:\n",
    "    name_str = n1 + '-' + n2\n",
    "    appar.add_edge(FL_ApparatusEdge(name=name_str, nodes=[n1, n2], parent=appar))"
   ]
  },
  {
   "cell_type": "markdown",
   "metadata": {},
   "source": [
    "### Create a new NWBfile"
   ]
  },
  {
   "cell_type": "code",
   "execution_count": 10,
   "metadata": {},
   "outputs": [],
   "source": [
    "anim = 'Bon' \n",
    "day = 4 # below we'll code date as 2006-Jan-'Day'\n",
    "day_str = '%02d' % day\n",
    "dataset_zero_time = datetime(2006, 1, day, 12, 0, 0, tzinfo=tz.gettz('US/Pacific'))\n",
    "file_create_date = datetime.now(tz.tzlocal())\n",
    "nwb_filename = 'apparatus_extension_test.nwb'\n",
    "\n",
    "nwbf = pynwb.NWBFile(\n",
    "           session_description='Example NWBFile with behavioral track data',\n",
    "           identifier=anim+day_str,\n",
    "           session_start_time=dataset_zero_time,\n",
    "           file_create_date=file_create_date,\n",
    "           lab='Frank Laboratory',\n",
    "           experimenter='Mattias Karlsson',\n",
    "           institution='UCSF',\n",
    "           experiment_description='Recordings from awake behaving rat')"
   ]
  },
  {
   "cell_type": "markdown",
   "metadata": {},
   "source": [
    "### Add the FL_ApparatusGraph into the NWBFile\n",
    "Here we add it as a data interface of a processing module called 'Behavior', even though the docs state that data interfaces should be used for containers that do not include metadata. (https://pynwb.readthedocs.io/en/latest/building_api.html#nwbdatainterface)"
   ]
  },
  {
   "cell_type": "code",
   "execution_count": 11,
   "metadata": {},
   "outputs": [
    {
     "data": {
      "text/plain": [
       "\n",
       "W-track with sleep box <class '__main__.FL_ApparatusGraph'>\n",
       "Fields:\n",
       "  edges: [\n",
       "L-LC <class 'abc.FL_ApparatusEdge'>\n",
       "Fields:\n",
       " \n",
       "L-LW <class 'abc.FL_ApparatusEdge'>\n",
       "Fields:\n",
       " \n",
       "LC-CP <class 'abc.FL_ApparatusEdge'>\n",
       "Fields:\n",
       " \n",
       "C-CW <class 'abc.FL_ApparatusEdge'>\n",
       "Fields:\n",
       " \n",
       "C-CP <class 'abc.FL_ApparatusEdge'>\n",
       "Fields:\n",
       " \n",
       "RC-R <class 'abc.FL_ApparatusEdge'>\n",
       "Fields:\n",
       " \n",
       "RC-CP <class 'abc.FL_ApparatusEdge'>\n",
       "Fields:\n",
       " \n",
       "R-RW <class 'abc.FL_ApparatusEdge'>\n",
       "Fields:\n",
       " \n",
       "EH-CP <class 'abc.FL_ApparatusEdge'>\n",
       "Fields:\n",
       " \n",
       "EH-SBD <class 'abc.FL_ApparatusEdge'>\n",
       "Fields:\n",
       " \n",
       "SBD-SB <class 'abc.FL_ApparatusEdge'>\n",
       "Fields:\n",
       "]\n",
       "  nodes: [\n",
       "L <class 'abc.FL_SegmentNode'>\n",
       "Fields:\n",
       " \n",
       "LC <class 'abc.FL_SegmentNode'>\n",
       "Fields:\n",
       " \n",
       "C <class 'abc.FL_SegmentNode'>\n",
       "Fields:\n",
       " \n",
       "RC <class 'abc.FL_SegmentNode'>\n",
       "Fields:\n",
       " \n",
       "R <class 'abc.FL_SegmentNode'>\n",
       "Fields:\n",
       " \n",
       "EH <class 'abc.FL_SegmentNode'>\n",
       "Fields:\n",
       " \n",
       "LW <class 'abc.FL_PointNode'>\n",
       "Fields:\n",
       " \n",
       "CW <class 'abc.FL_PointNode'>\n",
       "Fields:\n",
       " \n",
       "RW <class 'abc.FL_PointNode'>\n",
       "Fields:\n",
       " \n",
       "CP <class 'abc.FL_PointNode'>\n",
       "Fields:\n",
       " \n",
       "SBD <class 'abc.FL_PointNode'>\n",
       "Fields:\n",
       " \n",
       "SB <class 'abc.FL_PolygonNode'>\n",
       "Fields:\n",
       "]"
      ]
     },
     "execution_count": 11,
     "metadata": {},
     "output_type": "execute_result"
    }
   ],
   "source": [
    "behav_mod = nwbf.create_processing_module(name='Behavior', \n",
    "                                          description='Behavioral data and metadata')\n",
    "behav_mod.add_data_interface(appar, 'W-track')"
   ]
  },
  {
   "cell_type": "markdown",
   "metadata": {},
   "source": [
    "### Write the NWBfile"
   ]
  },
  {
   "cell_type": "code",
   "execution_count": 12,
   "metadata": {},
   "outputs": [
    {
     "name": "stderr",
     "output_type": "stream",
     "text": [
      "/Users/ericmiller/Src/pynwb/src/pynwb/form/build/map.py:881: MissingRequiredWarning: attribute 'help' for 'W-track with sleep box' (FL_ApparatusGraph)\n",
      "  warnings.warn(msg, MissingRequiredWarning)\n"
     ]
    },
    {
     "name": "stdout",
     "output_type": "stream",
     "text": [
      "Wrote nwb file: apparatus_extension_test.nwb\n"
     ]
    }
   ],
   "source": [
    "# Write\n",
    "with pynwb.NWBHDF5IO(nwb_filename, mode='w') as iow:\n",
    "    iow.write(nwbf, cache_spec=True)\n",
    "print('Wrote nwb file: ' + nwb_filename)"
   ]
  },
  {
   "cell_type": "markdown",
   "metadata": {},
   "source": [
    "### Read the NWBFile"
   ]
  },
  {
   "cell_type": "code",
   "execution_count": 13,
   "metadata": {},
   "outputs": [
    {
     "name": "stdout",
     "output_type": "stream",
     "text": [
      "Finished reading nwb file: apparatus_extension_test.nwb\n"
     ]
    },
    {
     "name": "stderr",
     "output_type": "stream",
     "text": [
      "/Users/ericmiller/Src/pynwb/src/pynwb/form/spec/namespace.py:425: UserWarning: ignoring namespace 'core' because it already exists\n",
      "  warn(\"ignoring namespace '%s' because it already exists\" % ns['name'])\n",
      "/Users/ericmiller/Src/pynwb/src/pynwb/form/spec/namespace.py:425: UserWarning: ignoring namespace 'franklab' because it already exists\n",
      "  warn(\"ignoring namespace '%s' because it already exists\" % ns['name'])\n"
     ]
    }
   ],
   "source": [
    "# Read\n",
    "io = pynwb.NWBHDF5IO(nwb_filename, mode='r', load_namespaces=True)\n",
    "nwbf_read = io.read()\n",
    "print('Finished reading nwb file: ' + nwb_filename)"
   ]
  },
  {
   "cell_type": "markdown",
   "metadata": {},
   "source": [
    "### Make sure our FL_ApparatusGraph is still looking good"
   ]
  },
  {
   "cell_type": "code",
   "execution_count": null,
   "metadata": {},
   "outputs": [],
   "source": [
    "appar = nwbf_read.modules['Behavior']['W-track']\n",
    "print(appar)"
   ]
  },
  {
   "cell_type": "markdown",
   "metadata": {},
   "source": [
    "### Function to directly input FL_ApparatusNodes into an NX graph"
   ]
  },
  {
   "cell_type": "code",
   "execution_count": null,
   "metadata": {},
   "outputs": [],
   "source": [
    "def add_fl_node_to_nx_graph(fl_node, nx_graph):\n",
    "    if isinstance(fl_node, FL_SegmentNode):\n",
    "        nx_graph.add_node(fl_node.name, coords=fl_node.coords, intermediate_coords=fl_node.intermediate_coords)\n",
    "    elif isinstance(fl_node, FL_PointNode):\n",
    "        nx_graph.add_node(fl_node.name, coords=fl_node.coords)\n",
    "    elif isinstance(fl_node, FL_PolygonNode):\n",
    "        nx_graph.add_node(fl_node.name, coords=fl_node.coords, interior_coords=fl_node.interior_coords)\n",
    "    else:\n",
    "        raise TypeError(\"'fl_node' must be of type FL_SegmentNode, FL_PointNode, or FL_PolygonNode\")"
   ]
  },
  {
   "cell_type": "markdown",
   "metadata": {},
   "source": [
    "### Extract graph data back out into NetworkX"
   ]
  },
  {
   "cell_type": "code",
   "execution_count": null,
   "metadata": {},
   "outputs": [],
   "source": [
    "appar = nwbf_read.modules['Behavior']['W-track']\n",
    "H = nx.Graph(name='w-track round trip')\n",
    "\n",
    "for n in appar.nodes:\n",
    "    add_fl_node_to_nx_graph(n, H)\n",
    "\n",
    "for e in appar.edges:\n",
    "    (n1, n2) = e.nodes\n",
    "    H.add_edge(n1, n2)"
   ]
  },
  {
   "cell_type": "markdown",
   "metadata": {},
   "source": [
    "### Plot track topology from NetworkX (roundtrip)"
   ]
  },
  {
   "cell_type": "code",
   "execution_count": null,
   "metadata": {},
   "outputs": [],
   "source": [
    "ax = plt.subplot(111)\n",
    "ax.axes.get_xaxis().set_visible(False)\n",
    "ax.axes.get_yaxis().set_visible(False)\n",
    "plt.title(\"W-track topology\")\n",
    "nx.draw_networkx(H, fontsize=6)\n",
    "pass"
   ]
  },
  {
   "cell_type": "markdown",
   "metadata": {},
   "source": [
    "### Plot track geometry from NetworkX (roundtrip)"
   ]
  },
  {
   "cell_type": "code",
   "execution_count": null,
   "metadata": {},
   "outputs": [],
   "source": [
    "ax = plt.subplot(111)\n",
    "plt.title('W-track geometry')\n",
    "for n, attrs in list(H.nodes.data()):\n",
    "    if attrs['kind']=='point':\n",
    "        coord = attrs['coords'][0]\n",
    "        plt.scatter([coord[0]], [coord[1]], color='r')\n",
    "    elif attrs['kind']=='segment':\n",
    "        start, end = attrs['coords']\n",
    "        plt.plot([start[0], end[0]], [start[1], end[1]], color='k')\n",
    "    elif attrs['kind']=='polygon':\n",
    "        poly = attrs['coords']\n",
    "        xs = [e[0] for e in poly]\n",
    "        ys = [e[1] for e in poly]\n",
    "        plt.fill(xs, ys, color='grey', alpha=0.4)\n",
    "    else:\n",
    "        raise TypeError(\"Nodes must have 'kind' point, segment, or polygon.\")\n",
    "plt.xlabel('x pos (meters)')\n",
    "plt.ylabel('y pos (meters)')\n",
    "pass "
   ]
  },
  {
   "cell_type": "code",
   "execution_count": null,
   "metadata": {},
   "outputs": [],
   "source": [
    "io.close()  # Close the reading file IO"
   ]
  },
  {
   "cell_type": "code",
   "execution_count": null,
   "metadata": {},
   "outputs": [],
   "source": []
  }
 ],
 "metadata": {
  "kernelspec": {
   "display_name": "Python 3",
   "language": "python",
   "name": "python3"
  },
  "language_info": {
   "codemirror_mode": {
    "name": "ipython",
    "version": 3
   },
   "file_extension": ".py",
   "mimetype": "text/x-python",
   "name": "python",
   "nbconvert_exporter": "python",
   "pygments_lexer": "ipython3",
   "version": "3.6.7"
  }
 },
 "nbformat": 4,
 "nbformat_minor": 2
}
