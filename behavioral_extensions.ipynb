{
 "cells": [
  {
   "cell_type": "code",
   "execution_count": 3,
   "metadata": {},
   "outputs": [
    {
     "name": "stdout",
     "output_type": "stream",
     "text": [
      "The autoreload extension is already loaded. To reload it, use:\n",
      "  %reload_ext autoreload\n"
     ]
    }
   ],
   "source": [
    "%load_ext autoreload\n",
    "%autoreload 2\n",
    "\n",
    "import pynwb\n",
    "from pynwb import get_class\n",
    "import numpy as np\n",
    "import networkx as nx\n",
    "\n",
    "import matplotlib.pyplot as plt"
   ]
  },
  {
   "cell_type": "markdown",
   "metadata": {},
   "source": [
    "### Build the track in NetworkX"
   ]
  },
  {
   "cell_type": "code",
   "execution_count": 10,
   "metadata": {},
   "outputs": [],
   "source": [
    "# Initialize a graph\n",
    "G = nx.Graph(name='w-track')\n",
    "\n",
    "# Add nodes to the graph\n",
    "# ----------------------\n",
    "# Segments\n",
    "G.add_node('L', coords=[(1.6, 2.2), (1.6, 0.65)], kind='segment')\n",
    "G.add_node('LC', coords=[(1.6, 0.65), (1.9, 0.65)], kind='segment')  \n",
    "G.add_node('C', coords=[(1.9, 0.65), (1.9, 2.2)], kind='segment')  \n",
    "G.add_node('RC', coords=[(1.9, 0.65), (2.2, 0.65)], kind='segment')  \n",
    "G.add_node('R', coords=[(2.2, 0.65), (2.2, 2.2)], kind='segment')  \n",
    "# Points\n",
    "G.add_node('LW', coords=(1.6, 2.2), kind='point')\n",
    "G.add_node('CW', coords=(1.9, 2.2), kind='point')\n",
    "G.add_node('RW', coords=(2.2, 2.2), kind='point')\n",
    "G.add_node('CP', coords=(1.9, 0.65), kind='point')\n",
    "\n",
    "# Add edges connecting the appropriate nodes\n",
    "# -----------------------------------------\n",
    "# Segment <-> Segment\n",
    "G.add_edge('L', 'LC')\n",
    "G.add_edge('RC', 'R')\n",
    "# Segment <-> Well\n",
    "G.add_edge('L', 'LW')\n",
    "G.add_edge('C', 'CW')\n",
    "G.add_edge('R', 'RW')\n",
    "# Choice Point <-> Segments\n",
    "G.add_edge('CP', 'C')\n",
    "G.add_edge('CP', 'LC')\n",
    "G.add_edge('CP', 'RC')"
   ]
  },
  {
   "cell_type": "markdown",
   "metadata": {},
   "source": [
    "### Plot the track topology from NetworkX"
   ]
  },
  {
   "cell_type": "code",
   "execution_count": 16,
   "metadata": {},
   "outputs": [
    {
     "data": {
      "image/png": "[encoded data removed]",
      "text/plain": [
       "<Figure size 432x288 with 1 Axes>"
      ]
     },
     "metadata": {
      "needs_background": "light"
     },
     "output_type": "display_data"
    }
   ],
   "source": [
    "ax = plt.subplot(111)\n",
    "ax.axes.get_xaxis().set_visible(False)\n",
    "ax.axes.get_yaxis().set_visible(False)\n",
    "plt.title(\"W-track topology\")\n",
    "nx.draw_networkx(G, fontsize=6)\n",
    "pass"
   ]
  },
  {
   "cell_type": "markdown",
   "metadata": {},
   "source": [
    "### Plot geometry from NetworkX"
   ]
  },
  {
   "cell_type": "code",
   "execution_count": 17,
   "metadata": {},
   "outputs": [
    {
     "data": {
      "image/png": "[encoded data removed]",
      "text/plain": [
       "<Figure size 432x288 with 1 Axes>"
      ]
     },
     "metadata": {
      "needs_background": "light"
     },
     "output_type": "display_data"
    }
   ],
   "source": [
    "ax = plt.subplot(111)\n",
    "plt.title('W-track geometry')\n",
    "for n, attrs in list(G.nodes.data()):\n",
    "    if attrs['kind']=='point':\n",
    "        coord = attrs['coords']\n",
    "        plt.scatter([coord[0]], [coord[1]], color='r')\n",
    "    if attrs['kind']=='segment':\n",
    "        start, end = attrs['coords']\n",
    "        plt.plot([start[0], end[0]], [start[1], end[1]], color='k')\n",
    "plt.xlabel('x pos (meters)')\n",
    "plt.ylabel('y pos (meters)')\n",
    "pass "
   ]
  },
  {
   "cell_type": "markdown",
   "metadata": {},
   "source": [
    "### Load FL extension namespace"
   ]
  },
  {
   "cell_type": "code",
   "execution_count": 4,
   "metadata": {},
   "outputs": [
    {
     "data": {
      "text/plain": [
       "('franklab',)"
      ]
     },
     "execution_count": 4,
     "metadata": {},
     "output_type": "execute_result"
    }
   ],
   "source": [
    "ns_path = \"franklab.namespace.yaml\"\n",
    "pynwb.load_namespaces(ns_path)"
   ]
  },
  {
   "cell_type": "markdown",
   "metadata": {},
   "source": [
    "### Get Python classes to use our extensions"
   ]
  },
  {
   "cell_type": "code",
   "execution_count": 5,
   "metadata": {},
   "outputs": [],
   "source": [
    "FL_PointNode = get_class('FL_PointNode', 'franklab')\n",
    "FL_SegmentNode = get_class('FL_SegmentNode', 'franklab')\n",
    "FL_AreaNode = get_class('FL_AreaNode', 'franklab')\n"
   ]
  },
  {
   "cell_type": "markdown",
   "metadata": {},
   "source": [
    "### Load our graph data into FL extension objects"
   ]
  },
  {
   "cell_type": "markdown",
   "metadata": {},
   "source": [
    "### Save FL extensions into NWBfile"
   ]
  },
  {
   "cell_type": "markdown",
   "metadata": {},
   "source": [
    "### Roundtrip the NWBfile with our graph data"
   ]
  },
  {
   "cell_type": "markdown",
   "metadata": {},
   "source": [
    "### Extract graph data back out into NetworkX"
   ]
  },
  {
   "cell_type": "code",
   "execution_count": null,
   "metadata": {},
   "outputs": [],
   "source": []
  }
 ],
 "metadata": {
  "kernelspec": {
   "display_name": "Python 3",
   "language": "python",
   "name": "python3"
  },
  "language_info": {
   "codemirror_mode": {
    "name": "ipython",
    "version": 3
   },
   "file_extension": ".py",
   "mimetype": "text/x-python",
   "name": "python",
   "nbconvert_exporter": "python",
   "pygments_lexer": "ipython3",
   "version": "3.6.7"
  }
 },
 "nbformat": 4,
 "nbformat_minor": 2
}
