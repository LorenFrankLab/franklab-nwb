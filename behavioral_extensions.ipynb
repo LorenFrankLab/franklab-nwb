{
 "cells": [
  {
   "cell_type": "code",
   "execution_count": 1,
   "metadata": {},
   "outputs": [],
   "source": [
    "%load_ext autoreload\n",
    "%autoreload 2\n",
    "\n",
    "import numpy as np\n",
    "import networkx as nx\n",
    "\n",
    "import pynwb\n",
    "from pynwb import get_class\n",
    "from pynwb import register_class\n",
    "from pynwb.form.utils import docval, getargs, popargs, call_docval_func\n",
    "\n",
    "import matplotlib.pyplot as plt"
   ]
  },
  {
   "cell_type": "markdown",
   "metadata": {},
   "source": [
    "### Build the track in NetworkX"
   ]
  },
  {
   "cell_type": "code",
   "execution_count": 2,
   "metadata": {},
   "outputs": [],
   "source": [
    "# Initialize a graph\n",
    "G = nx.Graph(name='w-track')\n",
    "\n",
    "# Add nodes to the graph\n",
    "# ----------------------\n",
    "# Segments\n",
    "G.add_node('L', coords=[(1.6, 2.2), (1.6, 0.65)], intermediate_coords=None, kind='segment')\n",
    "G.add_node('LC', coords=[(1.6, 0.65), (1.9, 0.65)], intermediate_coords=None, kind='segment')  \n",
    "G.add_node('C', coords=[(1.9, 0.65), (1.9, 2.2)], intermediate_coords=None, kind='segment')  \n",
    "G.add_node('RC', coords=[(1.9, 0.65), (2.2, 0.65)], intermediate_coords=None, kind='segment')  \n",
    "G.add_node('R', coords=[(2.2, 0.65), (2.2, 2.2)], intermediate_coords=None, kind='segment')  \n",
    "G.add_node('EH', coords=[(1.9, 0.4), (1.9, 0.65)], intermediate_coords=None, kind='segment')\n",
    "# Points\n",
    "G.add_node('LW', coords=(1.6, 2.2), kind='point')\n",
    "G.add_node('CW', coords=(1.9, 2.2), kind='point')\n",
    "G.add_node('RW', coords=(2.2, 2.2), kind='point')\n",
    "G.add_node('CP', coords=(1.9, 0.65), kind='point')\n",
    "G.add_node('SBD', coords=(1.9, 0.4), kind='point')\n",
    "# Polygon areas\n",
    "G.add_node('SB', coords=[(1.8, 0.4), (1.9, 0.4), (2.0, 0.4), (2.0, 0.0), (1.8, 0.0)], \n",
    "           interior_coords=None, kind='polygon')\n",
    "\n",
    "# Add edges connecting the appropriate nodes\n",
    "# -----------------------------------------\n",
    "# Segment <-> Segment       (Segs must share a coord)\n",
    "G.add_edge('L', 'LC')\n",
    "G.add_edge('RC', 'R')\n",
    "# Segment <-> Well (Point)  (Seg must share a coord with the well)\n",
    "G.add_edge('L', 'LW')\n",
    "G.add_edge('C', 'CW')\n",
    "G.add_edge('R', 'RW')\n",
    "# Choice Point (Point) <-> Segments  (Seg must share a coord with the choice point)\n",
    "G.add_edge('CP', 'C')\n",
    "G.add_edge('CP', 'LC')\n",
    "G.add_edge('CP', 'RC')\n",
    "G.add_edge('CP', 'EH')\n",
    "# Door (Point) <-> Segment  (Segment must share a coord with the door)\n",
    "G.add_edge('SBD', 'EH')\n",
    "# Polygon <-> Door (Point)  (Area must share a coord with the door)\n",
    "G.add_edge('SB', 'SBD')"
   ]
  },
  {
   "cell_type": "markdown",
   "metadata": {},
   "source": [
    "### Plot the track topology from NetworkX"
   ]
  },
  {
   "cell_type": "code",
   "execution_count": 3,
   "metadata": {},
   "outputs": [
    {
     "data": {
      "image/png": "[encoded data removed]",
      "text/plain": [
       "<Figure size 432x288 with 1 Axes>"
      ]
     },
     "metadata": {
      "needs_background": "light"
     },
     "output_type": "display_data"
    }
   ],
   "source": [
    "ax = plt.subplot(111)\n",
    "ax.axes.get_xaxis().set_visible(False)\n",
    "ax.axes.get_yaxis().set_visible(False)\n",
    "plt.title(\"W-track topology\")\n",
    "nx.draw_networkx(G, fontsize=6)\n",
    "pass"
   ]
  },
  {
   "cell_type": "markdown",
   "metadata": {},
   "source": [
    "### Plot geometry from NetworkX"
   ]
  },
  {
   "cell_type": "code",
   "execution_count": 4,
   "metadata": {},
   "outputs": [
    {
     "data": {
      "image/png": "[encoded data removed]",
      "text/plain": [
       "<Figure size 432x288 with 1 Axes>"
      ]
     },
     "metadata": {
      "needs_background": "light"
     },
     "output_type": "display_data"
    }
   ],
   "source": [
    "ax = plt.subplot(111)\n",
    "plt.title('W-track geometry')\n",
    "for n, attrs in list(G.nodes.data()):\n",
    "    if attrs['kind']=='point':\n",
    "        coord = attrs['coords']\n",
    "        plt.scatter([coord[0]], [coord[1]], color='r')\n",
    "    elif attrs['kind']=='segment':\n",
    "        start, end = attrs['coords']\n",
    "        plt.plot([start[0], end[0]], [start[1], end[1]], color='k')\n",
    "    elif attrs['kind']=='polygon':\n",
    "        poly = attrs['coords']\n",
    "        xs = [e[0] for e in poly]\n",
    "        ys = [e[1] for e in poly]\n",
    "        plt.fill(xs, ys, color='grey', alpha=0.4)\n",
    "    else:\n",
    "        raise TypeError(\"Nodes must have 'kind' point, segment, or polygon.\")\n",
    "plt.xlabel('x pos (meters)')\n",
    "plt.ylabel('y pos (meters)')\n",
    "pass "
   ]
  },
  {
   "cell_type": "markdown",
   "metadata": {},
   "source": [
    "### Load extension and get Python classes for the FL_ApparatusNodes\n",
    "\n",
    "Note that the get_class() methods turn all parameters into type list/tuple/dict/set. \n",
    "This works for Nodes, since they just have coords that we can view as a list of (x, y) \n",
    "tuples as a convention. It also works for Edges, which we can view as a list of two Nodes\n",
    "as convention. However, we might want to write our own Python classes at some\n",
    "point to enforce the behavior we want, instead of just using named lists for these parameters."
   ]
  },
  {
   "cell_type": "code",
   "execution_count": 9,
   "metadata": {},
   "outputs": [],
   "source": [
    "ns_path = \"franklab.namespace.yaml\"\n",
    "pynwb.load_namespaces(ns_path)\n",
    "\n",
    "# Node\n",
    "FL_ApparatusNode = get_class('FL_ApparatusNode', 'franklab')\n",
    "FL_PointNode = get_class('FL_PointNode', 'franklab')\n",
    "FL_SegmentNode = get_class('FL_SegmentNode', 'franklab')\n",
    "FL_PolygonNode = get_class('FL_PolygonNode', 'franklab')\n",
    "\n",
    "# Edge\n",
    "FL_ApparatusEdge = get_class('FL_ApparatusEdge', 'franklab')"
   ]
  },
  {
   "cell_type": "markdown",
   "metadata": {},
   "source": [
    "### Make a Python class for FL_ApparatusGraph\n",
    "\n",
    "As mentioned above, the get_class() method turns all parameters into type list/tuple/dict/set. For FL_ApparatusGraph, we have a nodes list and an edge list, so we could again just allow these to be named lists. However, we want to include some enforcement of properties on this graph, such as making sure all nodes are of type FL_BehavioralNode, and requiring all edges to contain only nodes in the nodes list. To do this, I will write my own Python class implementing the FL_ApparatusGraph spec."
   ]
  },
  {
   "cell_type": "code",
   "execution_count": 15,
   "metadata": {},
   "outputs": [],
   "source": [
    "@register_class('FL_ApparatusGraph', 'franklab')\n",
    "class FL_ApparatusGraph(pynwb.core.NWBContainer):\n",
    "    \"\"\"\n",
    "    Graph of FL_ApparatusNodes connected by undirected FL_ApparatusEdges.\n",
    "    Represents behaviorally reachable components of an apparatus.\n",
    "    \"\"\"\n",
    "\n",
    "    @docval({'name': 'name', 'type': str, 'doc': 'Name of this graph', 'default': 'FL_ApparatusGraph'},\n",
    "            {'name': 'description', 'type': str, 'doc': 'A description of this graph', 'default': ''})\n",
    "    def __init__(self, **kwargs):\n",
    "        call_docval_func(super(FL_ApparatusGraph, self).__init__, kwargs)\n",
    "        edges = []\n",
    "        nodes = []\n",
    "\n",
    "    def add_edge(self, edge):\n",
    "        \"\"\"\n",
    "        Add an undirected edge to the edge list. Both nodes must already be in the nodes list.\n",
    "        \"\"\"\n",
    "        if not isinstance(edge, FL_ApparatusEdge):\n",
    "            raise TypeError(\"Edge must be of type FL_ApparatusEdge\")\n",
    "        if edge.nodes[0] not in nodes or edge.nodes[1] not in nodes:\n",
    "            raise ValueError(\"Both nodes in the edge must already be in the nodes list.\")\n",
    "        edges.append(edge)\n",
    "        \n",
    "    def add_node(self, node):\n",
    "        \"\"\"\n",
    "        Add a node to the nodes list.\n",
    "        \"\"\"\n",
    "        if not isinstance(edge, FL_ApparatusNode):\n",
    "            raise TypeError(\"Node must be of type FL_ApparatusNode\")\n",
    "        nodes.append(node)\n",
    "    \n",
    "    "
   ]
  },
  {
   "cell_type": "markdown",
   "metadata": {},
   "source": [
    "### Load NetworkX nodes into FL_ApparatusNode objects"
   ]
  },
  {
   "cell_type": "code",
   "execution_count": null,
   "metadata": {},
   "outputs": [],
   "source": [
    "segment_nodes = []\n",
    "point_nodes = []\n",
    "area_nodes = []\n",
    "for n, attrs in list(G.nodes.data()):\n",
    "    if attrs['kind']=='segment':\n",
    "        segment_nodes.append(FL_SegmentNode(name=n, coords=attrs['coords'], \n",
    "                                            intermediate_coords=attrs['intermediate_coords']))\n",
    "    elif attrs['kind']=='point':\n",
    "        point_nodes.append(FL_PointNode(name=n, coords=attrs['coords']))\n",
    "    elif attrs['kind']=='polygon':\n",
    "        area_nodes.append(FL_PolygonNode(name=n, coords=attrs['coords'], \n",
    "                                      interior_coords=attrs['interior_coords']))\n",
    "    else:\n",
    "        raise TypeError('Nodes must be of type point, segment, or polygon.')"
   ]
  },
  {
   "cell_type": "markdown",
   "metadata": {},
   "source": [
    "### Load NetworkX edges into FL_ApparatusEdge objects"
   ]
  },
  {
   "cell_type": "code",
   "execution_count": null,
   "metadata": {},
   "outputs": [],
   "source": []
  },
  {
   "cell_type": "markdown",
   "metadata": {},
   "source": [
    "### Create an FL_ApparatusGraph using our nodes and edges"
   ]
  },
  {
   "cell_type": "markdown",
   "metadata": {},
   "source": [
    "### Save FL extensions into NWBfile"
   ]
  },
  {
   "cell_type": "markdown",
   "metadata": {},
   "source": [
    "### Roundtrip the NWBfile with our graph data"
   ]
  },
  {
   "cell_type": "markdown",
   "metadata": {},
   "source": [
    "### Extract graph data back out into NetworkX"
   ]
  },
  {
   "cell_type": "code",
   "execution_count": null,
   "metadata": {},
   "outputs": [],
   "source": [
    "help(FL_SegmentNode)"
   ]
  },
  {
   "cell_type": "code",
   "execution_count": null,
   "metadata": {},
   "outputs": [],
   "source": []
  }
 ],
 "metadata": {
  "kernelspec": {
   "display_name": "Python 3",
   "language": "python",
   "name": "python3"
  },
  "language_info": {
   "codemirror_mode": {
    "name": "ipython",
    "version": 3
   },
   "file_extension": ".py",
   "mimetype": "text/x-python",
   "name": "python",
   "nbconvert_exporter": "python",
   "pygments_lexer": "ipython3",
   "version": "3.6.7"
  }
 },
 "nbformat": 4,
 "nbformat_minor": 2
}
