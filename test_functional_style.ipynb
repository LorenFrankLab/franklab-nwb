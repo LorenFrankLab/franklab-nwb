{
 "cells": [
  {
   "cell_type": "code",
   "execution_count": null,
   "metadata": {},
   "outputs": [],
   "source": [
    "# General imports\n",
    "import numpy as np\n",
    "import copy\n",
    "import time\n",
    "\n",
    "# For joblib\n",
    "from joblib import Memory\n",
    "from joblib import Parallel, delayed\n",
    "\n",
    "# For in-memory memoization functions\n",
    "import collections\n",
    "import functools"
   ]
  },
  {
   "cell_type": "code",
   "execution_count": null,
   "metadata": {},
   "outputs": [],
   "source": [
    "cachedir = './'\n",
    "memory = Memory(cachedir, verbose=True)"
   ]
  },
  {
   "cell_type": "markdown",
   "metadata": {},
   "source": [
    "### Use joblib.Memory to cache results of a simple function taking Python primitive arguments\n",
    "We can also use an in-memory memoizer, as in the next cell below."
   ]
  },
  {
   "cell_type": "code",
   "execution_count": null,
   "metadata": {},
   "outputs": [],
   "source": [
    "@memory.cache\n",
    "def say(s, n):\n",
    "    print('Running say(\\'%s\\', %d)' % (s, n))\n",
    "    full_statement = ''\n",
    "    for i in range(n):\n",
    "        full_statement += s + '\\n'\n",
    "    return full_statement\n",
    "\n",
    "print(say('Hello world', 1))  # first time calling on this argument\n",
    "print(say('Hello world', 2))  # re-run this because both arguments are not the same\n",
    "print(say('Hello world', 1))  # don't re-run this\n",
    "print(say('Polly wants a cracker', 2)) # first time calling on this argument\n",
    "print(say('Polly wants a cracker', 2)) # don't re-run this"
   ]
  },
  {
   "cell_type": "markdown",
   "metadata": {},
   "source": [
    "### Use in-memory memoization to cache results of function taking simple primitive arguments\n",
    "Do the exact same thing as in the previous cell, just with in-memory persistence this time."
   ]
  },
  {
   "cell_type": "code",
   "execution_count": null,
   "metadata": {},
   "outputs": [],
   "source": [
    "# Decorator for in-memory memoization using a dictionary.\n",
    "# Source: https://wiki.python.org/moin/PythonDecoratorLibrary#Memoize\n",
    "def memoize(obj):\n",
    "    cache = obj.cache = {}\n",
    "    \n",
    "    @functools.wraps(obj)\n",
    "    def memoizer(*args, **kwargs):\n",
    "        key = str(args) + str(kwargs)\n",
    "        if key not in cache:\n",
    "            cache[key] = obj(*args, **kwargs)\n",
    "        return cache[key]\n",
    "    \n",
    "    return memoizer\n",
    "\n",
    "@memoize\n",
    "def say(s, n):\n",
    "    print('Running say(\\'%s\\', %d)' % (s, n))\n",
    "    full_statement = ''\n",
    "    for i in range(n):\n",
    "        full_statement += s + '\\n'\n",
    "    return full_statement\n",
    "\n",
    "print(say('Hello world', 1))  # first time calling on this argument\n",
    "print(say('Hello world', 2))  # re-run this because both arguments are not the same\n",
    "print(say('Hello world', 1))  # don't re-run this\n",
    "print(say('Polly wants a cracker', 2)) # first time calling on this argument\n",
    "print(say('Polly wants a cracker', 2)) # don't re-run this\n",
    "\n",
    "\n",
    "\n"
   ]
  },
  {
   "cell_type": "markdown",
   "metadata": {},
   "source": [
    "### Use Memory to cache results from a function accepting a mutable argument (e.g. list)\n",
    "This is one of the stated use cases of Memory over simple memoizers that hash input arguments. However, the in-memory memoizer we used above actually does serialize the input arguments by calling str() on them, thus making them hashable."
   ]
  },
  {
   "cell_type": "code",
   "execution_count": null,
   "metadata": {},
   "outputs": [],
   "source": [
    "@memory.cache\n",
    "def list_add(l, n):\n",
    "    print('Running list_add(\\'%s\\', %d)' % (str(l), n))\n",
    "    l_copy = copy.deepcopy(l) # avoid modifying the original list\n",
    "    for i in range(len(l_copy)):\n",
    "        l_copy[i] += n\n",
    "    return l_copy\n",
    "\n",
    "l = [1, 2, 3, 4, 5]\n",
    "\n",
    "print(list_add(l, 1))  # First call\n",
    "print('\\n')\n",
    "\n",
    "print(list_add(l, 1))  # Don't re-run\n",
    "print('\\n')\n",
    "\n",
    "l[0] = 11\n",
    "print(list_add(l, 1))  # Re-run, as the list has changed\n",
    "print('\\n')\n"
   ]
  },
  {
   "cell_type": "markdown",
   "metadata": {},
   "source": [
    "### Memoize the function with list arguments using the in-memory memoizer.\n",
    "This shows that we can do it in-memory too, but serializing the input arguments using str()."
   ]
  },
  {
   "cell_type": "code",
   "execution_count": null,
   "metadata": {},
   "outputs": [],
   "source": [
    "@memoize\n",
    "def list_add(l, n):\n",
    "    print('Running list_add(\\'%s\\', %d)' % (str(l), n))\n",
    "    l_copy = copy.deepcopy(l) # avoid modifying the original list\n",
    "    for i in range(len(l_copy)):\n",
    "        l_copy[i] += n\n",
    "    return l_copy\n",
    "\n",
    "l = [1, 2, 3, 4, 5]\n",
    "\n",
    "print(list_add(l, 1))  # First call\n",
    "print('\\n')\n",
    "\n",
    "print(list_add(l, 1))  # Don't re-run\n",
    "print('\\n')\n",
    "\n",
    "l[0] = 11\n",
    "print(list_add(l, 1))  # Re-run, as the list has changed\n",
    "print('\\n')"
   ]
  },
  {
   "cell_type": "markdown",
   "metadata": {},
   "source": [
    "### Use Memory to cache results from a function accepting numpy array arguments.\n",
    "* Handling numpy arrays is another one of the stated use cases of Memory over memoize, supposedly because it can handle insiginificant changes?\n",
    "\n"
   ]
  },
  {
   "cell_type": "code",
   "execution_count": null,
   "metadata": {},
   "outputs": [],
   "source": [
    "@memory.cache\n",
    "def print_array(array):\n",
    "    print('Running print_array(%s)' % np.array2string(array))\n",
    "    return array\n",
    "\n",
    "# First time calling on this argument\n",
    "array = np.array([[1, 2, 3, 4], [5, 6, 7, 8]])\n",
    "print(print_array(array))\n",
    "print('\\n')\n",
    "\n",
    "# Don't re-run, as the argument is identical\n",
    "print(print_array(array))  \n",
    "print('\\n')\n",
    "\n",
    "# Don't re-run, as the array has changed insignificantly\n",
    "array[0, 0] += 1e-200\n",
    "print(print_array(array)) \n",
    "print('\\n')\n",
    "\n",
    "# First time calling on this argument\n",
    "print(print_array(np.array([1])))\n",
    "print('\\n')\n",
    "\n",
    "# It DOES re-run this.\n",
    "print(print_array(np.array([1 + 1e-200])))\n",
    "print('\\n')\n",
    "\n",
    "# But it DOESN'T re-run this...\n",
    "print(print_array(np.array([1 + 1e-100]))) \n",
    "print('\\n')"
   ]
  },
  {
   "cell_type": "markdown",
   "metadata": {},
   "source": [
    "### Memoize a costly helper function, which is called in other functions"
   ]
  },
  {
   "cell_type": "code",
   "execution_count": null,
   "metadata": {},
   "outputs": [],
   "source": [
    "@memory.cache\n",
    "def costly_preprocess(x):\n",
    "    print('Running costly_preprocess(%s)' % str(x))\n",
    "    time.sleep(2)\n",
    "    return x\n",
    "\n",
    "def array_add(array, n):\n",
    "    print('Running array_add({0}, {1})'.format(array, n))\n",
    "    array2 = costly_preprocess(array)  # The inner function call is memoized\n",
    "    return(np.add(array2, n))\n",
    "\n",
    "def array_minus(array, n):\n",
    "    print('Running array_minus({0}, {1})'.format(array, n))\n",
    "    array2 = costly_preprocess(array)  # The inner function call is memoized\n",
    "    return(np.subtract(array2, n))\n",
    "\n",
    "\n",
    "\n",
    "array = np.array([1, 2, 3, 4])\n",
    "\n",
    "start = time.time()\n",
    "print(array_add(array, 1))\n",
    "stop = time.time()\n",
    "print('{0} seconds'.format(round(stop-start, 4)))\n",
    "print('\\n')\n",
    "\n",
    "# It re-runs the outer function, but not the inner memoized function\n",
    "start = time.time()\n",
    "print(array_add(array, 1))\n",
    "stop = time.time()\n",
    "print('{0} seconds'.format(round(stop-start, 4)))\n",
    "print('\\n')\n",
    "\n",
    "\n",
    "# Even with a different outer function, we benefit from the memoization of the inner function\n",
    "start = time.time()\n",
    "print(array_minus(array, 1))\n",
    "stop = time.time()\n",
    "print('{0} seconds'.format(round(stop-start, 4)))\n",
    "print('\\n')\n",
    "\n",
    "\n"
   ]
  },
  {
   "cell_type": "markdown",
   "metadata": {},
   "source": [
    "### Use Joblib.Parallel for embarassingly parallel loops\n",
    "The default usage is to turn the loop into an iterator (e.g. list comprehension)."
   ]
  },
  {
   "cell_type": "code",
   "execution_count": null,
   "metadata": {},
   "outputs": [],
   "source": [
    "def costly_preprocess(x):\n",
    "    print(\"Running costly_preprocess({0})\".format(x))\n",
    "    time.sleep(1)\n",
    "    return x\n",
    "\n",
    "def array_add(array, n):\n",
    "    array2 = costly_preprocess(array)\n",
    "    return(np.add(array2, n))\n",
    "\n",
    "\n",
    "array = np.array([5, 6, 7, 8, 9])\n",
    "many_arrays = [array]*10\n",
    "\n",
    "# Serial processing\n",
    "start = time.time()\n",
    "result1 = [array_add(array, 1) for array in many_arrays]\n",
    "stop = time.time()\n",
    "print('Serial: {0} seconds'.format(round(stop-start, 4)))\n",
    "print('\\n')\n",
    "\n",
    "# Parallel processing\n",
    "start = time.time()\n",
    "result2 = Parallel(n_jobs=2)(\n",
    "            delayed(array_add)(array, 1) for array in many_arrays)\n",
    "stop = time.time()\n",
    "print('Parallel: {0} seconds'.format(round(stop-start, 4)))\n",
    "print('\\n')\n"
   ]
  },
  {
   "cell_type": "markdown",
   "metadata": {},
   "source": [
    "### Memoize an existing numpy function\n",
    "Note that the first call to the non-memoized np.add actually takes *less time* than the second call to the memoized version. It seems that there is some overhead to memoizing large input data such as big lists. This might be improved by pickling the inputs."
   ]
  },
  {
   "cell_type": "code",
   "execution_count": null,
   "metadata": {},
   "outputs": [],
   "source": [
    "array = np.array([2]*50000000)\n",
    "add_memory = memory.cache(np.add)  # get a memoized version of np.add\n",
    "\n",
    "def add_indirect(array, n):\n",
    "    return np.add(array, n)\n",
    "\n",
    "# First call to add_memo\n",
    "start = time.time()\n",
    "array2 = add_memory(array, 1)\n",
    "stop = time.time()\n",
    "print('First run with memoized add: {0} s'.format(stop-start))\n",
    "\n",
    "# Repeat the call to add_memo with same args\n",
    "start = time.time()\n",
    "array2 = add_memory(array, 1)\n",
    "stop = time.time()\n",
    "print('Second run with memoized add: {0} s'.format(stop-start))\n",
    "\n",
    "# First call to the non-memoized np.add\n",
    "# Note that this takes *less time* than even the second call to the memoized version\n",
    "start = time.time()\n",
    "array2 = add_indirect(array, 1)\n",
    "stop = time.time()\n",
    "print('First run with non-memoized add: {0} s'.format(stop-start))"
   ]
  },
  {
   "cell_type": "markdown",
   "metadata": {},
   "source": [
    "### Try memoizing using in-memory memoization\n",
    "In contrast to the previous cell, here we see that the second run to the memoized function is much faster than non-memoized np.add"
   ]
  },
  {
   "cell_type": "code",
   "execution_count": null,
   "metadata": {},
   "outputs": [],
   "source": [
    "# Decorator for in-memory memoization using a dictionary.\n",
    "# Source: https://wiki.python.org/moin/PythonDecoratorLibrary#Memoize\n",
    "def memoize(obj):\n",
    "    cache = {}\n",
    "    \n",
    "    @functools.wraps(obj)\n",
    "    def memoizer(*args, **kwargs):\n",
    "        key = str(args) + str(kwargs)  # broken!\n",
    "        if key not in cache:\n",
    "            cache[key] = obj(*args, **kwargs)\n",
    "        return cache[key]\n",
    "    \n",
    "    return memoizer\n",
    "\n",
    "array = np.array([1]*50000000)\n",
    "add_memoize = memoize(np.add)\n",
    "\n",
    "# First call to add_memo\n",
    "start = time.time()\n",
    "array2 = add_memoize(array, 1)\n",
    "stop = time.time()\n",
    "print('First run with memoized add: {0} s'.format(stop-start))\n",
    "\n",
    "array[10] = -1\n",
    "\n",
    "# Repeat the call to add_memo with same args\n",
    "start = time.time()\n",
    "array3 = add_memoize(array, 1)\n",
    "stop = time.time()\n",
    "print('Second run with memoized add: {0} s'.format(stop-start))\n",
    "\n",
    "# First call to the non-memoized np.add\n",
    "start = time.time()\n",
    "array4 = np.add(array, 1)\n",
    "stop = time.time()\n",
    "print('First run with non-memoized add: {0} s'.format(stop-start))\n",
    "    "
   ]
  },
  {
   "cell_type": "markdown",
   "metadata": {},
   "source": [
    "### Use functools.partial to emulate currying"
   ]
  },
  {
   "cell_type": "code",
   "execution_count": null,
   "metadata": {},
   "outputs": [],
   "source": [
    "array = np.array([1, 2, 3, 4, 5])\n",
    "\n",
    "add_array = functools.partial(np.add, array)  # np.add with the array argument already supplied\n",
    "\n",
    "print(add_array(1))\n",
    "print(add_array(2))\n",
    "print(add_array(3))\n",
    "print('\\n')\n",
    "\n",
    "# A three argument function\n",
    "def greeting(word1='Hello', word2='World', punct='!'):\n",
    "    print(word1 + ' ' + word2 + punct)\n",
    "\n",
    "# Test the basic functionality\n",
    "greeting()\n",
    "greeting('Good', 'afternoon', '!')\n",
    "print('\\n')\n",
    "\n",
    "ask = functools.partial(greeting, punct='?')\n",
    "ask('Welcome', 'to the real world')\n",
    "ask(word2='Moon')"
   ]
  },
  {
   "cell_type": "code",
   "execution_count": null,
   "metadata": {},
   "outputs": [],
   "source": [
    "def g(a, b, c):\n",
    "    print(a+b+c)\n",
    "    \n",
    "g(3,3,3)\n",
    "\n",
    "gp = functools.partial(g, 5, c=5)\n",
    "gp(b=9)\n",
    "\n",
    "gp.keywords\n",
    "\n",
    "g=(a=5, b=5, c=5) # ok\n",
    "g=(5, b=5, c=5) # ok\n",
    "g=(a=5, 5, c=5) # notok"
   ]
  }
 ],
 "metadata": {
  "kernelspec": {
   "display_name": "Python 3",
   "language": "python",
   "name": "python3"
  },
  "language_info": {
   "codemirror_mode": {
    "name": "ipython",
    "version": 3
   },
   "file_extension": ".py",
   "mimetype": "text/x-python",
   "name": "python",
   "nbconvert_exporter": "python",
   "pygments_lexer": "ipython3",
   "version": "3.6.6"
  }
 },
 "nbformat": 4,
 "nbformat_minor": 2
}
