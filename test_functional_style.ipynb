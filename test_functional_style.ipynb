{
 "cells": [
  {
   "cell_type": "code",
   "execution_count": 101,
   "metadata": {},
   "outputs": [],
   "source": [
    "import numpy as np\n",
    "import copy\n",
    "import time\n",
    "\n",
    "from joblib import Memory\n",
    "from joblib import Parallel, delayed"
   ]
  },
  {
   "cell_type": "code",
   "execution_count": 24,
   "metadata": {},
   "outputs": [],
   "source": [
    "cachedir = './'\n",
    "memory = Memory(cachedir, verbose=False)"
   ]
  },
  {
   "cell_type": "markdown",
   "metadata": {},
   "source": [
    "### Use joblib.Memory to cache results of a simple function taking Python primitive arguments\n",
    "With small, primitive inputs like this, it would be sufficient to use the memoize decorator (http://code.activestate.com/recipes/52201/)"
   ]
  },
  {
   "cell_type": "code",
   "execution_count": 73,
   "metadata": {},
   "outputs": [
    {
     "name": "stdout",
     "output_type": "stream",
     "text": [
      "Running say('Hello world', 1)\n",
      "Hello world\n",
      "\n",
      "Running say('Hello world', 2)\n",
      "Hello world\n",
      "Hello world\n",
      "\n",
      "Hello world\n",
      "\n",
      "Running say('Polly wants a cracker', 2)\n",
      "Polly wants a cracker\n",
      "Polly wants a cracker\n",
      "\n",
      "Polly wants a cracker\n",
      "Polly wants a cracker\n",
      "\n"
     ]
    }
   ],
   "source": [
    "@memory.cache\n",
    "def say(s, n):\n",
    "    print('Running say(\\'%s\\', %d)' % (s, n))\n",
    "    full_statement = ''\n",
    "    for i in range(n):\n",
    "        full_statement += s + '\\n'\n",
    "    return full_statement\n",
    "\n",
    "print(say('Hello world', 1))  # first time calling on this argument\n",
    "print(say('Hello world', 2))  # re-run this because both arguments are not the same\n",
    "print(say('Hello world', 1))  # don't re-run this\n",
    "print(say('Polly wants a cracker', 2)) # first time calling on this argument\n",
    "print(say('Polly wants a cracker', 2)) # don't re-run this"
   ]
  },
  {
   "cell_type": "markdown",
   "metadata": {},
   "source": [
    "### Use Memory to cache results from a function accepting a mutable argument (e.g. list)\n",
    "This is one of the stated use cases of Memory over simple memoizers that hash input arguments and can't accept mutable arguments. However, a  slightly more complicated version of memoizer can pickle the input into a string representation, so this isn't a huge win for Memory."
   ]
  },
  {
   "cell_type": "code",
   "execution_count": 84,
   "metadata": {},
   "outputs": [
    {
     "name": "stdout",
     "output_type": "stream",
     "text": [
      "Running list_add('[1, 2, 3, 4, 5]', 1)\n",
      "[2, 3, 4, 5, 6]\n",
      "\n",
      "\n",
      "[2, 3, 4, 5, 6]\n",
      "\n",
      "\n",
      "Running list_add('[11, 2, 3, 4, 5]', 1)\n",
      "[12, 3, 4, 5, 6]\n",
      "\n",
      "\n"
     ]
    }
   ],
   "source": [
    "@memory.cache\n",
    "def list_add(l, n):\n",
    "    print('Running list_add(\\'%s\\', %d)' % (str(l), n))\n",
    "    l_copy = copy.deepcopy(l) # avoid modifying the original list\n",
    "    for i in range(len(l_copy)):\n",
    "        l_copy[i] += n\n",
    "    return l_copy\n",
    "\n",
    "l = [1, 2, 3, 4, 5]\n",
    "\n",
    "print(list_add(l, 1))  # First call\n",
    "print('\\n')\n",
    "\n",
    "print(list_add(l, 1))  # Don't re-run\n",
    "print('\\n')\n",
    "\n",
    "l[0] = 11\n",
    "print(list_add(l, 1))  # Re-run, as the list has changed\n",
    "print('\\n')\n"
   ]
  },
  {
   "cell_type": "markdown",
   "metadata": {},
   "source": [
    "### Use Memory to cache results from a function accepting numpy array arguments.\n",
    "* Handling numpy arrays is another one of the stated use cases of Memory over memoize. Could you just pickle the array to string to solve this?  \n",
    "* Test how Memory handles very small changes to a value in the numpy array. "
   ]
  },
  {
   "cell_type": "code",
   "execution_count": 72,
   "metadata": {},
   "outputs": [
    {
     "name": "stdout",
     "output_type": "stream",
     "text": [
      "Running print_array([[1 2 3 4]\n",
      " [5 6 7 8]])\n",
      "[[1 2 3 4]\n",
      " [5 6 7 8]]\n",
      "\n",
      "\n",
      "[[1 2 3 4]\n",
      " [5 6 7 8]]\n",
      "\n",
      "\n",
      "[[1 2 3 4]\n",
      " [5 6 7 8]]\n",
      "\n",
      "\n",
      "Running print_array([1])\n",
      "[1]\n",
      "\n",
      "\n",
      "Running print_array([1.])\n",
      "[1.]\n",
      "\n",
      "\n",
      "[1.]\n",
      "\n",
      "\n"
     ]
    }
   ],
   "source": [
    "@memory.cache\n",
    "def print_array(array):\n",
    "    print('Running print_array(%s)' % np.array2string(array))\n",
    "    return array\n",
    "\n",
    "# First time calling on this argument\n",
    "array = np.array([[1, 2, 3, 4], [5, 6, 7, 8]])\n",
    "print(print_array(array))\n",
    "print('\\n')\n",
    "\n",
    "# Don't re-run, as the argument is identical\n",
    "print(print_array(array))  \n",
    "print('\\n')\n",
    "\n",
    "# Don't re-run, as the array has changed insignificantly\n",
    "array[0, 0] += 1e-200\n",
    "print(print_array(array)) \n",
    "print('\\n')\n",
    "\n",
    "# First time calling on this argument\n",
    "print(print_array(np.array([1])))\n",
    "print('\\n')\n",
    "\n",
    "# It DOES re-run this.\n",
    "print(print_array(np.array([1 + 1e-200])))\n",
    "print('\\n')\n",
    "\n",
    "# But it doesn't re-run this...\n",
    "print(print_array(np.array([1 + 1e-100]))) \n",
    "print('\\n')"
   ]
  },
  {
   "cell_type": "markdown",
   "metadata": {},
   "source": [
    "### Memoize a costly helper function, which is called in other functions"
   ]
  },
  {
   "cell_type": "code",
   "execution_count": 95,
   "metadata": {},
   "outputs": [
    {
     "name": "stdout",
     "output_type": "stream",
     "text": [
      "Running array_add([1 2 3 4], 1)\n",
      "Running costly_preprocess([1 2 3 4])\n",
      "[2 3 4 5]\n",
      "2.0088 seconds\n",
      "\n",
      "\n",
      "Running array_add([1 2 3 4], 1)\n",
      "[2 3 4 5]\n",
      "0.0032 seconds\n",
      "\n",
      "\n",
      "Running array_minus[1 2 3 4], 1)\n",
      "[0 1 2 3]\n",
      "0.0018 seconds\n",
      "\n",
      "\n"
     ]
    }
   ],
   "source": [
    "@memory.cache\n",
    "def costly_preprocess(x):\n",
    "    print('Running costly_preprocess(%s)' % str(x))\n",
    "    time.sleep(2)\n",
    "    return x\n",
    "\n",
    "def array_add(array, n):\n",
    "    print('Running array_add({0}, {1})'.format(array, n))\n",
    "    array2 = costly_preprocess(array)  # The inner function call is memoized\n",
    "    return(np.add(array2, n))\n",
    "\n",
    "def array_minus(array, n):\n",
    "    print('Running array_minus({0}, {1})'.format(array, n))\n",
    "    array2 = costly_preprocess(array)  # The inner function call is memoized\n",
    "    return(np.subtract(array2, n))\n",
    "\n",
    "\n",
    "\n",
    "array = np.array([1, 2, 3, 4])\n",
    "\n",
    "start = time.time()\n",
    "print(array_add(array, 1))\n",
    "stop = time.time()\n",
    "print('{0} seconds'.format(round(stop-start, 4)))\n",
    "print('\\n')\n",
    "\n",
    "# It re-runs the outer function, but not the inner memoized function\n",
    "start = time.time()\n",
    "print(array_add(array, 1))\n",
    "stop = time.time()\n",
    "print('{0} seconds'.format(round(stop-start, 4)))\n",
    "print('\\n')\n",
    "\n",
    "\n",
    "# Even with a different outer function, we benefit from the memoization of the inner function\n",
    "start = time.time()\n",
    "print(array_minus(array, 1))\n",
    "stop = time.time()\n",
    "print('{0} seconds'.format(round(stop-start, 4)))\n",
    "print('\\n')\n",
    "\n",
    "\n"
   ]
  },
  {
   "cell_type": "markdown",
   "metadata": {},
   "source": [
    "### Use Joblib.Parallel for embarassingly parallel loops\n",
    "The default usage is to turn the loop into an iterator (e.g. list comprehension)."
   ]
  },
  {
   "cell_type": "code",
   "execution_count": 104,
   "metadata": {},
   "outputs": [
    {
     "name": "stdout",
     "output_type": "stream",
     "text": [
      "Serial: 10.0344 seconds\n",
      "\n",
      "\n",
      "Parallel: 0.0226 seconds\n",
      "\n",
      "\n"
     ]
    }
   ],
   "source": [
    "def costly_preprocess(x):\n",
    "    time.sleep(1)\n",
    "    return x\n",
    "\n",
    "def array_add(array, n):\n",
    "    array2 = costly_preprocess(array)\n",
    "    return(np.add(array2, n))\n",
    "\n",
    "\n",
    "array = np.array([5, 6, 7, 8, 9])\n",
    "many_arrays = [array]*10\n",
    "\n",
    "# Serial processing\n",
    "start = time.time()\n",
    "result1 = [array_add(array, 1) for array in many_arrays]\n",
    "stop = time.time()\n",
    "print('Serial: {0} seconds'.format(round(stop-start, 4)))\n",
    "print('\\n')\n",
    "\n",
    "# Parallel processing\n",
    "start = time.time()\n",
    "result2 = Parallel(n_jobs=-1)(\n",
    "            delayed(array_add)(array, 1) for array in many_arrays)\n",
    "stop = time.time()\n",
    "print('Parallel: {0} seconds'.format(round(stop-start, 4)))\n",
    "print('\\n')\n"
   ]
  }
 ],
 "metadata": {
  "kernelspec": {
   "display_name": "Python 3",
   "language": "python",
   "name": "python3"
  },
  "language_info": {
   "codemirror_mode": {
    "name": "ipython",
    "version": 3
   },
   "file_extension": ".py",
   "mimetype": "text/x-python",
   "name": "python",
   "nbconvert_exporter": "python",
   "pygments_lexer": "ipython3",
   "version": "3.6.7"
  }
 },
 "nbformat": 4,
 "nbformat_minor": 2
}
