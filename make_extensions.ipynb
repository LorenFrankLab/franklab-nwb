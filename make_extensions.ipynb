{
 "cells": [
  {
   "cell_type": "code",
   "execution_count": 5,
   "metadata": {},
   "outputs": [
    {
     "name": "stdout",
     "output_type": "stream",
     "text": [
      "The autoreload extension is already loaded. To reload it, use:\n",
      "  %reload_ext autoreload\n"
     ]
    }
   ],
   "source": [
    "%load_ext autoreload\n",
    "%autoreload 2\n",
    "\n",
    "import os\n",
    "\n",
    "import numpy as np\n",
    "from datetime import datetime\n",
    "from dateutil import tz\n",
    "import matplotlib.pyplot as plt\n",
    "import matplotlib.dates as mdates\n",
    "import matplotlib.ticker as mticker\n",
    "\n",
    "\n",
    "import pynwb\n",
    "from pynwb import register_class\n",
    "from pynwb import get_class\n",
    "from pynwb.form.utils import docval, getargs, popargs, call_docval_func\n",
    "\n",
    "import nspike_helpers as ns \n",
    "import query_helpers as qu\n",
    "\n",
    "mdates.rcParams.update({'date.autoformatter.microsecond': '%H:%M:%S.%f'})"
   ]
  },
  {
   "cell_type": "markdown",
   "metadata": {},
   "source": [
    "### Overview\n",
    "* **FL_BehavioralEpochs** - A DynamicTable where each row contains data from an epoch, possibly including:\n",
    "\n",
    "    * **name** - Name of the epoch\n",
    "    * **position** - Position (multicontainer of SpatialSeries) for animal position during the epoch, possibly including:\n",
    "        * {(x1, y1)...} - 2D position vs time, with respect to a world geometry (e.g. a room or a camera frame)\n",
    "        * {d1, ...} - 1D distance vs time, linked to a 1D linearized track geometry    \n",
    "    * **head_dir** - CompassDirection (multicontainer of SpatialSeries) for animal head direction during the epoch\n",
    "    * **speed** - BehavioralTimeSeries (multicontainter for TimeSeries) for animal speed during the epoch\n",
    "    * **FL_BehavioralEvents** - DynamicTable of possibly-overlapping behavioral events (e.g. cue light on, reward delivery on)\n",
    "    * **FL_BehavioralGraphPath** - TimeSeries or non-overlapping TimeIntervals of animal's path through the FL_BehavioralGraph in this epoch\n",
    "    * **FL_BehavioralTask** - Container for data describing the task/apparatus for the epoch (a task instance should be reusable), possibly including:\n",
    "        * **FL_BehavioralGraph** - graph representing the structure of discrete, non-overlapping states of the behavior (e.g. on segment 3, not at well)\n",
    "        * **FL_BehavioralWorld** - collection of geometries describing the behavioral world (either with respect to a room geometry or with respect to a camera frame) possibly including:\n",
    "            * 1D linearized representation of the track\n",
    "            * 2D geometries representing track borders\n",
    "            * 2D or 3D geometries representing the experimental room\n",
    "            * n-D geoemtries for objects, cues, or other elements of the world (e.g. locations of wells, cues, levers)\n",
    "     \n",
    "    "
   ]
  },
  {
   "cell_type": "markdown",
   "metadata": {},
   "source": [
    "### Spec for a Behavioral Task group\n",
    "An object for representing a behavioral task structure. A given instance of FL_BehavioralTask should be reusable for different epochs of one animal or between animals, assuming that a task is ever used more than once. It could include:\n",
    "\n",
    "* **FL_BehavioralWorld** - geometries describing the spatial and operant world of this task (e.g. 1D and 2D track geometry, the room, notable objects or cues). These world geometries can then be linked to animal position (e.g. linking 2D w-track position data to an instance of the W-track in the same reference frame)\n",
    "* **FL_BehavioralGraph** - discrete, non-overlapping states of animal behavior (e.g. open-field no well, open-field at well, arm 4 no well, arm 4 at well, ...)\n",
    "* Attributes such as human-readable descriptions of the task and apparatus."
   ]
  },
  {
   "cell_type": "code",
   "execution_count": null,
   "metadata": {},
   "outputs": [],
   "source": [
    "world_spec = pynwb.spec.NWBGroupSpec(name='world',\n",
    "                                     doc='Collection of geometries (1D, 2D, or 3D) describing the behavioral environment',\n",
    "                                     neurodata_type_inc='NWBContainer',\n",
    "                                     neurodata_type_def='FL_BehavioralWorld')\n",
    "\n",
    "graph_spec = pynwb.spec.NWBGroupSpec(name='graph',\n",
    "                                   doc='Graph describing non-overlapping behavioral states',\n",
    "                                   neurodata_type_inc='NWBContainer',\n",
    "                                   neurodata_type_def='FL_BehavioralGraph')\n",
    "\n",
    "behavioral_task_spec = pynwb.spec.NWBGroupSpec(name='FL_BehavioralTask',\n",
    "                                               doc='Container of objects for describing a behavioral task',\n",
    "                                               groups=[world_spec, graph_spec],\n",
    "                                               neurodata_type_inc='NWBContainer',\n",
    "                                               neurodata_type_def='FL_BehavioralTask')"
   ]
  },
  {
   "cell_type": "markdown",
   "metadata": {},
   "source": [
    "### Spec for a FL_BehavioralEvents DynamicTable\n",
    "DynamicTable of possibly-overlapping instances of experimental/behavioral events (e.g. reward delivered, cue light on).\n",
    "\n",
    "This spec is currently just a template.\n"
   ]
  },
  {
   "cell_type": "code",
   "execution_count": null,
   "metadata": {},
   "outputs": [],
   "source": [
    "behavioral_events_spec = pynwb.spec.NWBGroupSpec(name='events',\n",
    "                                      doc='DynamicTable of describing possibly-overlapping behavioral/experimental events',\n",
    "                                      neurodata_type_inc='DynamicTable',\n",
    "                                      neurodata_type_def='FL_BehavioralEvents')"
   ]
  },
  {
   "cell_type": "markdown",
   "metadata": {},
   "source": [
    "### Spec for FL_BehavioralGraphPath\n",
    "BehavioralTimeSeries describing the animal's non-overlapping path through a FL_BehavioralGraph in this epoch. This is the path through a graph for a given epoch, not the structure of the graph itself. The structure of the graph is described in the FL_BehavioralGraph, usually found within an FL_BehavioralTask object. \n",
    "\n",
    "This spec is currently just a template."
   ]
  },
  {
   "cell_type": "code",
   "execution_count": null,
   "metadata": {},
   "outputs": [],
   "source": [
    "behavioral_graph_path_spec = pynwb.spec.NWBGroupSpec(name='graph_path',\n",
    "                                        doc='Non-overlapping path through a FL_BehavioralGraph',\n",
    "                                      neurodata_type_inc='BehavioralTimeSeries',\n",
    "                                      neurodata_type_def='FL_BehavioralGraphPath')"
   ]
  },
  {
   "cell_type": "code",
   "execution_count": 7,
   "metadata": {},
   "outputs": [],
   "source": [
    "# Create new YAML specs for Speed and Head Direction (we already have a Position class in NWB)\n",
    "pos_spec = pynwb.spec.NWBDSetSpec(name='FL_Position', \n",
    "                                   doc='Animal position with respect to a FL_Environment',\n",
    "                                   neurodata_type_inc='Position',\n",
    "                                   neurodata_type_def='FL_Position')\n",
    "\n",
    "\n",
    "speed_spec = pynwb.spec.NWBGroupSpec(name='FL_Speed', \n",
    "                                     doc='Animal speed during an epoch',\n",
    "                                     neurodata_type_inc='BehavioralTimeSeries',\n",
    "                                     neurodata_type_def='FL_Speed')\n",
    "\n",
    "head_dir_spec = pynwb.spec.NWBGroupSpec(name='FL_HeadDirection', \n",
    "                                        doc='Animal head direction during an epoch',\n",
    "                                        neurodata_type_inc='CompassDirection',\n",
    "                                        neurodata_type_def='FL_HeadDirection')\n",
    "\n",
    "# Container for holding environment geometry information (currently unspecified what this will entail)\n",
    "env_spec = pynwb.spec.NWBGroupSpec(name='FL_Environment',\n",
    "                                   doc='Geometry (1D, 2D, or 3D) describing the behavioral environment',\n",
    "                                   neurodata_type_inc='NWBContainer',\n",
    "                                   neurodata_type_def='FL_Environment')\n",
    "\n",
    "# Continuous behavior of an animal in an spatial environment (potentially undergoing different tasks)\n",
    "behavior_spec = pynwb.spec.NWBGroupSpec(name='FL_Behavior',\n",
    "                                        doc='Container of objects for describing continuous behavior in a given environment',\n",
    "                                        groups=[pos_spec, speed_spec, head_dir_spec],\n",
    "                                        neurodata_type_inc='NWBContainer',\n",
    "                                        neurodata_type_def='FL_Behavior')\n",
    "\n",
    "ns_builder = pynwb.spec.NWBNamespaceBuilder('Extension for use in the Frank Lab', \"franklab\")\n",
    "\n",
    "# ns_builder.add_spec(ext_path, pos_spec)\n",
    "# ns_builder.add_spec(ext_path, speed_spec)\n",
    "# ns_builder.add_spec(ext_path, head_dir_spec)\n",
    "# ns_builder.add_spec(ext_path, env_spec)\n",
    "\n",
    "ns_path = \"franklab.namespace.yaml\"\n",
    "ext_path = \"franklab.extensions.yaml\"\n",
    "\n",
    "ns_builder.add_spec(ext_path, behavior_spec)\n",
    "ns_builder.export(ns_path)\n",
    "\n",
    "pynwb.load_namespaces(ns_path)\n",
    "\n",
    "FL_Behavior = get_class('FL_Behavior', 'franklab')"
   ]
  },
  {
   "cell_type": "code",
   "execution_count": 8,
   "metadata": {},
   "outputs": [],
   "source": [
    "# what data to analyze\n",
    "d = {}\n",
    "d['anim'] = 'Bon'\n",
    "d['day'] = 4 # 1-indexed\n",
    "\n",
    "d['epoch'] = 4 # 1-indexed\n",
    "d['cluster_id'] = 30\n",
    "\n",
    "# analysis configuration\n",
    "c = {}\n",
    "c['speed_threshold'] = 0.05 # m/s"
   ]
  },
  {
   "cell_type": "code",
   "execution_count": 9,
   "metadata": {},
   "outputs": [
    {
     "name": "stdout",
     "output_type": "stream",
     "text": [
      "Loading file: ./Bon04_test.nwb\n"
     ]
    }
   ],
   "source": [
    "animday = '{}{:02d}'.format(d['anim'], d['day'])\n",
    "nwb_filename = './' + animday + '_test.nwb'\n",
    "\n",
    "print('Loading file: %s' % nwb_filename)\n",
    "io = pynwb.NWBHDF5IO(nwb_filename, mode='r')\n",
    "nwbf = io.read()"
   ]
  },
  {
   "cell_type": "markdown",
   "metadata": {},
   "source": [
    "### Dataset Query: Find all behavioral epochs on Track B"
   ]
  },
  {
   "cell_type": "code",
   "execution_count": 10,
   "metadata": {},
   "outputs": [],
   "source": [
    "# Dataset query: Find all epochs on Track B\n",
    "env_types = np.array(nwbf.epochs['environment'][:])\n",
    "trackB_epoch_indices = np.where(env_types=='TrackB')[0]"
   ]
  },
  {
   "cell_type": "markdown",
   "metadata": {},
   "source": [
    "### Concatenate the valid intervals for all Track B epochs"
   ]
  },
  {
   "cell_type": "code",
   "execution_count": null,
   "metadata": {},
   "outputs": [],
   "source": [
    "# Find the valid intervals for all of our Track B epochs\n",
    "# We will concatenate these in a FL_Behavior for all Track B beahvioral data\n",
    "trackB_valid_intervals = []\n",
    "for i in trackB_epoch_indices:\n",
    "    epoch_start = nwbf.epochs['start_time'][i]\n",
    "    epoch_stop = nwbf.epochs['stop_time'][i]\n",
    "    trackB_valid_intervals.append([epoch_start, epoch_stop])\n",
    "trackB_valid_intervals = TimeIntervals(np.array(trackB_intervals))"
   ]
  },
  {
   "cell_type": "markdown",
   "metadata": {},
   "source": [
    "### Concatenate the position, speed, and head direction data for all Track B epochs"
   ]
  },
  {
   "cell_type": "code",
   "execution_count": 12,
   "metadata": {},
   "outputs": [],
   "source": [
    "speed_data = []\n",
    "speed_ts = []\n",
    "headDir_data = []\n",
    "headDir_ts = []\n",
    "pos_data = []\n",
    "pos_ts = []\n",
    "for epoch_idx in trackB_epoch_indices:\n",
    "    epoch = epoch_idx + 1  # our epoch strings are 1-indexed\n",
    "    # Speed\n",
    "    speed_module_name = 'Speed d{:d} e{:d}'.format(d['day'], epoch)\n",
    "    speed_data.append(nwbf.modules['Behavior']['Speed'][speed_module_name].data[()])\n",
    "    speed_ts.append(nwbf.modules['Behavior']['Speed'][speed_module_name].timestamps[()])\n",
    "    # Head Direction\n",
    "    headDir_module_name = 'Head Direction d{:d} e{:d}'.format(d['day'], epoch)\n",
    "    headDir_data.append(nwbf.modules['Behavior']['Head Direction'][headDir_module_name].data[()])\n",
    "    headDir_ts.append(nwbf.modules['Behavior']['Head Direction'][headDir_module_name].timestamps[()])\n",
    "    # Position\n",
    "    pos_module_name = 'Position d{:d} e{:d}'.format(d['day'], epoch)\n",
    "    pos_data.append(nwbf.modules['Behavior']['Position'][pos_module_name].data[()])\n",
    "    pos_ts.append(nwbf.modules['Behavior']['Position'][pos_module_name].timestamps[()])\n",
    "speed_data = np.concatenate(speed_data, axis=None)\n",
    "speed_ts = np.concatenate(speed_ts, axis=None)\n",
    "headDir_data = np.concatenate(headDir_data, axis=None)\n",
    "headDir_ts = np.concatenate(headDir_ts, axis=None)\n",
    "pos_data = np.concatenate(pos_data, axis=0)   \n",
    "pos_ts = np.concatenate(pos_ts, axis=0) "
   ]
  },
  {
   "cell_type": "markdown",
   "metadata": {},
   "source": [
    "### Make a new FL_Behavior for continuous data in Track B"
   ]
  },
  {
   "cell_type": "code",
   "execution_count": 19,
   "metadata": {},
   "outputs": [],
   "source": [
    "speed = pynwb.behavior.BehavioralTimeSeries(name='Speed')\n",
    "speed.create_timeseries(name='Speed on TrackB', \n",
    "                        timestamps=speed_ts, \n",
    "                        data=speed_data,\n",
    "                        unit='m/s')\n",
    "\n",
    "headDir = pynwb.behavior.CompassDirection(name='HeadDirection')\n",
    "headDir.create_spatial_series(name='Head direction on track B', \n",
    "                              timestamps=headDir_ts, \n",
    "                              data=headDir_data,\n",
    "                              reference_frame='0=facing top of video frame (?), positive clockwise (?)')\n",
    "\n",
    "pos = pynwb.behavior.Position(name='Position')\n",
    "pos.create_spatial_series(name='2D position on track B', \n",
    "                              timestamps=pos_ts, \n",
    "                              data=pos_data,\n",
    "                              reference_frame='top left corner of camera frame')\n",
    "\n",
    "behav_trackB = FL_Behavior(name='Continuous behavior on track B',\n",
    "                           FL_Position=[pos], \n",
    "                           FL_Speed=[speed], \n",
    "                           FL_HeadDirection=[headDir])"
   ]
  },
  {
   "cell_type": "code",
   "execution_count": 17,
   "metadata": {},
   "outputs": [
    {
     "data": {
      "text/plain": [
       "[\n",
       " Position <class 'pynwb.behavior.Position'>\n",
       " Fields:\n",
       "   spatial_series: { 2D position on track B <class 'pynwb.behavior.SpatialSeries'> }]"
      ]
     },
     "execution_count": 17,
     "metadata": {},
     "output_type": "execute_result"
    }
   ],
   "source": [
    "behav_trackB.FL_Position"
   ]
  },
  {
   "cell_type": "markdown",
   "metadata": {},
   "source": [
    "### Spec for an Epochs DynamicTable\n",
    "Each epoch (row) of the table contains:\n",
    "* Name (text)\n",
    "* Task (FL_BehavioralTask)\n",
    "* Position (pynwb.behavior.Position)\n",
    "* Speed (pynwb.behavior.BehavioralTimeSeries)\n",
    "* Head direction (pynwb.behavior.CompassDirection)"
   ]
  },
  {
   "cell_type": "code",
   "execution_count": null,
   "metadata": {},
   "outputs": [],
   "source": [
    "epoch_datasets = [pynwb.spec.NWBDatasetSpec(name='epoch_name',\n",
    "                                            doc='Name for this epoch',\n",
    "                                            dtype='text',\n",
    "                                            quantity='?',\n",
    "                                            neurodata_type_inc='VectorData'),\n",
    "                  pynwb.spec.NWBDatasetSpec(name='position', \n",
    "                                            doc='Animal spatial position during an epoch', \n",
    "                                            dtype=pynwb.spec.NWBRefSpec('Position', 'object'),\n",
    "                                            quantity='?',\n",
    "                                            neurodata_type_inc='VectorData'),\n",
    "                  pynwb.spec.NWBDatasetSpec(name='speed', \n",
    "                                            doc='Animal speed during an epoch', \n",
    "                                            dtype=pynwb.spec.NWBRefSpec('BehavioralTimeSeries', 'object'),\n",
    "                                            quantity='?',\n",
    "                                            neurodata_type_inc='VectorData'),\n",
    "                  pynwb.spec.NWBDatasetSpec(name='head_dir', \n",
    "                                            doc='Animal head direction during an epoch',\n",
    "                                            dtype=pynwb.spec.NWBRefSpec('CompassDirection', 'object'),\n",
    "                                            quantity='?',\n",
    "                                            neurodata_type_inc='VectorData'),\n",
    "                 pynwb.spec.NWBDatasetSpec(name='task',\n",
    "                                            doc='Task used in this epoch',\n",
    "                                            dtype=pynwb.spec.NWBRefSpec('FL_BehavioralTask', 'object'),\n",
    "                                            quantity='?',\n",
    "                                            neurodata_type_inc='VectorData'),\n",
    "                 pynwb.spec.NWBDatasetSpec(name='events',\n",
    "                                            doc='Events occurring in this epoch',\n",
    "                                            dtype=pynwb.spec.NWBRefSpec('FL_BehavioralEvents', 'object'),\n",
    "                                            quantity='?',\n",
    "                                            neurodata_type_inc='VectorData'),\n",
    "                 pynwb.spec.NWBDatasetSpec(name='graph_path',\n",
    "                                            doc='Path through a BehavioralGraph in this epoch',\n",
    "                                            dtype=pynwb.spec.NWBRefSpec('FL_BehavioralGraphPath', 'object'),\n",
    "                                            quantity='?',\n",
    "                                            neurodata_type_inc='VectorData')]\n",
    "\n",
    "behavioral_epochs_spec = pynwb.spec.NWBGroupSpec(name='FL_BehavioralEpochs',\n",
    "                                                 doc='DynamicTable for describing behavioral epochs',\n",
    "                                                 neurodata_type_inc='DynamicTable', \n",
    "                                                 neurodata_type_def='FL_BehavioralEpochs',\n",
    "                                                 datasets=epoch_datasets,\n",
    "                                                 quantity=\"?\")"
   ]
  },
  {
   "cell_type": "markdown",
   "metadata": {},
   "source": [
    "### Build a namespace and export to YAML"
   ]
  },
  {
   "cell_type": "code",
   "execution_count": null,
   "metadata": {},
   "outputs": [],
   "source": [
    "ns_path = \"franklab.namespace.yaml\"\n",
    "ext_path = \"franklab.extensions.yaml\"\n",
    "\n",
    "ns_builder = pynwb.spec.NWBNamespaceBuilder('Extension for use in the Frank Lab', \"franklab\")\n",
    "\n",
    "ns_builder.add_spec(ext_path, behavioral_task_spec)\n",
    "ns_builder.add_spec(ext_path, behavioral_events_spec)\n",
    "ns_builder.add_spec(ext_path, behavioral_graph_path_spec)\n",
    "ns_builder.add_spec(ext_path, behavioral_epochs_spec)\n",
    "\n",
    "ns_builder.export(ns_path)"
   ]
  },
  {
   "cell_type": "markdown",
   "metadata": {},
   "source": [
    "### Load our namespace"
   ]
  },
  {
   "cell_type": "code",
   "execution_count": null,
   "metadata": {},
   "outputs": [],
   "source": [
    "pynwb.load_namespaces(ns_path)"
   ]
  },
  {
   "cell_type": "markdown",
   "metadata": {},
   "source": [
    "### Auto-generate a Python class for our extensions\n",
    "\n",
    "#### Currently does not work...\n",
    "Auto-generation seems to not work with DynamicTables yet.\n",
    "It correctly creates a class inheriting from DynamicTable, but it does not implement the columns\n",
    "in the \"columns\" class variable or the docstring in \"add_row()\". Recall that in the Units DynamicTable,\n",
    "a new method \"add_unit()\" was created with a docstring for the correct columns (e.g. spiketimes, obs_intervals).\n",
    "A similar \"add_epoch()\" method is not auto-generated."
   ]
  },
  {
   "cell_type": "code",
   "execution_count": null,
   "metadata": {},
   "outputs": [],
   "source": [
    "from pynwb import get_class\n",
    "# FL_BehavioralEpochs = get_class('FL_BehavioralEpochs', 'franklab')  # This is currently not working\n",
    "FL_BehavioralWorld = get_class('FL_BehavioralWorld', 'franklab')\n",
    "FL_BehavioralGraph = get_class('FL_BehavioralGraph', 'franklab')\n",
    "FL_BehavioralEvents = get_class('FL_BehavioralEvents', 'franklab')    # This one will also likely not work once we actually define the table columns.\n",
    "FL_BehavioralGraphPath = get_class('FL_BehavioralGraphPath', 'franklab')\n",
    "# FL_BehavioralTask = get_class('FL_BehavioralTask', 'franklab')      # This is currently not working"
   ]
  },
  {
   "cell_type": "markdown",
   "metadata": {},
   "source": [
    "### Manually create a class for FL_BehavioralEpochs"
   ]
  },
  {
   "cell_type": "code",
   "execution_count": null,
   "metadata": {},
   "outputs": [],
   "source": [
    "@register_class('FL_BehavioralEpochs', 'franklab')\n",
    "class FL_BehavioralEpochs(pynwb.core.DynamicTable):\n",
    "    \"\"\"\n",
    "    Data for behavioral epochs.\n",
    "    \"\"\"\n",
    "\n",
    "    # Setting index to True throws an error if I try to store non-iterable types, such as SpatialSeries\n",
    "    __columns__ = (\n",
    "        {'name': 'epoch_name', 'description': 'Name for this epoch', 'index': False},\n",
    "        {'name': 'position', 'description': 'Animal spatial position during an epoch', 'index': False},\n",
    "        {'name': 'speed', 'description': 'Animal speed during an epoch', 'index': False},\n",
    "        {'name': 'head_dir', 'description': 'Animal head direction during an epoch', 'index': False},\n",
    "        {'name': 'task', 'description': 'Behavioral task for this epoch', 'index': False},\n",
    "        {'name': 'events', 'description': 'Possibly-overlapping behavioral events in this epoch', 'index': False},\n",
    "        {'name': 'graph_path', 'description': 'Non-overlapping graph path for this epoch', 'index': False}\n",
    "    )\n",
    "\n",
    "    @docval({'name': 'name', 'type': str, 'doc': 'Name of this FL_BehavioralEpochs table', 'default': 'FL_BehavioralEpochs'},\n",
    "            {'name': 'id', 'type': ('array_data', pynwb.core.ElementIdentifiers),\n",
    "             'doc': 'the identifiers for the epochs stored in this interface', 'default': None},\n",
    "            {'name': 'columns', 'type': (tuple, list), 'doc': 'the columns in this table', 'default': None},\n",
    "            {'name': 'colnames', 'type': 'array_data', 'doc': 'the names of the columns in this table',\n",
    "             'default': None},\n",
    "            {'name': 'description', 'type': str, 'doc': 'a description of what is in this FL_BehavioralEpochs table', 'default': None})\n",
    "    def __init__(self, **kwargs):\n",
    "        if kwargs.get('description', None) is None:\n",
    "            kwargs['description'] = \"\"\n",
    "        call_docval_func(super(FL_BehavioralEpochs, self).__init__, kwargs)\n",
    "\n",
    "    @docval({'name': 'epoch_name', 'type': str, 'doc': 'Name for this epoch', 'default': None},\n",
    "            {'name': 'position', 'type': pynwb.behavior.Position, 'doc': 'Animal spatial position during an epoch', 'default': None},\n",
    "            {'name': 'speed', 'type': pynwb.behavior.BehavioralTimeSeries, 'doc': 'Animal speed during an epoch', 'default': None},\n",
    "            {'name': 'head_dir', 'type': pynwb.behavior.CompassDirection, 'doc': 'Animal head direction during an epoch', 'default': None},\n",
    "            {'name': 'task', 'type': 'FL_BehavioralTask', 'doc': 'Behavioral task for this epoch', 'default': None},\n",
    "            {'name': 'events', 'type': 'FL_BehavioralEvents', 'doc': 'Possibly-overlapping behavioral events in this epoch', 'default': None},\n",
    "            {'name': 'graph_path', 'type': 'FL_BehavioralGraphPath', 'doc': 'Non-overlapping graph path for this epoch', 'default': None},\n",
    "            {'name': 'id', 'type': int, 'default': None, 'help': 'the id for each unit'},\n",
    "            allow_extra=True)\n",
    "    def add_epoch(self, **kwargs):\n",
    "        \"\"\"\n",
    "        Add an epoch to this table\n",
    "        \"\"\"\n",
    "        super(FL_BehavioralEpochs, self).add_row(**kwargs)\n"
   ]
  },
  {
   "cell_type": "markdown",
   "metadata": {},
   "source": [
    "### Manually create a class for FL_BehavioralTask"
   ]
  },
  {
   "cell_type": "code",
   "execution_count": null,
   "metadata": {},
   "outputs": [],
   "source": [
    "@register_class('FL_BehavioralTask', 'franklab')\n",
    "class FL_BehavioralTask(pynwb.core.NWBContainer):\n",
    "    __nwbfields__ = ('name', 'world', 'graph')\n",
    "\n",
    "    @docval({'name': 'name', 'type': str, 'doc': 'who names a potato?', 'default': 'FL_BehavioralTask'},\n",
    "            {'name': 'world', 'type': 'FL_BehavioralWorld', 'doc': 'Collection of geometries (1D, 2D, or 3D) describing the behavioral environment', 'default': None},\n",
    "            {'name': 'graph', 'type': 'FL_BehavioralGraph', 'doc': 'Graph describing non-overlapping behavioral states', 'default': None})\n",
    "    def __init__(self, **kwargs):\n",
    "        super(FL_BehavioralTask, self).__init__(name=kwargs['name'])\n",
    "        self.world = kwargs['world']\n",
    "        self.graph = kwargs['graph']"
   ]
  },
  {
   "cell_type": "markdown",
   "metadata": {},
   "source": [
    "### Extract behavioral data"
   ]
  },
  {
   "cell_type": "code",
   "execution_count": null,
   "metadata": {},
   "outputs": [],
   "source": [
    "# Session-specific params\n",
    "data_dir = os.path.expanduser('~/Data/FrankData/kkay/Bon')\n",
    "anim = 'Bon' \n",
    "prefix = anim.lower()\n",
    "day = 3 # below we'll code date as 2006-Jan-'Day'\n",
    "\n",
    "# Calculate the POSIX timestamp when Nspike clock = 0 (seconds)\n",
    "dataset_zero_time = datetime(2006, 1, day, 12, 0, 0, tzinfo=tz.gettz('US/Pacific'))\n",
    "NSpike_posixtime_offset = dataset_zero_time.timestamp()\n",
    "\n",
    "# NOTE that day_inds is 0 based\n",
    "time_list = {}\n",
    "nwb_epoch = {}\n",
    "pos_files = ns.get_files_by_day(data_dir, prefix, 'pos')\n",
    "task_files = ns.get_files_by_day(data_dir, prefix, 'task')\n",
    "\n",
    "mat = ns.loadmat_ff(task_files[day], 'task')\n",
    "task_struct = mat[day]\n",
    "\n",
    "mat = ns.loadmat_ff(pos_files[day], 'pos')\n",
    "pos_struct = mat[day]\n",
    "\n",
    "# create position, direction and speed\n",
    "position_list = []\n",
    "direction_list = []\n",
    "speed_list = []\n",
    "time_list = []\n",
    "\n",
    "# Assume field order: (time,x,y,dir,vel)\n",
    "(time_idx, x_idx, y_idx, dir_idx, vel_idx) = range(5)\n",
    "\n",
    "for epoch_num, pos_epoch in pos_struct.items():\n",
    "    # convert times to POSIX time\n",
    "    timestamps = pos_epoch['data'][:,time_idx] + NSpike_posixtime_offset\n",
    "    # collect times of epoch start and end\n",
    "    time_list.append([timestamps[0], timestamps[-1]])\n",
    "    m_per_pixel = pos_epoch['cmperpixel'][0,0]/100 # NWB wants meters per pixel\n",
    "\n",
    "    # These are multicontainers, so we can include multiple Spatial series for each epoch\n",
    "    # For example, 2D (x, y) position with respect to a camera frame or room geometry, and 1D linearized position\n",
    "    positions = pynwb.behavior.Position(name='Position for Epoch ' + str(epoch_num))\n",
    "    directions = pynwb.behavior.CompassDirection(name='Head direction for Epoch ' + str(epoch_num))\n",
    "    speeds = pynwb.behavior.BehavioralTimeSeries(name='Speed for Epoch ' + str(epoch_num))\n",
    "    \n",
    "    positions.create_spatial_series(name='2D position d%d e%d' % (day, epoch_num), \n",
    "                                      timestamps = timestamps,\n",
    "                                      data=pos_epoch['data'][:, (x_idx, y_idx)] * m_per_pixel,\n",
    "                                      reference_frame='corner of video frame',\n",
    "                                      #conversion=m_per_pixel,\n",
    "                                      #unit='m'\n",
    "                                      ) # *after* conversion\n",
    "    position_list.append(positions)\n",
    "    \n",
    "    directions.create_spatial_series(name='Head direction d%d e%d'% (day, epoch_num), \n",
    "                              timestamps=timestamps,\n",
    "                              data=pos_epoch['data'][:, dir_idx],\n",
    "                              reference_frame='0=facing top of video frame (?), positive clockwise (?)',\n",
    "                              #unit='radians'\n",
    "                              )\n",
    "    direction_list.append(directions)\n",
    "    \n",
    "    speeds.create_timeseries(name='Speed d%d e%d' % (day, epoch_num),\n",
    "                             timestamps=timestamps,\n",
    "                             data=pos_epoch['data'][:, vel_idx] * m_per_pixel,\n",
    "                             unit='m/s',\n",
    "                             #conversion=m_per_pixel,\n",
    "                             description='smoothed movement speed estimate')\n",
    "    speed_list.append(speeds)\n",
    "    \n",
    "time_list = np.asarray(time_list)"
   ]
  },
  {
   "cell_type": "markdown",
   "metadata": {},
   "source": [
    "### Implement an Epochs table using all of our extensions"
   ]
  },
  {
   "cell_type": "code",
   "execution_count": null,
   "metadata": {},
   "outputs": [],
   "source": [
    "# Define two tasks for this data\n",
    "# --- W track -----\n",
    "w_track_world = FL_BehavioralWorld(name='W-track World')\n",
    "w_track_graph = FL_BehavioralGraph(name='W-track Graph')\n",
    "w_track_task = FL_BehavioralTask(name='W-track Task', world=w_track_world, graph=w_track_graph)\n",
    "# --- Sleep box -----\n",
    "sleep_box_world = FL_BehavioralWorld(name='Sleep Box World')\n",
    "sleep_box_graph = FL_BehavioralGraph(name='Sleep Box Graph')\n",
    "sleep_box_task = FL_BehavioralTask(name='Sleep Box Task', world=sleep_box_world, graph=sleep_box_graph)\n",
    "\n",
    "# Epochs table\n",
    "num_epochs = len(pos_struct)\n",
    "epochs = FL_BehavioralEpochs(name='Epochs for Bon day 3')\n",
    "for epoch_idx in range(num_epochs):   \n",
    "    # Alternate between W track and sleep epochs <--- This is probably not matching the data.\n",
    "    if epoch_idx % 2 == 0:\n",
    "        task = w_track_task\n",
    "    else:\n",
    "        task = sleep_box_task\n",
    "    # Get the events table for this epoch\n",
    "    events = FL_BehavioralEvents(name='Events epoch ' + str(epoch_idx), \n",
    "                                 description='Events for epoch ' + str(epoch_idx))\n",
    "    # Get the graph path for this epoch\n",
    "    graph_path = FL_BehavioralGraphPath(name='Graph path, epoch ' + str(epoch_idx))\n",
    "    # Add a row to the epochs table for this epoch\n",
    "    epochs.add_epoch(epoch_name='Epoch ' + str(epoch_idx), \n",
    "                     position=position_list[epoch_idx], \n",
    "                     speed=speed_list[epoch_idx], \n",
    "                     head_dir=direction_list[epoch_idx],\n",
    "                     task=task,\n",
    "                     events=events,\n",
    "                     graph_path=graph_path)\n",
    "    "
   ]
  },
  {
   "cell_type": "markdown",
   "metadata": {},
   "source": [
    "### Inspect our Epochs table"
   ]
  },
  {
   "cell_type": "code",
   "execution_count": null,
   "metadata": {},
   "outputs": [],
   "source": [
    "print(\"An Epochs DynamicTable\\n--------------\")\n",
    "print(epochs)\n",
    "print('\\n')\n",
    "\n",
    "print(\"Position in epoch 2\\n------------\")\n",
    "print(epochs[1, 'position'])\n",
    "print('\\n')\n",
    "\n",
    "print(\"Speed in epoch 4\\n------------\")\n",
    "print(epochs[3, 'speed'])\n",
    "print('\\n')\n",
    "\n",
    "print(\"Head direction in epoch 1\\n------------\")\n",
    "print(epochs[0, 'head_dir'])\n",
    "print('\\n')\n",
    "\n",
    "print(\"Events in epoch 3\\n------------\")\n",
    "print(epochs[2, 'events'])\n",
    "print('\\n')\n",
    "\n",
    "print(\"Graph path in epoch 5\\n------------\")\n",
    "print(epochs[4, 'graph_path'])\n",
    "print('\\n')\n",
    "\n",
    "print(\"Task for the final epoch\\n----------\")\n",
    "print(\">>> Currently the sub-groups don't contain any real data.\")\n",
    "print(\">>> For some reason inspecting task shows the sub-groups as being None, when in fact they are not...\")\n",
    "print(epochs[-1, 'task'])\n",
    "print(\">>> But we can access them individually...\")\n",
    "print(epochs[-1, 'task'].world)\n",
    "print(epochs[-1, 'task'].graph)\n",
    "print('\\n')"
   ]
  }
 ],
 "metadata": {
  "kernelspec": {
   "display_name": "Python 3",
   "language": "python",
   "name": "python3"
  },
  "language_info": {
   "codemirror_mode": {
    "name": "ipython",
    "version": 3
   },
   "file_extension": ".py",
   "mimetype": "text/x-python",
   "name": "python",
   "nbconvert_exporter": "python",
   "pygments_lexer": "ipython3",
   "version": "3.6.7"
  }
 },
 "nbformat": 4,
 "nbformat_minor": 2
}
