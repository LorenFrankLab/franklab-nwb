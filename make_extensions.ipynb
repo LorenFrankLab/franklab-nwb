{
 "cells": [
  {
   "cell_type": "code",
   "execution_count": 1,
   "metadata": {},
   "outputs": [
    {
     "name": "stderr",
     "output_type": "stream",
     "text": [
      "/Users/ericmiller/anaconda/envs/pynwb/lib/python3.6/site-packages/h5py/__init__.py:36: FutureWarning: Conversion of the second argument of issubdtype from `float` to `np.floating` is deprecated. In future, it will be treated as `np.float64 == np.dtype(float).type`.\n",
      "  from ._conv import register_converters as _register_converters\n"
     ]
    }
   ],
   "source": [
    "%load_ext autoreload\n",
    "%autoreload 2\n",
    "\n",
    "import os\n",
    "\n",
    "import numpy as np\n",
    "from datetime import datetime\n",
    "from dateutil import tz\n",
    "import matplotlib.pyplot as plt\n",
    "import matplotlib.dates as mdates\n",
    "import matplotlib.ticker as mticker\n",
    "\n",
    "\n",
    "import pynwb\n",
    "from pynwb import register_class\n",
    "from pynwb.form.utils import docval, getargs, popargs, call_docval_func\n",
    "\n",
    "import nspike_helpers as ns \n",
    "import query_helpers as qu\n",
    "\n",
    "mdates.rcParams.update({'date.autoformatter.microsecond': '%H:%M:%S.%f'})"
   ]
  },
  {
   "cell_type": "markdown",
   "metadata": {},
   "source": [
    "### Overview\n",
    "* **FL_BehavioralEpochs** - A DynamicTable where each row contains data from an epoch, possibly including:\n",
    "\n",
    "    * **name** - Name of the epoch\n",
    "    * **position** - Position (multicontainer of SpatialSeries) for animal position during the epoch, possibly including:\n",
    "        * {(x1, y1)...} - 2D position vs time, with respect to a world geometry (e.g. a room or a camera frame)\n",
    "        * {d1, ...} - 1D distance vs time, linked to a 1D linearized track geometry    \n",
    "    * **head_dir** - CompassDirection (multicontainer of SpatialSeries) for animal head direction during the epoch\n",
    "    * **speed** - BehavioralTimeSeries for animal speed during the epoch\n",
    "    * **FL_BehavioralTask** - Container for data describing the task/apparatus for the epoch, possibly including:\n",
    "        * **FL_BehavioralGraph** - graph representing discrete, non-overlapping states of the behavior (e.g. on segment 3, not at well)\n",
    "        * **FL_BehavioralEvents** - DynamicTable of possibly-overlapping behavioral events (e.g. cue light on, reward delivery on)\n",
    "        * **FL_BehavioralWorld** - collection of geometries describing the behavioral world (either with respect to a room geometry or with respect to a camera frame) possibly including:\n",
    "            * 1D linearized representation of the track\n",
    "            * 2D geometries representing track borders\n",
    "            * 2D or 3D geometries representing the experimental room\n",
    "            * n-D geoemtries for objects, cues, or other elements of the world (e.g. locations of wells, cues, levers)\n",
    "     \n",
    "    "
   ]
  },
  {
   "cell_type": "markdown",
   "metadata": {},
   "source": [
    "### Spec for a Behavioral Task group\n",
    "An object for representing a behavioral task, including:\n",
    "\n",
    "* **FL_BehavioralWorld** - geometries describing the spatial and operant world of this task (e.g. 1D and 2D track geometry, the room, notable objects or cues). These world geometries can then be linked to animal position (e.g. linking 2D w-track position data to an instance of the W-track in the same reference frame)\n",
    "* **FL_BehavioralGraph** - discrete, non-overlapping states of animal behavior (e.g. open-field no well, open-field at well, arm 4 no well, arm 4 at well, ...)\n",
    "* **FL_BehavioralEvents** - DynamicTable of possibly-overlapping instances of experimental/behavioral events (e.g. reward delivered, cue light on)\n",
    "\n"
   ]
  },
  {
   "cell_type": "code",
   "execution_count": 2,
   "metadata": {},
   "outputs": [],
   "source": [
    "world_spec = pynwb.spec.NWBGroupSpec(name='world',\n",
    "                                     doc='Collection of geometries (1D, 2D, or 3D) describing the behavioral environment',\n",
    "                                     neurodata_type_inc='NWBContainer',\n",
    "                                     neurodata_type_def='FL_BehavioralWorld')\n",
    "\n",
    "graph_spec = pynwb.spec.NWBGroupSpec(name='graph',\n",
    "                                   doc='Graph describing non-overlapping behavioral states',\n",
    "                                   neurodata_type_inc='NWBContainer',\n",
    "                                   neurodata_type_def='FL_BehavioralGraph')\n",
    "\n",
    "events_spec = pynwb.spec.NWBGroupSpec(name='events',\n",
    "                                      doc='DynamicTable of describing possibly-overlapping behavioral/experimental events',\n",
    "                                      neurodata_type_inc='DynamicTable',\n",
    "                                      neurodata_type_def='FL_BehavioralEvents')\n",
    "\n",
    "behavioral_task_spec = pynwb.spec.NWBGroupSpec(name='FL_BehavioralTask',\n",
    "                                               doc='Container of objects for describing a behavioral task',\n",
    "                                               groups=[world_spec, graph_spec, events_spec],\n",
    "                                               neurodata_type_inc='NWBContainer',\n",
    "                                               neurodata_type_def='FL_BehavioralTask')"
   ]
  },
  {
   "cell_type": "markdown",
   "metadata": {},
   "source": [
    "### Spec for an Epochs DynamicTable\n",
    "Each epoch (row) of the table contains:\n",
    "* Name (text)\n",
    "* Task (FL_BehavioralTask)\n",
    "* Position (pynwb.behavior.Position)\n",
    "* Speed (pynwb.behavior.BehavioralTimeSeries)\n",
    "* Head direciton (pynwb.behavior.CompassDirection)"
   ]
  },
  {
   "cell_type": "code",
   "execution_count": 3,
   "metadata": {},
   "outputs": [],
   "source": [
    "epoch_datasets = [pynwb.spec.NWBDatasetSpec(name='epoch_name',\n",
    "                                            doc='Name for this epoch',\n",
    "                                            dtype='text',\n",
    "                                            quantity='?',\n",
    "                                            neurodata_type_inc='VectorData'),\n",
    "                  pynwb.spec.NWBDatasetSpec(name='task',\n",
    "                                            doc='Task used in this epoch',\n",
    "                                            dtype=pynwb.spec.NWBRefSpec('FL_BehavioralTask', 'object'),\n",
    "                                            quantity='?',\n",
    "                                            neurodata_type_inc='VectorData'),\n",
    "                  pynwb.spec.NWBDatasetSpec(name='position', \n",
    "                                            doc='Animal spatial position during an epoch', \n",
    "                                            dtype=pynwb.spec.NWBRefSpec('Position', 'object'),\n",
    "                                            quantity='?',\n",
    "                                            neurodata_type_inc='VectorData'),\n",
    "                  pynwb.spec.NWBDatasetSpec(name='speed', \n",
    "                                            doc='Animal speed during an epoch', \n",
    "                                            dtype=pynwb.spec.NWBRefSpec('BehavioralTimeSeries', 'object'),\n",
    "                                            quantity='?',\n",
    "                                            neurodata_type_inc='VectorData'),\n",
    "                  pynwb.spec.NWBDatasetSpec(name='head_dir', \n",
    "                                            doc='Animal head direction during an epoch',\n",
    "                                            dtype=pynwb.spec.NWBRefSpec('CompassDirection', 'object'),\n",
    "                                            quantity='?',\n",
    "                                            neurodata_type_inc='VectorData')]\n",
    "\n",
    "behavioral_epochs_spec = pynwb.spec.NWBGroupSpec(name='FL_BehavioralEpochs',\n",
    "                                                 doc='DynamicTable for describing behavioral epochs',\n",
    "                                                 neurodata_type_inc='DynamicTable', \n",
    "                                                 neurodata_type_def='FL_BehavioralEpochs',\n",
    "                                                 datasets=epoch_datasets,\n",
    "                                                 quantity=\"?\")"
   ]
  },
  {
   "cell_type": "markdown",
   "metadata": {},
   "source": [
    "### Build a namespace and export to YAML"
   ]
  },
  {
   "cell_type": "code",
   "execution_count": 4,
   "metadata": {},
   "outputs": [],
   "source": [
    "ns_path = \"franklab.namespace.yaml\"\n",
    "ext_path = \"franklab.extensions.yaml\"\n",
    "\n",
    "ns_builder = pynwb.spec.NWBNamespaceBuilder('Extension for use in the Frank Lab', \"franklab\")\n",
    "\n",
    "ns_builder.add_spec(ext_path, behavioral_task_spec)\n",
    "ns_builder.add_spec(ext_path, behavioral_epochs_spec)\n",
    "\n",
    "ns_builder.export(ns_path)"
   ]
  },
  {
   "cell_type": "markdown",
   "metadata": {},
   "source": [
    "### Load our namespace"
   ]
  },
  {
   "cell_type": "code",
   "execution_count": 5,
   "metadata": {},
   "outputs": [
    {
     "data": {
      "text/plain": [
       "('franklab',)"
      ]
     },
     "execution_count": 5,
     "metadata": {},
     "output_type": "execute_result"
    }
   ],
   "source": [
    "pynwb.load_namespaces(ns_path)"
   ]
  },
  {
   "cell_type": "markdown",
   "metadata": {},
   "source": [
    "### Auto-generate a Python class for our extensions\n",
    "\n",
    "#### Currently does not work...\n",
    "Auto-generation seems to not work with DynamicTables yet.\n",
    "It correctly creates a class inheriting from DynamicTable, but it does not implement the columns\n",
    "in the \"columns\" class variable or the docstring in \"add_row()\". Recall that in the Units DynamicTable,\n",
    "a new method \"add_unit()\" was created with a docstring for the correct columns (e.g. spiketimes, obs_intervals).\n",
    "A similar \"add_epoch()\" method is not auto-generated."
   ]
  },
  {
   "cell_type": "code",
   "execution_count": 6,
   "metadata": {},
   "outputs": [],
   "source": [
    "from pynwb import get_class\n",
    "# FL_BehavioralEpochs = get_class('FL_BehavioralEpochs', 'franklab')  # This is currently not working\n",
    "FL_BehavioralWorld = get_class('FL_BehavioralWorld', 'franklab')\n",
    "FL_BehavioralGraph = get_class('FL_BehavioralGraph', 'franklab')\n",
    "FL_BehavioralEvents = get_class('FL_BehavioralEvents', 'franklab')\n",
    "# FL_BehavioralTask = get_class('FL_BehavioralTask', 'franklab')      # This is currently not working"
   ]
  },
  {
   "cell_type": "markdown",
   "metadata": {},
   "source": [
    "### Manually create a class for FL_BehavioralEpochs"
   ]
  },
  {
   "cell_type": "code",
   "execution_count": 7,
   "metadata": {},
   "outputs": [],
   "source": [
    "@register_class('FL_BehavioralEpochs', 'franklab')\n",
    "class FL_BehavioralEpochs(pynwb.core.DynamicTable):\n",
    "    \"\"\"\n",
    "    Data for behavioral epochs.\n",
    "    \"\"\"\n",
    "\n",
    "    # Setting index to True throws an error if I try to store non-iterable types, such as SpatialSeries\n",
    "    __columns__ = (\n",
    "        {'name': 'epoch_name', 'description': 'Name for this epoch', 'index': False},\n",
    "        {'name': 'position', 'description': 'Animal spatial position during an epoch', 'index': False},\n",
    "        {'name': 'speed', 'description': 'Animal speed during an epoch', 'index': False},\n",
    "        {'name': 'head_dir', 'description': 'Animal head direction during an epoch', 'index': False},\n",
    "        {'name': 'task', 'description': 'Behavioral task for this epoch', 'index': False}\n",
    "    )\n",
    "\n",
    "    @docval({'name': 'name', 'type': str, 'doc': 'Name of this FL_BehavioralEpochs table', 'default': 'FL_BehavioralEpochs'},\n",
    "            {'name': 'id', 'type': ('array_data', pynwb.core.ElementIdentifiers),\n",
    "             'doc': 'the identifiers for the epochs stored in this interface', 'default': None},\n",
    "            {'name': 'columns', 'type': (tuple, list), 'doc': 'the columns in this table', 'default': None},\n",
    "            {'name': 'colnames', 'type': 'array_data', 'doc': 'the names of the columns in this table',\n",
    "             'default': None},\n",
    "            {'name': 'description', 'type': str, 'doc': 'a description of what is in this FL_BehavioralEpochs table', 'default': None})\n",
    "    def __init__(self, **kwargs):\n",
    "        if kwargs.get('description', None) is None:\n",
    "            kwargs['description'] = \"\"\n",
    "        call_docval_func(super(FL_BehavioralEpochs, self).__init__, kwargs)\n",
    "\n",
    "    @docval({'name': 'epoch_name', 'type': str, 'doc': 'Name for this epoch', 'default': None},\n",
    "            {'name': 'position', 'type': pynwb.behavior.Position, 'doc': 'Animal spatial position during an epoch', 'default': None},\n",
    "            {'name': 'speed', 'type': pynwb.behavior.BehavioralTimeSeries, 'doc': 'Animal speed during an epoch', 'default': None},\n",
    "            {'name': 'head_dir', 'type': pynwb.behavior.CompassDirection, 'doc': 'Animal head direction during an epoch', 'default': None},\n",
    "            {'name': 'task', 'type': 'FL_BehavioralTask', 'doc': 'Behavioral task for this epoch', 'default': None},\n",
    "            {'name': 'id', 'type': int, 'default': None, 'help': 'the id for each unit'},\n",
    "            allow_extra=True)\n",
    "    def add_epoch(self, **kwargs):\n",
    "        \"\"\"\n",
    "        Add an epoch to this table\n",
    "        \"\"\"\n",
    "        super(FL_BehavioralEpochs, self).add_row(**kwargs)\n"
   ]
  },
  {
   "cell_type": "markdown",
   "metadata": {},
   "source": [
    "### Manually create a class for FL_BehavioralTask"
   ]
  },
  {
   "cell_type": "code",
   "execution_count": 8,
   "metadata": {},
   "outputs": [],
   "source": [
    "@register_class('FL_BehavioralTask', 'franklab')\n",
    "class FL_BehavioralTask(pynwb.core.NWBContainer):\n",
    "    __nwbfields__ = ('name', 'world', 'fsm', 'events')\n",
    "\n",
    "    @docval({'name': 'name', 'type': str, 'doc': 'who names a potato?', 'default': 'FL_BehavioralTask'},\n",
    "            {'name': 'world', 'type': 'FL_BehavioralWorld', 'doc': 'Collection of geometries (1D, 2D, or 3D) describing the behavioral environment', 'default': None},\n",
    "            {'name': 'graph', 'type': 'FL_BehavioralGraph', 'doc': 'Graph describing non-overlapping behavioral states', 'default': None},\n",
    "            {'name': 'events', 'type': 'FL_BehavioralEvents', 'doc': 'DynamicTable of describing possibly-overlapping behavioral/experimental events', 'default': None})\n",
    "    def __init__(self, **kwargs):\n",
    "        super(FL_BehavioralTask, self).__init__(name=kwargs['name'])\n",
    "        self.world = kwargs['world']\n",
    "        self.graph = kwargs['graph']\n",
    "        self.events = kwargs['events']"
   ]
  },
  {
   "cell_type": "markdown",
   "metadata": {},
   "source": [
    "### Extract behavioral data"
   ]
  },
  {
   "cell_type": "code",
   "execution_count": 9,
   "metadata": {},
   "outputs": [],
   "source": [
    "# Session-specific params\n",
    "data_dir = os.path.expanduser('~/Data/FrankData/kkay/Bon')\n",
    "anim = 'Bon' \n",
    "prefix = anim.lower()\n",
    "day = 3 # below we'll code date as 2006-Jan-'Day'\n",
    "\n",
    "# Calculate the POSIX timestamp when Nspike clock = 0 (seconds)\n",
    "dataset_zero_time = datetime(2006, 1, day, 12, 0, 0, tzinfo=tz.gettz('US/Pacific'))\n",
    "NSpike_posixtime_offset = dataset_zero_time.timestamp()\n",
    "\n",
    "# NOTE that day_inds is 0 based\n",
    "time_list = {}\n",
    "nwb_epoch = {}\n",
    "pos_files = ns.get_files_by_day(data_dir, prefix, 'pos')\n",
    "task_files = ns.get_files_by_day(data_dir, prefix, 'task')\n",
    "\n",
    "mat = ns.loadmat_ff(task_files[day], 'task')\n",
    "task_struct = mat[day]\n",
    "\n",
    "mat = ns.loadmat_ff(pos_files[day], 'pos')\n",
    "pos_struct = mat[day]\n",
    "\n",
    "# create position, direction and speed\n",
    "position_list = []\n",
    "direction_list = []\n",
    "speed_list = []\n",
    "time_list = []\n",
    "\n",
    "# Assume field order: (time,x,y,dir,vel)\n",
    "(time_idx, x_idx, y_idx, dir_idx, vel_idx) = range(5)\n",
    "\n",
    "for epoch_num, pos_epoch in pos_struct.items():\n",
    "    # convert times to POSIX time\n",
    "    timestamps = pos_epoch['data'][:,time_idx] + NSpike_posixtime_offset\n",
    "    # collect times of epoch start and end\n",
    "    time_list.append([timestamps[0], timestamps[-1]])\n",
    "    m_per_pixel = pos_epoch['cmperpixel'][0,0]/100 # NWB wants meters per pixel\n",
    "\n",
    "    # These are multicontainers, so we can include multiple Spatial series for each epoch\n",
    "    # For example, 2D (x, y) position with respect to a camera frame or room geometry, and 1D linearized position\n",
    "    positions = pynwb.behavior.Position(name='Position for Epoch ' + str(epoch_num))\n",
    "    directions = pynwb.behavior.CompassDirection(name='Head direction for Epoch ' + str(epoch_num))\n",
    "    speeds = pynwb.behavior.BehavioralTimeSeries(name='Speed for Epoch ' + str(epoch_num))\n",
    "    \n",
    "    positions.create_spatial_series(name='2D position d%d e%d' % (day, epoch_num), \n",
    "                                      timestamps = timestamps,\n",
    "                                      data=pos_epoch['data'][:, (x_idx, y_idx)] * m_per_pixel,\n",
    "                                      reference_frame='corner of video frame',\n",
    "                                      #conversion=m_per_pixel,\n",
    "                                      #unit='m'\n",
    "                                      ) # *after* conversion\n",
    "    position_list.append(positions)\n",
    "    \n",
    "    directions.create_spatial_series(name='Head direction d%d e%d'% (day, epoch_num), \n",
    "                              timestamps=timestamps,\n",
    "                              data=pos_epoch['data'][:, dir_idx],\n",
    "                              reference_frame='0=facing top of video frame (?), positive clockwise (?)',\n",
    "                              #unit='radians'\n",
    "                              )\n",
    "    direction_list.append(directions)\n",
    "    \n",
    "    speeds.create_timeseries(name='Speed d%d e%d' % (day, epoch_num),\n",
    "                             timestamps=timestamps,\n",
    "                             data=pos_epoch['data'][:, vel_idx] * m_per_pixel,\n",
    "                             unit='m/s',\n",
    "                             #conversion=m_per_pixel,\n",
    "                             description='smoothed movement speed estimate')\n",
    "    speed_list.append(speeds)\n",
    "    \n",
    "time_list = np.asarray(time_list)"
   ]
  },
  {
   "cell_type": "markdown",
   "metadata": {},
   "source": [
    "### Implement an Epochs table using all of our extensions"
   ]
  },
  {
   "cell_type": "code",
   "execution_count": 10,
   "metadata": {},
   "outputs": [],
   "source": [
    "# Define a World for each task\n",
    "w_track_1 = FL_BehavioralWorld(name='W-track, Room 1')\n",
    "sleep_box_1 = FL_BehavioralWorld(name='Sleep box, Room 1')\n",
    "\n",
    "# Define a graph for each task\n",
    "w_track_graph = FL_BehavioralGraph(name='W-track Graph')\n",
    "sleep_box_graph = FL_BehavioralGraph(name='Sleep box Graph')\n",
    "                                 \n",
    "# Events tables for each epoch                      \n",
    "num_epochs = len(pos_struct)\n",
    "events_list = [FL_BehavioralEvents(name='Events epoch ' + str(i), \n",
    "                                   description='Events for epoch ' + str(i)) for i in range(num_epochs)]\n",
    "\n",
    "# Epochs table\n",
    "epochs = FL_BehavioralEpochs(name='Epochs for Bon day 3')\n",
    "for epoch_idx in range(num_epochs):       \n",
    "    # Task object for this epoch\n",
    "    task = FL_BehavioralTask(name='Task for epoch ' + str(epoch_idx),\n",
    "                             world=w_track_1, \n",
    "                             graph=w_track_graph, \n",
    "                             events=events_list[epoch_idx])\n",
    "    # Add a row to the table for this epoch\n",
    "    epochs.add_epoch(epoch_name='Epoch ' + str(epoch_idx), \n",
    "                     position=position_list[epoch_idx], \n",
    "                     speed=speed_list[epoch_idx], \n",
    "                     head_dir=direction_list[epoch_idx],\n",
    "                     task=task)\n",
    "    "
   ]
  },
  {
   "cell_type": "markdown",
   "metadata": {},
   "source": [
    "### Inspect our Epochs table"
   ]
  },
  {
   "cell_type": "code",
   "execution_count": 11,
   "metadata": {},
   "outputs": [
    {
     "name": "stdout",
     "output_type": "stream",
     "text": [
      "An Epochs DynamicTable\n",
      "--------------\n",
      "\n",
      "Epochs for Bon day 3 <class '__main__.FL_BehavioralEpochs'>\n",
      "Fields:\n",
      "  colnames: ('epoch_name', 'position', 'speed', 'head_dir', 'task')\n",
      "  columns: (\n",
      "epoch_name <class 'pynwb.core.VectorData'>\n",
      "Fields:\n",
      "  description: Name for this epoch\n",
      ", \n",
      "position <class 'pynwb.core.VectorData'>\n",
      "Fields:\n",
      "  description: Animal spatial position during an epoch\n",
      ", \n",
      "speed <class 'pynwb.core.VectorData'>\n",
      "Fields:\n",
      "  description: Animal speed during an epoch\n",
      ", \n",
      "head_dir <class 'pynwb.core.VectorData'>\n",
      "Fields:\n",
      "  description: Animal head direction during an epoch\n",
      ", \n",
      "task <class 'pynwb.core.VectorData'>\n",
      "Fields:\n",
      "  description: Behavioral task for this epoch\n",
      ")\n",
      "  description: \n",
      "  id: None\n",
      "\n",
      "\n",
      "\n",
      "Position in epoch 2\n",
      "------------\n",
      "\n",
      "Position for Epoch 2 <class 'pynwb.behavior.Position'>\n",
      "Fields:\n",
      "  spatial_series: { 2D position d3 e2 <class 'pynwb.behavior.SpatialSeries'> }\n",
      "\n",
      "\n",
      "\n",
      "Speed in epoch 4\n",
      "------------\n",
      "\n",
      "Speed for Epoch 4 <class 'pynwb.behavior.BehavioralTimeSeries'>\n",
      "Fields:\n",
      "  time_series: { Speed d3 e4 <class 'pynwb.base.TimeSeries'> }\n",
      "\n",
      "\n",
      "\n",
      "Head direction in epoch 1\n",
      "------------\n",
      "\n",
      "Head direction for Epoch 1 <class 'pynwb.behavior.CompassDirection'>\n",
      "Fields:\n",
      "  spatial_series: { Head direction d3 e1 <class 'pynwb.behavior.SpatialSeries'> }\n",
      "\n",
      "\n",
      "\n",
      "Task for the final epoch\n",
      "----------\n",
      ">>> Currently the sub-groups don't contain any real data.\n",
      ">>> For some reason inspecting task shows the sub-groups as being None, when in fact they are not...\n",
      "\n",
      "Task for epoch 6 <class '__main__.FL_BehavioralTask'>\n",
      "Fields:\n",
      "  events: None\n",
      "  world: None\n",
      "\n",
      ">>> But we can access them individually...\n",
      "\n",
      "W-track, Room 1 <class 'abc.FL_BehavioralWorld'>\n",
      "Fields:\n",
      "\n",
      "\n",
      "W-track Graph <class 'abc.FL_BehavioralGraph'>\n",
      "Fields:\n",
      "\n",
      "\n",
      "Events epoch 6 <class 'abc.FL_BehavioralEvents'>\n",
      "Fields:\n",
      "  colnames: ()\n",
      "  columns: []\n",
      "  description: Events for epoch 6\n",
      "  id: None\n",
      "\n",
      "\n",
      "\n"
     ]
    }
   ],
   "source": [
    "print(\"An Epochs DynamicTable\\n--------------\")\n",
    "print(epochs)\n",
    "print('\\n')\n",
    "\n",
    "print(\"Position in epoch 2\\n------------\")\n",
    "print(epochs[1, 'position'])\n",
    "print('\\n')\n",
    "\n",
    "print(\"Speed in epoch 4\\n------------\")\n",
    "print(epochs[3, 'speed'])\n",
    "print('\\n')\n",
    "\n",
    "print(\"Head direction in epoch 1\\n------------\")\n",
    "print(epochs[0, 'head_dir'])\n",
    "print('\\n')\n",
    "\n",
    "print(\"Task for the final epoch\\n----------\")\n",
    "print(\">>> Currently the sub-groups don't contain any real data.\")\n",
    "print(\">>> For some reason inspecting task shows the sub-groups as being None, when in fact they are not...\")\n",
    "print(epochs[-1, 'task'])\n",
    "print(\">>> But we can access them individually...\")\n",
    "print(epochs[-1, 'task'].world)\n",
    "print(epochs[-1, 'task'].graph)\n",
    "print(epochs[-1, 'task'].events)\n",
    "print('\\n')"
   ]
  },
  {
   "cell_type": "code",
   "execution_count": null,
   "metadata": {},
   "outputs": [],
   "source": []
  }
 ],
 "metadata": {
  "kernelspec": {
   "display_name": "Python 3",
   "language": "python",
   "name": "python3"
  },
  "language_info": {
   "codemirror_mode": {
    "name": "ipython",
    "version": 3
   },
   "file_extension": ".py",
   "mimetype": "text/x-python",
   "name": "python",
   "nbconvert_exporter": "python",
   "pygments_lexer": "ipython3",
   "version": "3.6.7"
  }
 },
 "nbformat": 4,
 "nbformat_minor": 2
}
