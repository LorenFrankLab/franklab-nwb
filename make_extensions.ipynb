{
 "cells": [
  {
   "cell_type": "code",
   "execution_count": 16,
   "metadata": {},
   "outputs": [
    {
     "name": "stdout",
     "output_type": "stream",
     "text": [
      "The autoreload extension is already loaded. To reload it, use:\n",
      "  %reload_ext autoreload\n"
     ]
    }
   ],
   "source": [
    "%load_ext autoreload\n",
    "%autoreload 2\n",
    "\n",
    "import os\n",
    "\n",
    "import numpy as np\n",
    "from datetime import datetime\n",
    "from dateutil import tz\n",
    "import matplotlib.pyplot as plt\n",
    "import matplotlib.dates as mdates\n",
    "import matplotlib.ticker as mticker\n",
    "\n",
    "\n",
    "import pynwb\n",
    "from pynwb import register_class\n",
    "from pynwb.form.utils import docval, getargs, popargs, call_docval_func\n",
    "\n",
    "import nspike_helpers as ns \n",
    "import query_helpers as qu\n",
    "\n",
    "mdates.rcParams.update({'date.autoformatter.microsecond': '%H:%M:%S.%f'})"
   ]
  },
  {
   "cell_type": "markdown",
   "metadata": {},
   "source": [
    "### Spec for a Behavioral World group"
   ]
  },
  {
   "cell_type": "code",
   "execution_count": 17,
   "metadata": {},
   "outputs": [],
   "source": [
    "behavioral_world_spec = pynwb.spec.NWBGroupSpec(name='FL_BehavioralWorld',\n",
    "                                               doc='Collection of geometries (1D, 2D, or 3D) describing the behavioral environment',\n",
    "                                               neurodata_type_inc='NWBContainer',\n",
    "                                               neurodata_type_def='FL_BehavioralWorld')\n",
    "\n",
    "behavioral_fsm_spec = pynwb.spec.NWBGroupSpec(name='FL_BehavioralFSM',\n",
    "                                               doc='Finite state machine describing non-overlapping behavioral states',\n",
    "                                               neurodata_type_inc='NWBContainer',\n",
    "                                             neurodata_type_def='FL_BehavioralFSM')\n",
    "\n",
    "behavioral_events_spec = pynwb.spec.NWBGroupSpec(name='FL_BehavioralEvents',\n",
    "                                               doc='DynamicTable of describing possibly-overlapping behavioral/experimental events',\n",
    "                                               neurodata_type_inc='DynamicTable',\n",
    "                                                neurodata_type_def='FL_BehavioralEvents')"
   ]
  },
  {
   "cell_type": "markdown",
   "metadata": {},
   "source": [
    "### Spec for a Behavioral Task group\n",
    "Contains: \n",
    "* Beahvioral world - geometry describing the spatial and operant world of this task (e.g. polygons, lines, points representing 1D and 2D track geometry, 3D room, notable objects or cues). These world geometries can then be used as reference frames when describing animal position.\n",
    "* Behavioral FSM - discrete, non-overlapping states of animal behavior (e.g. open-field no well, open-field at well, arm 4 no well, arm 4 at well, ...)\n",
    "* Experimental events - time interval instances of experimental/behavioral events (e.g. reward delivered, cue light on), which could be overlapping\n",
    "\n"
   ]
  },
  {
   "cell_type": "code",
   "execution_count": 18,
   "metadata": {},
   "outputs": [],
   "source": [
    "task_groups = [pynwb.spec.NWBGroupSpec(name='world',\n",
    "                                       doc='Collection of geometries (1D, 2D, or 3D) describing the behavioral environment',\n",
    "                                       neurodata_type_inc='FL_BehavioralWorld',\n",
    "                                       quantity='?'),\n",
    "               pynwb.spec.NWBGroupSpec(name='fsm',\n",
    "                                       doc='Finite state machine describing non-overlapping behavioral states',\n",
    "                                       neurodata_type_inc='FL_BehavioralFSM',\n",
    "                                       quantity='?'),\n",
    "               pynwb.spec.NWBGroupSpec(name='events',\n",
    "                                       doc='DynamicTable of describing possibly-overlapping behavioral/experimental events',\n",
    "                                       neurodata_type_inc='FL_BehavioralEvents',\n",
    "                                       quantity='?')]\n",
    "\n",
    "behavioral_task_spec = pynwb.spec.NWBGroupSpec(name='FL_BehavioralTask',\n",
    "                                               doc='Container of objects for describing a behavioral task',\n",
    "                                               groups=task_groups,\n",
    "                                               neurodata_type_inc='NWBContainer',\n",
    "                                               neurodata_type_def='FL_BehavioralTask')"
   ]
  },
  {
   "cell_type": "markdown",
   "metadata": {},
   "source": [
    "### Spec for an Epochs DynamicTable"
   ]
  },
  {
   "cell_type": "code",
   "execution_count": 19,
   "metadata": {},
   "outputs": [],
   "source": [
    "epoch_datasets = [pynwb.spec.NWBDatasetSpec(name='epoch_name',\n",
    "                                            doc='Name for this epoch',\n",
    "                                            dtype='text',\n",
    "                                            quantity='?',\n",
    "                                            neurodata_type_inc='VectorData'),\n",
    "                  pynwb.spec.NWBDatasetSpec(name='task',\n",
    "                                            doc='Task used in this epoch',\n",
    "                                            dtype=pynwb.spec.NWBRefSpec('FL_BehavioralTask', 'object'),\n",
    "                                            quantity='?',\n",
    "                                            neurodata_type_inc='VectorData'),\n",
    "                  pynwb.spec.NWBDatasetSpec(name='position', \n",
    "                                            doc='Animal spatial position during an epoch', \n",
    "                                            dtype=pynwb.spec.NWBRefSpec('SpatialSeries', 'object'),\n",
    "                                            quantity='?',\n",
    "                                            neurodata_type_inc='VectorData'),\n",
    "                  pynwb.spec.NWBDatasetSpec(name='speed', \n",
    "                                            doc='Animal speed during an epoch', \n",
    "                                            dtype=pynwb.spec.NWBRefSpec('TimeSeries', 'object'),\n",
    "                                            quantity='?',\n",
    "                                            neurodata_type_inc='VectorData'),\n",
    "                  pynwb.spec.NWBDatasetSpec(name='head_dir', \n",
    "                                            doc='Animal head direction during an epoch',\n",
    "                                            dtype=pynwb.spec.NWBRefSpec('SpatialSeries', 'object'),\n",
    "                                            quantity='?',\n",
    "                                            neurodata_type_inc='VectorData')]\n",
    "\n",
    "behavioral_epochs_spec = pynwb.spec.NWBGroupSpec(name='FL_BehavioralEpochs',\n",
    "                                                 doc='DynamicTable for describing behavioral epochs',\n",
    "                                                 neurodata_type_inc='DynamicTable', \n",
    "                                                 neurodata_type_def='FL_BehavioralEpochs',\n",
    "                                                 datasets=epoch_datasets,\n",
    "                                                 quantity=\"?\")\n",
    "\n",
    "\n"
   ]
  },
  {
   "cell_type": "markdown",
   "metadata": {},
   "source": [
    "### Build a namespace and export to YAML"
   ]
  },
  {
   "cell_type": "code",
   "execution_count": 20,
   "metadata": {},
   "outputs": [],
   "source": [
    "ns_path = \"franklab.namespace.yaml\"\n",
    "ext_path = \"franklab.extensions.yaml\"\n",
    "ns_builder = pynwb.spec.NWBNamespaceBuilder('Extension for use in the Frank Lab', \"franklab\")\n",
    "ns_builder.add_spec(ext_path, behavioral_world_spec)\n",
    "ns_builder.add_spec(ext_path, behavioral_fsm_spec)\n",
    "ns_builder.add_spec(ext_path, behavioral_events_spec)\n",
    "ns_builder.add_spec(ext_path, behavioral_task_spec)\n",
    "ns_builder.add_spec(ext_path, behavioral_epochs_spec)\n",
    "ns_builder.export(ns_path)"
   ]
  },
  {
   "cell_type": "markdown",
   "metadata": {},
   "source": [
    "### Load our namespace, auto-generate a Python class"
   ]
  },
  {
   "cell_type": "code",
   "execution_count": 8,
   "metadata": {},
   "outputs": [
    {
     "data": {
      "text/plain": [
       "('franklab',)"
      ]
     },
     "execution_count": 8,
     "metadata": {},
     "output_type": "execute_result"
    }
   ],
   "source": [
    "pynwb.load_namespaces(ns_path)"
   ]
  },
  {
   "cell_type": "markdown",
   "metadata": {},
   "source": [
    "### Create a Python class for this DynamicTable\n",
    "The class autogeneration function does not create a correct class."
   ]
  },
  {
   "cell_type": "code",
   "execution_count": 9,
   "metadata": {},
   "outputs": [],
   "source": [
    "@register_class('FL_BehavioralEpochs', 'franklab')\n",
    "class FL_BehavioralEpochs(pynwb.core.DynamicTable):\n",
    "    \"\"\"\n",
    "    Data for behavioral epochs.\n",
    "    \"\"\"\n",
    "\n",
    "    # Setting index to True throws an error if I try to store non-iterable types, such as SpatialSeries\n",
    "    __columns__ = (\n",
    "        {'name': 'epoch_name', 'description': 'Name for this epoch', 'index': False},\n",
    "        {'name': 'position', 'description': 'Animal spatial position during an epoch', 'index': False},\n",
    "        {'name': 'speed', 'description': 'Animal speed during an epoch', 'index': False},\n",
    "        {'name': 'head_dir', 'description': 'Animal head direction during an epoch', 'index': False}\n",
    "    )\n",
    "\n",
    "    @docval({'name': 'name', 'type': str, 'doc': 'Name of this FL_BehavioralEpochs table', 'default': 'FL_BehavioralEpochs'},\n",
    "            {'name': 'id', 'type': ('array_data', pynwb.core.ElementIdentifiers),\n",
    "             'doc': 'the identifiers for the epochs stored in this interface', 'default': None},\n",
    "            {'name': 'columns', 'type': (tuple, list), 'doc': 'the columns in this table', 'default': None},\n",
    "            {'name': 'colnames', 'type': 'array_data', 'doc': 'the names of the columns in this table',\n",
    "             'default': None},\n",
    "            {'name': 'description', 'type': str, 'doc': 'a description of what is in this FL_BehavioralEpochs table', 'default': None})\n",
    "    def __init__(self, **kwargs):\n",
    "        if kwargs.get('description', None) is None:\n",
    "            kwargs['description'] = \"\"\n",
    "        call_docval_func(super(FL_BehavioralEpochs, self).__init__, kwargs)\n",
    "\n",
    "    @docval({'name': 'epoch_name', 'type': str, 'doc': 'Name for this epoch', 'default': None},\n",
    "            {'name': 'position', 'type': pynwb.behavior.SpatialSeries, 'doc': 'Animal spatial position during an epoch', 'default': None},\n",
    "            {'name': 'speed', 'type': pynwb.base.TimeSeries, 'doc': 'Animal speed during an epoch', 'default': None},\n",
    "            {'name': 'head_dir', 'type': pynwb.behavior.SpatialSeries, 'doc': 'Animal head direction during an epoch', 'default': None},\n",
    "            {'name': 'id', 'type': int, 'default': None, 'help': 'the id for each unit'},\n",
    "            allow_extra=True)\n",
    "    def add_epoch(self, **kwargs):\n",
    "        \"\"\"\n",
    "        Add an epoch to this table\n",
    "        \"\"\"\n",
    "        super(FL_BehavioralEpochs, self).add_row(**kwargs)\n"
   ]
  },
  {
   "cell_type": "markdown",
   "metadata": {},
   "source": [
    "### Extract behavioral data"
   ]
  },
  {
   "cell_type": "code",
   "execution_count": 10,
   "metadata": {},
   "outputs": [],
   "source": [
    "# Session-specific params\n",
    "data_dir = os.path.expanduser('~/Data/FrankData/kkay/Bon')\n",
    "anim = 'Bon' \n",
    "prefix = anim.lower()\n",
    "day = 3 # below we'll code date as 2006-Jan-'Day'\n",
    "\n",
    "# Calculate the POSIX timestamp when Nspike clock = 0 (seconds)\n",
    "dataset_zero_time = datetime(2006, 1, day, 12, 0, 0, tzinfo=tz.gettz('US/Pacific'))\n",
    "NSpike_posixtime_offset = dataset_zero_time.timestamp()\n",
    "\n",
    "# NOTE that day_inds is 0 based\n",
    "time_list = {}\n",
    "nwb_epoch = {}\n",
    "pos_files = ns.get_files_by_day(data_dir, prefix, 'pos')\n",
    "task_files = ns.get_files_by_day(data_dir, prefix, 'task')\n",
    "\n",
    "mat = ns.loadmat_ff(task_files[day], 'task')\n",
    "task_struct = mat[day]\n",
    "\n",
    "mat = ns.loadmat_ff(pos_files[day], 'pos')\n",
    "pos_struct = mat[day]\n",
    "\n",
    "# create position, direction and speed\n",
    "position_list = []\n",
    "direction_list = []\n",
    "speed_list = []\n",
    "time_list = []\n",
    "\n",
    "# Assume field order: (time,x,y,dir,vel)\n",
    "(time_idx, x_idx, y_idx, dir_idx, vel_idx) = range(5)\n",
    "\n",
    "for epoch_num, pos_epoch in pos_struct.items():\n",
    "\n",
    "    # convert times to POSIX time\n",
    "    timestamps = pos_epoch['data'][:,time_idx] + NSpike_posixtime_offset\n",
    "\n",
    "    # TODO: create a shared TimeSeries for timestamps, across all behavioral timeseries\n",
    "    # ?? timestamps_obj = pynwb.TimeSeries(timestamps=timestamps...)\n",
    "\n",
    "    # collect times of epoch start and end\n",
    "    time_list.append([timestamps[0], timestamps[-1]])\n",
    "\n",
    "    m_per_pixel = pos_epoch['cmperpixel'][0,0]/100 # NWB wants meters per pixel\n",
    "\n",
    "    # we can also create new SpatialSeries for the position, direction and velocity information\n",
    "    #NOTE: Each new spatial series has to have a unique name.\n",
    "    position_list.append(pynwb.behavior.SpatialSeries(name='Position d%d e%d' % (day, epoch_num), \n",
    "                              timestamps = timestamps,\n",
    "                              data=pos_epoch['data'][:, (x_idx, y_idx)] * m_per_pixel,\n",
    "                              reference_frame='corner of video frame',\n",
    "                              #conversion=m_per_pixel,\n",
    "                              #unit='m'\n",
    "                              )) # *after* conversion\n",
    "\n",
    "    direction_list.append(pynwb.behavior.SpatialSeries(name='Head Direction d%d e%d'% (day, epoch_num), \n",
    "                              timestamps=timestamps,\n",
    "                              data=pos_epoch['data'][:, dir_idx],\n",
    "                              reference_frame='0=facing top of video frame (?), positive clockwise (?)',\n",
    "                              #unit='radians'\n",
    "                              ))\n",
    "\n",
    "    speed_list.append(pynwb.base.TimeSeries(name='Speed d%d e%d' % (day, epoch_num),\n",
    "                             timestamps=timestamps,\n",
    "                             data=pos_epoch['data'][:, vel_idx] * m_per_pixel,\n",
    "                             unit='m/s',\n",
    "                             #conversion=m_per_pixel,\n",
    "                             description='smoothed movement speed estimate'))\n",
    "time_list = np.asarray(time_list)"
   ]
  },
  {
   "cell_type": "markdown",
   "metadata": {},
   "source": [
    "### Implement an Epochs table using our class"
   ]
  },
  {
   "cell_type": "code",
   "execution_count": 106,
   "metadata": {},
   "outputs": [],
   "source": [
    "epochs = FL_BehavioralEpochs()\n",
    "for epoch_idx in range(len(pos_struct)):\n",
    "    epochs.add_epoch(epoch_name='Epoch ' + str(epoch_idx), \n",
    "                     position=position_list[epoch_idx], \n",
    "                     speed=speed_list[epoch_idx], \n",
    "                     head_dir=direction_list[epoch_idx])\n",
    "    "
   ]
  },
  {
   "cell_type": "markdown",
   "metadata": {},
   "source": [
    "### Inspect our Epochs table"
   ]
  },
  {
   "cell_type": "code",
   "execution_count": 128,
   "metadata": {},
   "outputs": [
    {
     "data": {
      "text/plain": [
       "\n",
       "Position d3 e1 <class 'pynwb.behavior.SpatialSeries'>\n",
       "Fields:\n",
       "  comments: no comments\n",
       "  conversion: 1.0\n",
       "  data: [[1.21095 0.87075]\n",
       " [1.215   0.86265]\n",
       " [1.215   0.86265]\n",
       " ...\n",
       " [0.8667  0.83835]\n",
       " [0.8667  0.83835]\n",
       " [0.8667  0.83835]]\n",
       "  description: no description\n",
       "  interval: 1\n",
       "  num_samples: 33753\n",
       "  reference_frame: corner of video frame\n",
       "  resolution: 0.0\n",
       "  timestamps: [1.13632087e+09 1.13632087e+09 1.13632087e+09 ... 1.13632199e+09\n",
       " 1.13632199e+09 1.13632199e+09]\n",
       "  timestamps_unit: Seconds\n",
       "  unit: meters"
      ]
     },
     "execution_count": 128,
     "metadata": {},
     "output_type": "execute_result"
    }
   ],
   "source": [
    "epochs[0, 'position']"
   ]
  }
 ],
 "metadata": {
  "kernelspec": {
   "display_name": "Python 3",
   "language": "python",
   "name": "python3"
  },
  "language_info": {
   "codemirror_mode": {
    "name": "ipython",
    "version": 3
   },
   "file_extension": ".py",
   "mimetype": "text/x-python",
   "name": "python",
   "nbconvert_exporter": "python",
   "pygments_lexer": "ipython3",
   "version": "3.6.7"
  }
 },
 "nbformat": 4,
 "nbformat_minor": 2
}
