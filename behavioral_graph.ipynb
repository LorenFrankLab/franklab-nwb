{
 "cells": [
  {
   "cell_type": "code",
   "execution_count": 93,
   "metadata": {},
   "outputs": [],
   "source": [
    "import pynwb\n",
    "import numpy as np\n",
    "import networkx as nx\n",
    "\n",
    "import matplotlib.pyplot as plt\n"
   ]
  },
  {
   "cell_type": "markdown",
   "metadata": {},
   "source": [
    "### Outline\n",
    "1. Behavioral objects for nodes\n",
    "  * Define classes\n",
    "  * Build graph with nodes and edges\n",
    "  * Plot topology and geometry\n",
    "2. No behavioral objects (all metadata in graph--avoids degeneracy/complexity)\n",
    "  * Rebuild graph using arbitary integer labels for the nodes, with all metadata in the graph.\n",
    "  * Add choice point node (eliminates cycle if required to pass through)\n",
    "  * Add sleep box area with entrance hall and sleep box door\n",
    "  * Make entrance hall a multi-segment path and move the door"
   ]
  },
  {
   "cell_type": "markdown",
   "metadata": {},
   "source": [
    "### Define behavioral classes to represent track"
   ]
  },
  {
   "cell_type": "code",
   "execution_count": 149,
   "metadata": {},
   "outputs": [],
   "source": [
    "class BehavioralPoint():\n",
    "    def __init__(self, center_point, name):\n",
    "        self.x = center_point[0]\n",
    "        self.y = center_point[1]\n",
    "        self.name = name\n",
    "    \n",
    "class BehavioralSegment():\n",
    "    def __init__(self, segment, name):\n",
    "        self.segment = segment\n",
    "        self.name = name\n",
    "\n",
    "class BehavioralArea():\n",
    "    def __init__(self, polygon, name):\n",
    "        self.polygon = polygon\n",
    "        self.name = name"
   ]
  },
  {
   "cell_type": "markdown",
   "metadata": {},
   "source": [
    "### Make behavioral objects for W-track"
   ]
  },
  {
   "cell_type": "code",
   "execution_count": 150,
   "metadata": {},
   "outputs": [],
   "source": [
    "# W-track path segments\n",
    "wtrack_L = BehavioralSegment([(1.6, 2.2), (1.6, 0.65)], \"L\")\n",
    "wtrack_LC = BehavioralSegment([(1.6, 0.65), (1.9, 0.65)], \"LC\")\n",
    "wtrack_C = BehavioralSegment([(1.9, 0.65), (1.9, 2.2)], \"C\")\n",
    "wtrack_RC = BehavioralSegment([(1.9, 0.65), (2.2, 0.65)], \"RC\")\n",
    "wtrack_R = BehavioralSegment([(2.2, 0.65), (2.2, 2.2)], \"R\")\n",
    "all_segments = [wtrack_L, wtrack_LC, wtrack_C, wtrack_RC, wtrack_R]\n",
    "\n",
    "# W-track points (wells)\n",
    "wtrack_wL = BehavioralPoint((1.6, 2.2), \"LW\")\n",
    "wtrack_wC = BehavioralPoint((1.9, 2.2), \"CW\")\n",
    "wtrack_wR = BehavioralPoint((2.2, 2.2), \"RW\")\n",
    "all_points = [wtrack_wL, wtrack_wC, wtrack_wR]"
   ]
  },
  {
   "cell_type": "markdown",
   "metadata": {},
   "source": [
    "## Build graph for W-track\n",
    "Here we are duplicating some information in the graph nodes that is also in the behavioral objects (e.g. 'name'). This makes graph operations simpler (i.e. drawing a graph with nodes labeled by 'name') and allows encapuslation of info about each node, but we get this at the expense of the possibility of degeneracy and complexity. Another option is to not use the behavioral objects, and instead just put all relevant information as graph attributes. We will explore this further [below](#no_objects)."
   ]
  },
  {
   "cell_type": "markdown",
   "metadata": {},
   "source": [
    "### Add nodes"
   ]
  },
  {
   "cell_type": "code",
   "execution_count": 151,
   "metadata": {},
   "outputs": [],
   "source": [
    "G = nx.Graph(name='w-track')\n",
    "\n",
    "# Add nodes to the graph\n",
    "# ----------------------\n",
    "# Track segments\n",
    "for seg in all_segments:\n",
    "    G.add_node(seg, name=seg.name, kind='segment')\n",
    "# Wells\n",
    "for pt in all_points:\n",
    "    G.add_node(pt, name=pt.name, kind='point')"
   ]
  },
  {
   "cell_type": "markdown",
   "metadata": {},
   "source": [
    "### Add edges (corresponding to the W-track topology)"
   ]
  },
  {
   "cell_type": "code",
   "execution_count": 152,
   "metadata": {},
   "outputs": [],
   "source": [
    "# Add edges connecting the appropriate nodes\n",
    "# -----------------------------------------\n",
    "# Segment <-> Segment\n",
    "G.add_edge(wtrack_L, wtrack_LC)\n",
    "G.add_edge(wtrack_LC, wtrack_C)\n",
    "G.add_edge(wtrack_RC, wtrack_C)\n",
    "G.add_edge(wtrack_LC, wtrack_RC)\n",
    "G.add_edge(wtrack_RC, wtrack_R)\n",
    "# Segment <-> Well\n",
    "G.add_edge(wtrack_L, wtrack_wL)\n",
    "G.add_edge(wtrack_C, wtrack_wC)\n",
    "G.add_edge(wtrack_R, wtrack_wR)"
   ]
  },
  {
   "cell_type": "markdown",
   "metadata": {},
   "source": [
    "### Plot track topology"
   ]
  },
  {
   "cell_type": "code",
   "execution_count": 153,
   "metadata": {},
   "outputs": [
    {
     "name": "stdout",
     "output_type": "stream",
     "text": [
      "Adding a separate choice point node that must be passed through would remove the cycle.\n"
     ]
    },
    {
     "data": {
      "image/png": "[encoded data removed]",
      "text/plain": [
       "<Figure size 432x288 with 1 Axes>"
      ]
     },
     "metadata": {
      "needs_background": "light"
     },
     "output_type": "display_data"
    }
   ],
   "source": [
    "ax = plt.subplot(111)\n",
    "ax.axes.get_xaxis().set_visible(False)\n",
    "ax.axes.get_yaxis().set_visible(False)\n",
    "plt.title(\"W-track topology\")\n",
    "nx.draw_networkx(G, labels=dict(G.nodes.data('name')), fontsize=6)\n",
    "\n",
    "print(\"Adding a separate choice point node that must be passed through would remove the cycle.\")\n"
   ]
  },
  {
   "cell_type": "markdown",
   "metadata": {},
   "source": [
    "### Plot track geometry"
   ]
  },
  {
   "cell_type": "code",
   "execution_count": 154,
   "metadata": {},
   "outputs": [
    {
     "data": {
      "text/plain": [
       "Text(0,0.5,'y pos (meters)')"
      ]
     },
     "execution_count": 154,
     "metadata": {},
     "output_type": "execute_result"
    },
    {
     "data": {
      "image/png": "[encoded data removed]",
      "text/plain": [
       "<Figure size 432x288 with 1 Axes>"
      ]
     },
     "metadata": {
      "needs_background": "light"
     },
     "output_type": "display_data"
    }
   ],
   "source": [
    "ax = plt.subplot(111)\n",
    "plt.title('W-track geometry')\n",
    "for n, attrs in list(G.nodes.data()):\n",
    "    if attrs['kind']=='point':\n",
    "        plt.scatter([n.x], [n.y], color='r')\n",
    "    if attrs['kind']=='segment':\n",
    "        start = n.segment[0]\n",
    "        end = n.segment[1]\n",
    "        plt.plot([start[0], end[0]], [start[1], end[1]], color='k')\n",
    "plt.xlabel('x pos (meters)')\n",
    "plt.ylabel('y pos (meters)')"
   ]
  },
  {
   "cell_type": "markdown",
   "metadata": {},
   "source": [
    "<a name='no_objects'></a>\n",
    "### Alternate: Do not use behavioral objects. Store all metadata in graph attrs.\n",
    "As discussed above, having behavioral objects encapsulates the data at the expense of introducing some degeneracy in the metadata. Instead, we can have graph nodes be arbitary integers, with all metadata contained as graph attributes.  "
   ]
  },
  {
   "cell_type": "code",
   "execution_count": 155,
   "metadata": {},
   "outputs": [
    {
     "name": "stdout",
     "output_type": "stream",
     "text": [
      "Note that we have lost information about the geometry of the objects!\n",
      "These data were in the behavioral objects...\n",
      "\n"
     ]
    },
    {
     "data": {
      "text/plain": [
       "[(0, {'name': 'L', 'kind': 'segment'}),\n",
       " (1, {'name': 'LC', 'kind': 'segment'}),\n",
       " (2, {'name': 'C', 'kind': 'segment'}),\n",
       " (3, {'name': 'RC', 'kind': 'segment'}),\n",
       " (4, {'name': 'R', 'kind': 'segment'}),\n",
       " (5, {'name': 'LW', 'kind': 'point'}),\n",
       " (6, {'name': 'CW', 'kind': 'point'}),\n",
       " (7, {'name': 'RW', 'kind': 'point'})]"
      ]
     },
     "execution_count": 155,
     "metadata": {},
     "output_type": "execute_result"
    }
   ],
   "source": [
    "H = nx.convert_node_labels_to_integers(G)\n",
    "print(\"Note that we have lost information about the geometry of the objects!\")\n",
    "print(\"These data were in the behavioral objects...\\n\")\n",
    "list(H.nodes.data())"
   ]
  },
  {
   "cell_type": "markdown",
   "metadata": {},
   "source": [
    "### Recover the geometry metadata and store in the graph attrs"
   ]
  },
  {
   "cell_type": "code",
   "execution_count": 156,
   "metadata": {},
   "outputs": [
    {
     "name": "stdout",
     "output_type": "stream",
     "text": [
      "Now we have the geometry metadata in the graph attributes: \n",
      "\n"
     ]
    },
    {
     "data": {
      "text/plain": [
       "[(0, {'name': 'L', 'kind': 'segment', 'segment': [(1.6, 2.2), (1.6, 0.65)]}),\n",
       " (1, {'name': 'LC', 'kind': 'segment', 'segment': [(1.6, 0.65), (1.9, 0.65)]}),\n",
       " (2, {'name': 'C', 'kind': 'segment', 'segment': [(1.9, 0.65), (1.9, 2.2)]}),\n",
       " (3, {'name': 'RC', 'kind': 'segment', 'segment': [(1.9, 0.65), (2.2, 0.65)]}),\n",
       " (4, {'name': 'R', 'kind': 'segment', 'segment': [(2.2, 0.65), (2.2, 2.2)]}),\n",
       " (5, {'name': 'LW', 'kind': 'point', 'coord': (1.6, 2.2)}),\n",
       " (6, {'name': 'CW', 'kind': 'point', 'coord': (1.9, 2.2)}),\n",
       " (7, {'name': 'RW', 'kind': 'point', 'coord': (2.2, 2.2)})]"
      ]
     },
     "execution_count": 156,
     "metadata": {},
     "output_type": "execute_result"
    }
   ],
   "source": [
    "name_list = [e[1] for e in list(H.nodes.data('name'))]  # list of names of each node, in index order\n",
    "\n",
    "# For path objects, store the [(x1, y1), (x2, y2)] of the segment start and end points\n",
    "for seg in all_segments:\n",
    "    idx = name_list.index(seg.name)\n",
    "    H.nodes[idx]['segment'] = seg.segment\n",
    "    \n",
    "# For point objects, store the (x, y) coordinate of the point\n",
    "for pt in all_points:\n",
    "    idx = name_list.index(pt.name)\n",
    "    H.nodes[idx]['coord'] = (pt.x, pt.y)\n",
    "\n",
    "print(\"Now we have the geometry metadata in the graph attributes: \\n\")\n",
    "list(H.nodes.data())"
   ]
  },
  {
   "cell_type": "markdown",
   "metadata": {},
   "source": [
    "### Plot track topology (no behavioral objects)"
   ]
  },
  {
   "cell_type": "code",
   "execution_count": 157,
   "metadata": {},
   "outputs": [
    {
     "data": {
      "image/png": "[encoded data removed]",
      "text/plain": [
       "<Figure size 432x288 with 1 Axes>"
      ]
     },
     "metadata": {
      "needs_background": "light"
     },
     "output_type": "display_data"
    }
   ],
   "source": [
    "ax = plt.subplot(111)\n",
    "ax.axes.get_xaxis().set_visible(False)\n",
    "ax.axes.get_yaxis().set_visible(False)\n",
    "plt.title(\"W-track topology: no objects\")\n",
    "nx.draw_networkx(H, labels=dict(H.nodes.data('name')), fontsize=6)"
   ]
  },
  {
   "cell_type": "markdown",
   "metadata": {},
   "source": [
    "### Add a choice point node to the graph"
   ]
  },
  {
   "cell_type": "code",
   "execution_count": 158,
   "metadata": {},
   "outputs": [],
   "source": [
    "choice_pt_idx = H.number_of_nodes()\n",
    "H.add_node(choice_pt_idx, name='CP', kind='point', coord=(1.9, 0.65))"
   ]
  },
  {
   "cell_type": "markdown",
   "metadata": {},
   "source": [
    "### Connect the choice point to the correct other nodes"
   ]
  },
  {
   "cell_type": "code",
   "execution_count": 159,
   "metadata": {},
   "outputs": [],
   "source": [
    "name_list = [e[1] for e in list(H.nodes.data('name'))]  # list of names of each node, in index order\n",
    "for i, name in enumerate(name_list):\n",
    "    if name == 'C' or name == 'LC' or name == 'RC':\n",
    "        H.add_edge(choice_pt_idx, i)"
   ]
  },
  {
   "cell_type": "markdown",
   "metadata": {},
   "source": [
    "### Plot track topology (with choice point)"
   ]
  },
  {
   "cell_type": "code",
   "execution_count": 160,
   "metadata": {},
   "outputs": [
    {
     "name": "stdout",
     "output_type": "stream",
     "text": [
      "Not that presently the graph allows skipping the choice point...\n"
     ]
    },
    {
     "data": {
      "image/png": "[encoded data removed]",
      "text/plain": [
       "<Figure size 432x288 with 1 Axes>"
      ]
     },
     "metadata": {
      "needs_background": "light"
     },
     "output_type": "display_data"
    }
   ],
   "source": [
    "ax = plt.subplot(111)\n",
    "ax.axes.get_xaxis().set_visible(False)\n",
    "ax.axes.get_yaxis().set_visible(False)\n",
    "plt.title(\"W-track topology: choice point\")\n",
    "nx.draw_networkx(H, labels=dict(H.nodes.data('name')), fontsize=6)\n",
    "\n",
    "print(\"Not that presently the graph allows skipping the choice point...\")"
   ]
  },
  {
   "cell_type": "markdown",
   "metadata": {},
   "source": [
    "### Remove edges that bipass the choice point"
   ]
  },
  {
   "cell_type": "code",
   "execution_count": 161,
   "metadata": {},
   "outputs": [],
   "source": [
    "name_list = [e[1] for e in list(H.nodes.data('name'))]  # list of names of each node, in index order\n",
    "c_idx = name_list.index('C')\n",
    "lc_idx = name_list.index('LC')\n",
    "rc_idx = name_list.index('RC')\n",
    "H.remove_edge(c_idx, lc_idx)\n",
    "H.remove_edge(c_idx, rc_idx)\n",
    "H.remove_edge(lc_idx, rc_idx)"
   ]
  },
  {
   "cell_type": "markdown",
   "metadata": {},
   "source": [
    "### Plot track topology (choice pt, no bipass)"
   ]
  },
  {
   "cell_type": "code",
   "execution_count": 162,
   "metadata": {},
   "outputs": [
    {
     "data": {
      "image/png": "[encoded data removed]",
      "text/plain": [
       "<Figure size 432x288 with 1 Axes>"
      ]
     },
     "metadata": {
      "needs_background": "light"
     },
     "output_type": "display_data"
    }
   ],
   "source": [
    "ax = plt.subplot(111)\n",
    "ax.axes.get_xaxis().set_visible(False)\n",
    "ax.axes.get_yaxis().set_visible(False)\n",
    "plt.title(\"W-track topology: no objects\")\n",
    "nx.draw_networkx(H, labels=dict(H.nodes.data('name')), fontsize=6)"
   ]
  },
  {
   "cell_type": "markdown",
   "metadata": {},
   "source": [
    "### Plot track geometry (choice pt, no bipass)"
   ]
  },
  {
   "cell_type": "code",
   "execution_count": 163,
   "metadata": {},
   "outputs": [
    {
     "data": {
      "text/plain": [
       "Text(0,0.5,'y pos (meters)')"
      ]
     },
     "execution_count": 163,
     "metadata": {},
     "output_type": "execute_result"
    },
    {
     "data": {
      "image/png": "[encoded data removed]",
      "text/plain": [
       "<Figure size 432x288 with 1 Axes>"
      ]
     },
     "metadata": {
      "needs_background": "light"
     },
     "output_type": "display_data"
    }
   ],
   "source": [
    "ax = plt.subplot(111)\n",
    "plt.title('W-track geometry (no objects)')\n",
    "for n, attrs in list(H.nodes.data()):\n",
    "    if attrs['kind']=='point':\n",
    "        coord = attrs['coord']\n",
    "        plt.scatter([coord[0]], [coord[1]], color='r')\n",
    "    if attrs['kind']=='segment':\n",
    "        start, end = attrs['segment']\n",
    "        plt.plot([start[0], end[0]], [start[1], end[1]], color='k')\n",
    "plt.xlabel('x pos (meters)')\n",
    "plt.ylabel('y pos (meters)')"
   ]
  },
  {
   "cell_type": "markdown",
   "metadata": {},
   "source": [
    "### Add sleep box connected to the track by an entrance hall"
   ]
  },
  {
   "cell_type": "code",
   "execution_count": 164,
   "metadata": {},
   "outputs": [],
   "source": [
    "sleep_box = [(1.8, 0.4), (2.0, 0.4), (2.0, 0.0), (1.8, 0.0)]  # polygon\n",
    "entrance_hall = [(1.9, 0.4), (1.9, 0.65)] # segment\n",
    "sleep_box_door = (1.9, 0.4) # point\n",
    "\n",
    "# Add nodes to graph\n",
    "next_idx = H.number_of_nodes()\n",
    "H.add_node(next_idx, name='SB', kind='area', polygon=sleep_box)\n",
    "H.add_node(next_idx+1, name='EH', kind='segment', segment=entrance_hall)\n",
    "H.add_node(next_idx+2, name='SBD', kind='point', coord=sleep_box_door)\n",
    "\n",
    "# Connect edges\n",
    "name_list = [e[1] for e in list(H.nodes.data('name'))]  # list of names of each node, in index order\n",
    "cp_idx = name_list.index('CP')\n",
    "eh_idx = name_list.index('EH')\n",
    "sbd_idx = name_list.index('SBD')\n",
    "sb_idx = name_list.index('SB')\n",
    "H.add_edge(cp_idx, eh_idx)\n",
    "H.add_edge(eh_idx, sbd_idx)\n",
    "H.add_edge(sbd_idx, sb_idx)\n"
   ]
  },
  {
   "cell_type": "markdown",
   "metadata": {},
   "source": [
    "### Plot topology (with sleep box area)"
   ]
  },
  {
   "cell_type": "code",
   "execution_count": 165,
   "metadata": {},
   "outputs": [
    {
     "data": {
      "image/png": "[encoded data removed]",
      "text/plain": [
       "<Figure size 432x288 with 1 Axes>"
      ]
     },
     "metadata": {
      "needs_background": "light"
     },
     "output_type": "display_data"
    }
   ],
   "source": [
    "ax = plt.subplot(111)\n",
    "ax.axes.get_xaxis().set_visible(False)\n",
    "ax.axes.get_yaxis().set_visible(False)\n",
    "plt.title(\"W-track topology: with sleep box\")\n",
    "nx.draw_networkx(H, labels=dict(H.nodes.data('name')), fontsize=6)"
   ]
  },
  {
   "cell_type": "markdown",
   "metadata": {},
   "source": [
    "### Plot geometry (with sleep box area)"
   ]
  },
  {
   "cell_type": "code",
   "execution_count": 171,
   "metadata": {},
   "outputs": [
    {
     "data": {
      "text/plain": [
       "Text(0,0.5,'y pos (meters)')"
      ]
     },
     "execution_count": 171,
     "metadata": {},
     "output_type": "execute_result"
    },
    {
     "data": {
      "image/png": "[encoded data removed]",
      "text/plain": [
       "<Figure size 432x288 with 1 Axes>"
      ]
     },
     "metadata": {
      "needs_background": "light"
     },
     "output_type": "display_data"
    }
   ],
   "source": [
    "ax = plt.subplot(111)\n",
    "plt.title('W-track geometry (with sleep box)')\n",
    "for n, attrs in list(H.nodes.data()):\n",
    "    if attrs['kind']=='point':\n",
    "        coord = attrs['coord']\n",
    "        plt.scatter([coord[0]], [coord[1]], color='r')\n",
    "    if attrs['kind']=='segment':\n",
    "        start, end = attrs['segment']\n",
    "        plt.plot([start[0], end[0]], [start[1], end[1]], color='k')\n",
    "    if attrs['kind']=='area':\n",
    "        poly = attrs['polygon']\n",
    "        xs = [e[0] for e in poly]\n",
    "        ys = [e[1] for e in poly]\n",
    "        plt.fill(xs, ys, color='grey', alpha=0.4)\n",
    "                \n",
    "plt.xlabel('x pos (meters)')\n",
    "plt.ylabel('y pos (meters)')\n"
   ]
  },
  {
   "cell_type": "markdown",
   "metadata": {},
   "source": [
    "### Make the entrance hall a multi-segment"
   ]
  },
  {
   "cell_type": "code",
   "execution_count": 142,
   "metadata": {},
   "outputs": [],
   "source": [
    "multi_seg_eh = [(1.9, 0.65), (1.925, 0.5), (1.95, 0.45), (2.025, 0.45), (2.05, 0.3), (2.05, 0.2), (2.0, 0.2)]\n",
    "eh_idx = name_list.index('EH')\n",
    "H.nodes[eh_idx]['segment'] = multi_seg_eh\n",
    "H.nodes[eh_idx]['kind'] = 'multi_segment'\n",
    "\n",
    "new_sb_door = (2.0, 0.2)\n",
    "sbd_idx = name_list.index('SBD')\n",
    "H.nodes[sbd_idx]['coord'] = new_sb_door"
   ]
  },
  {
   "cell_type": "markdown",
   "metadata": {},
   "source": [
    "### Ensure that this doesn't change the topology"
   ]
  },
  {
   "cell_type": "code",
   "execution_count": 145,
   "metadata": {},
   "outputs": [
    {
     "data": {
      "image/png": "[encoded data removed]",
      "text/plain": [
       "<Figure size 432x288 with 1 Axes>"
      ]
     },
     "metadata": {
      "needs_background": "light"
     },
     "output_type": "display_data"
    }
   ],
   "source": [
    "ax = plt.subplot(111)\n",
    "ax.axes.get_xaxis().set_visible(False)\n",
    "ax.axes.get_yaxis().set_visible(False)\n",
    "plt.title(\"W-track topology: multi-segment entrance hall\")\n",
    "nx.draw_networkx(H, labels=dict(H.nodes.data('name')), fontsize=6)"
   ]
  },
  {
   "cell_type": "markdown",
   "metadata": {},
   "source": [
    "### But it does change the geometry"
   ]
  },
  {
   "cell_type": "code",
   "execution_count": 147,
   "metadata": {},
   "outputs": [
    {
     "data": {
      "text/plain": [
       "Text(0,0.5,'y pos (meters)')"
      ]
     },
     "execution_count": 147,
     "metadata": {},
     "output_type": "execute_result"
    },
    {
     "data": {
      "image/png": "[encoded data removed]",
      "text/plain": [
       "<Figure size 432x288 with 1 Axes>"
      ]
     },
     "metadata": {
      "needs_background": "light"
     },
     "output_type": "display_data"
    }
   ],
   "source": [
    "ax = plt.subplot(111)\n",
    "plt.title('W-track geometry (multi-segment entrance hall)')\n",
    "for n, attrs in list(H.nodes.data()):\n",
    "    if attrs['kind']=='point':\n",
    "        coord = attrs['coord']\n",
    "        plt.scatter([coord[0]], [coord[1]], color='r')\n",
    "    if attrs['kind']=='segment':\n",
    "        start, end = attrs['segment']\n",
    "        plt.plot([start[0], end[0]], [start[1], end[1]], color='k')\n",
    "    if attrs['kind']=='area':\n",
    "        poly = attrs['polygon']\n",
    "        xs = [e[0] for e in poly]\n",
    "        ys = [e[1] for e in poly]\n",
    "        plt.fill(xs, ys, color='grey', alpha=0.4)\n",
    "    if attrs['kind']=='multi_segment':\n",
    "        multi_seg = attrs['segment']\n",
    "        xs = [e[0] for e in multi_seg]\n",
    "        ys = [e[1] for e in multi_seg]\n",
    "        plt.plot(xs, ys, color='k')\n",
    "                \n",
    "plt.xlabel('x pos (meters)')\n",
    "plt.ylabel('y pos (meters)')"
   ]
  },
  {
   "cell_type": "markdown",
   "metadata": {},
   "source": [
    "### Exporting graph connectivity to Pandas\n",
    "Convert arbitrary node numbers to their names using metadata lookups"
   ]
  },
  {
   "cell_type": "code",
   "execution_count": 197,
   "metadata": {},
   "outputs": [
    {
     "name": "stdout",
     "output_type": "stream",
     "text": [
      "Adjacency Matrix\n",
      "       L   LC    C   RC    R   LW   CW   RW   CP   SB   EH  SBD\n",
      "L    0.0  1.0  0.0  0.0  0.0  1.0  0.0  0.0  0.0  0.0  0.0  0.0\n",
      "LC   1.0  0.0  0.0  0.0  0.0  0.0  0.0  0.0  1.0  0.0  0.0  0.0\n",
      "C    0.0  0.0  0.0  0.0  0.0  0.0  1.0  0.0  1.0  0.0  0.0  0.0\n",
      "RC   0.0  0.0  0.0  0.0  1.0  0.0  0.0  0.0  1.0  0.0  0.0  0.0\n",
      "R    0.0  0.0  0.0  1.0  0.0  0.0  0.0  1.0  0.0  0.0  0.0  0.0\n",
      "LW   1.0  0.0  0.0  0.0  0.0  0.0  0.0  0.0  0.0  0.0  0.0  0.0\n",
      "CW   0.0  0.0  1.0  0.0  0.0  0.0  0.0  0.0  0.0  0.0  0.0  0.0\n",
      "RW   0.0  0.0  0.0  0.0  1.0  0.0  0.0  0.0  0.0  0.0  0.0  0.0\n",
      "CP   0.0  1.0  1.0  1.0  0.0  0.0  0.0  0.0  0.0  0.0  1.0  0.0\n",
      "SB   0.0  0.0  0.0  0.0  0.0  0.0  0.0  0.0  0.0  0.0  0.0  1.0\n",
      "EH   0.0  0.0  0.0  0.0  0.0  0.0  0.0  0.0  1.0  0.0  0.0  1.0\n",
      "SBD  0.0  0.0  0.0  0.0  0.0  0.0  0.0  0.0  0.0  1.0  1.0  0.0\n",
      "\n",
      "\n",
      "Edge List\n",
      "   source target\n",
      "0       L     LC\n",
      "1       L     LW\n",
      "2      LC     CP\n",
      "3       C     CW\n",
      "4       C     CP\n",
      "5      RC      R\n",
      "6      RC     CP\n",
      "7       R     RW\n",
      "8      CP     EH\n",
      "9      SB    SBD\n",
      "10     EH    SBD\n"
     ]
    }
   ],
   "source": [
    "idx_names = list(H.nodes.data('name'))\n",
    "node_names = [e[1] for e in idx_names]\n",
    "\n",
    "print(\"Adjacency Matrix\")\n",
    "adj = nx.to_pandas_adjacency(H)\n",
    "adj.columns = node_names\n",
    "adj.index = node_names\n",
    "print(adj)\n",
    "\n",
    "print('\\n')\n",
    "\n",
    "print(\"Edge List\")\n",
    "edgelist = nx.to_pandas_edgelist(H)\n",
    "for index, row in edgelist.iterrows():\n",
    "    source_name = idx_names[row['source']][1]\n",
    "    target_name = idx_names[row['target']][1]\n",
    "    edgelist.loc[index, 'source'] = source_name\n",
    "    edgelist.loc[index, 'target'] = target_name\n",
    "print(edgelist)"
   ]
  },
  {
   "cell_type": "code",
   "execution_count": null,
   "metadata": {},
   "outputs": [],
   "source": []
  }
 ],
 "metadata": {
  "kernelspec": {
   "display_name": "Python 3",
   "language": "python",
   "name": "python3"
  },
  "language_info": {
   "codemirror_mode": {
    "name": "ipython",
    "version": 3
   },
   "file_extension": ".py",
   "mimetype": "text/x-python",
   "name": "python",
   "nbconvert_exporter": "python",
   "pygments_lexer": "ipython3",
   "version": "3.6.7"
  }
 },
 "nbformat": 4,
 "nbformat_minor": 2
}
