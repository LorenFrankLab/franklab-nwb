{
 "cells": [
  {
   "cell_type": "code",
   "execution_count": 2,
   "metadata": {},
   "outputs": [],
   "source": [
    "import pynwb\n",
    "import numpy as np\n",
    "import networkx as nx\n",
    "\n",
    "import matplotlib.pyplot as plt\n"
   ]
  },
  {
   "cell_type": "markdown",
   "metadata": {},
   "source": [
    "### Define behavioral classes to represent track"
   ]
  },
  {
   "cell_type": "code",
   "execution_count": 3,
   "metadata": {},
   "outputs": [],
   "source": [
    "class BehavioralPoint():\n",
    "    def __init__(self, center_point, name):\n",
    "        self.x = center_point[0]\n",
    "        self.y = center_point[1]\n",
    "        self.name = name\n",
    "    \n",
    "class BehavioralPath():\n",
    "    def __init__(self, segment, name):\n",
    "        self.segment = segment\n",
    "        self.name = name\n",
    "\n",
    "class BehavioralArea():\n",
    "    def __init__(self, polygon, name):\n",
    "        self.polygon = polygon\n",
    "        self.name = name\n"
   ]
  },
  {
   "cell_type": "markdown",
   "metadata": {},
   "source": [
    "### Make behavioral objects for W-track"
   ]
  },
  {
   "cell_type": "code",
   "execution_count": 20,
   "metadata": {},
   "outputs": [],
   "source": [
    "# W-track path segments\n",
    "wtrack_L = BehavioralPath([(1.6, 2.25), (1.6, 0.65)], \"L\")\n",
    "wtrack_LC = BehavioralPath([(1.6, 0.65), (1.9, 0.65)], \"LC\")\n",
    "wtrack_C = BehavioralPath([(1.9, 0.65), (1.9, 2.25)], \"C\")\n",
    "wtrack_RC = BehavioralPath([(1.9, 0.65), (2.25, 0.65)], \"RC\")\n",
    "wtrack_R = BehavioralPath([(2.25, 0.65), (2.25, 2.25)], \"R\")\n",
    "all_paths = [wtrack_L, wtrack_LC, wtrack_C, wtrack_RC, wtrack_R]\n",
    "\n",
    "# W-track points (wells)\n",
    "wtrack_wL = BehavioralPoint((1.6, 2.25), \"LW\")\n",
    "wtrack_wC = BehavioralPoint((1.9, 2.25), \"CW\")\n",
    "wtrack_wR = BehavioralPoint((2.25, 2.25), \"RW\")\n",
    "all_points = [wtrack_wL, wtrack_wC, wtrack_wR]"
   ]
  },
  {
   "cell_type": "markdown",
   "metadata": {},
   "source": [
    "## Build graph for W-track\n",
    "Here we are duplicating some information in the graph nodes that is also in the behavioral objects (e.g. 'name'). This makes graph operations simpler (i.e. drawing a graph with nodes labeled by 'name') and allows encapuslation of info about each node, but we get this at the expense of the possibility of degeneracy and complexity. Another option is to not use the behavioral objects, and instead just put all relevant information as graph attributes. We will explore this further [below](#no_objects)."
   ]
  },
  {
   "cell_type": "markdown",
   "metadata": {},
   "source": [
    "### Add nodes"
   ]
  },
  {
   "cell_type": "code",
   "execution_count": 5,
   "metadata": {},
   "outputs": [],
   "source": [
    "G = nx.Graph(name='w-track')\n",
    "\n",
    "# Add nodes to the graph\n",
    "# ----------------------\n",
    "# Track segments\n",
    "for path in all_paths:\n",
    "    G.add_node(path, name=path.name, kind='path')\n",
    "# Wells\n",
    "for pt in all_points:\n",
    "    G.add_node(pt, name=pt.name, kind='point')"
   ]
  },
  {
   "cell_type": "markdown",
   "metadata": {},
   "source": [
    "### Add edges (corresponding to the W-track topology)"
   ]
  },
  {
   "cell_type": "code",
   "execution_count": 5,
   "metadata": {},
   "outputs": [],
   "source": [
    "# Add edges connecting the appropriate nodes\n",
    "# -----------------------------------------\n",
    "# Segment <-> Segment\n",
    "G.add_edge(wtrack_L, wtrack_LC)\n",
    "G.add_edge(wtrack_LC, wtrack_C)\n",
    "G.add_edge(wtrack_RC, wtrack_C)\n",
    "G.add_edge(wtrack_LC, wtrack_RC)\n",
    "G.add_edge(wtrack_RC, wtrack_R)\n",
    "# Segment <-> Well\n",
    "G.add_edge(wtrack_L, wtrack_wL)\n",
    "G.add_edge(wtrack_C, wtrack_wC)\n",
    "G.add_edge(wtrack_R, wtrack_wR)"
   ]
  },
  {
   "cell_type": "markdown",
   "metadata": {},
   "source": [
    "### Plot track topology"
   ]
  },
  {
   "cell_type": "code",
   "execution_count": 6,
   "metadata": {},
   "outputs": [
    {
     "data": {
      "image/png": "[encoded data removed]",
      "text/plain": [
       "<Figure size 432x288 with 1 Axes>"
      ]
     },
     "metadata": {
      "needs_background": "light"
     },
     "output_type": "display_data"
    }
   ],
   "source": [
    "ax = plt.subplot(111)\n",
    "ax.axes.get_xaxis().set_visible(False)\n",
    "ax.axes.get_yaxis().set_visible(False)\n",
    "plt.title(\"W-track topology\")\n",
    "nx.draw_networkx(G, labels=dict(G.nodes.data('name')), fontsize=6)\n"
   ]
  },
  {
   "cell_type": "markdown",
   "metadata": {},
   "source": [
    "### Plot track geometry"
   ]
  },
  {
   "cell_type": "code",
   "execution_count": 7,
   "metadata": {},
   "outputs": [
    {
     "data": {
      "text/plain": [
       "Text(0,0.5,'y pos (meters)')"
      ]
     },
     "execution_count": 7,
     "metadata": {},
     "output_type": "execute_result"
    },
    {
     "data": {
      "image/png": "[encoded data removed]",
      "text/plain": [
       "<Figure size 432x288 with 1 Axes>"
      ]
     },
     "metadata": {
      "needs_background": "light"
     },
     "output_type": "display_data"
    }
   ],
   "source": [
    "ax = plt.subplot(111)\n",
    "plt.title('W-track geometry')\n",
    "for n, attrs in list(G.nodes.data()):\n",
    "    if attrs['kind']=='point':\n",
    "        plt.scatter([n.x], [n.y], color='r')\n",
    "    if attrs['kind']=='path':\n",
    "        start = n.segment[0]\n",
    "        end = n.segment[1]\n",
    "        plt.plot([start[0], end[0]], [start[1], end[1]], color='k')\n",
    "plt.xlabel('x pos (meters)')\n",
    "plt.ylabel('y pos (meters)')"
   ]
  },
  {
   "cell_type": "markdown",
   "metadata": {},
   "source": [
    "<a name='no_objects'></a>\n",
    "### Alternate: Do not use behavioral objects. Store all metadata in graph attrs.\n",
    "As discussed above, having behavioral objects encapsulates the data at the expense of introducing some degeneracy in the metadata. Instead, we can have graph nodes be arbitary integers, with all metadata contained as graph attributes.  "
   ]
  },
  {
   "cell_type": "code",
   "execution_count": 39,
   "metadata": {},
   "outputs": [
    {
     "name": "stdout",
     "output_type": "stream",
     "text": [
      "Note that we have lost information about the geometry of the points and paths!\n",
      "These data were in the behavioral objects...\n",
      "\n"
     ]
    },
    {
     "data": {
      "text/plain": [
       "[(0, {'name': 'L', 'kind': 'path'}),\n",
       " (1, {'name': 'LC', 'kind': 'path'}),\n",
       " (2, {'name': 'C', 'kind': 'path'}),\n",
       " (3, {'name': 'RC', 'kind': 'path'}),\n",
       " (4, {'name': 'R', 'kind': 'path'}),\n",
       " (5, {'name': 'LW', 'kind': 'point'}),\n",
       " (6, {'name': 'CW', 'kind': 'point'}),\n",
       " (7, {'name': 'RW', 'kind': 'point'})]"
      ]
     },
     "execution_count": 39,
     "metadata": {},
     "output_type": "execute_result"
    }
   ],
   "source": [
    "H = nx.convert_node_labels_to_integers(G)\n",
    "print(\"Note that we have lost information about the geometry of the points and paths!\")\n",
    "print(\"These data were in the behavioral objects...\\n\")\n",
    "list(H.nodes.data())"
   ]
  },
  {
   "cell_type": "markdown",
   "metadata": {},
   "source": [
    "### Recover the geometry metadata and store in the graph attrs"
   ]
  },
  {
   "cell_type": "code",
   "execution_count": 37,
   "metadata": {},
   "outputs": [
    {
     "name": "stdout",
     "output_type": "stream",
     "text": [
      "Now we have the geometry metadata in the graph attributes: \n",
      "\n"
     ]
    },
    {
     "data": {
      "text/plain": [
       "[(0, {'name': 'L', 'kind': 'path', 'segment': [(1.6, 2.25), (1.6, 0.65)]}),\n",
       " (1, {'name': 'LC', 'kind': 'path', 'segment': [(1.6, 0.65), (1.9, 0.65)]}),\n",
       " (2, {'name': 'C', 'kind': 'path', 'segment': [(1.9, 0.65), (1.9, 2.25)]}),\n",
       " (3, {'name': 'RC', 'kind': 'path', 'segment': [(1.9, 0.65), (2.25, 0.65)]}),\n",
       " (4, {'name': 'R', 'kind': 'path', 'segment': [(2.25, 0.65), (2.25, 2.25)]}),\n",
       " (5, {'name': 'LW', 'kind': 'point', 'coord': (1.6, 2.25)}),\n",
       " (6, {'name': 'CW', 'kind': 'point', 'coord': (1.9, 2.25)}),\n",
       " (7, {'name': 'RW', 'kind': 'point', 'coord': (2.25, 2.25)})]"
      ]
     },
     "execution_count": 37,
     "metadata": {},
     "output_type": "execute_result"
    }
   ],
   "source": [
    "name_list = [e[1] for e in list(H.nodes.data('name'))]  # list of names of each node, in index order\n",
    "\n",
    "# For path objects, store the [(x1, y1), (x2, y2)] of the segment start and end points\n",
    "for path in all_paths:\n",
    "    idx = name_list.index(path.name)\n",
    "    H.nodes[idx]['segment'] = path.segment\n",
    "    \n",
    "# For point objects, store the (x, y) coordinate of the point\n",
    "for pt in all_points:\n",
    "    idx = name_list.index(pt.name)\n",
    "    H.nodes[idx]['coord'] = (pt.x, pt.y)\n",
    "\n",
    "print(\"Now we have the geometry metadata in the graph attributes: \\n\")\n",
    "list(H.nodes.data())"
   ]
  },
  {
   "cell_type": "markdown",
   "metadata": {},
   "source": [
    "### Plot track topology (no behavioral objects)"
   ]
  },
  {
   "cell_type": "code",
   "execution_count": 16,
   "metadata": {},
   "outputs": [
    {
     "data": {
      "image/png": "[encoded data removed]",
      "text/plain": [
       "<Figure size 432x288 with 1 Axes>"
      ]
     },
     "metadata": {
      "needs_background": "light"
     },
     "output_type": "display_data"
    }
   ],
   "source": [
    "ax = plt.subplot(111)\n",
    "ax.axes.get_xaxis().set_visible(False)\n",
    "ax.axes.get_yaxis().set_visible(False)\n",
    "plt.title(\"W-track topology: no objects\")\n",
    "nx.draw_networkx(H, labels=dict(H.nodes.data('name')), fontsize=6)"
   ]
  },
  {
   "cell_type": "markdown",
   "metadata": {},
   "source": [
    "### Plot track geometry (no behavioral objects)"
   ]
  },
  {
   "cell_type": "code",
   "execution_count": null,
   "metadata": {},
   "outputs": [],
   "source": [
    "ax = plt.subplot(111)\n",
    "plt.title('W-track geometry (no objects)')\n",
    "for n, attrs in list(G.nodes.data()):\n",
    "    if attrs['kind']=='point':\n",
    "        coord = attrs['coord']\n",
    "        plt.scatter([coord.x], [coord.y], color='r')\n",
    "    if attrs['kind']=='path':\n",
    "        start, end = attrs['segment']\n",
    "        plt.plot([start[0], end[0]], [start[1], end[1]], color='k')\n",
    "plt.xlabel('x pos (meters)')\n",
    "plt.ylabel('y pos (meters)')"
   ]
  }
 ],
 "metadata": {
  "kernelspec": {
   "display_name": "Python 3",
   "language": "python",
   "name": "python3"
  },
  "language_info": {
   "codemirror_mode": {
    "name": "ipython",
    "version": 3
   },
   "file_extension": ".py",
   "mimetype": "text/x-python",
   "name": "python",
   "nbconvert_exporter": "python",
   "pygments_lexer": "ipython3",
   "version": "3.6.7"
  }
 },
 "nbformat": 4,
 "nbformat_minor": 2
}
