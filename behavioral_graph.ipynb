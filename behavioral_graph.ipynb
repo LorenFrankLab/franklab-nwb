{
 "cells": [
  {
   "cell_type": "code",
   "execution_count": 17,
   "metadata": {},
   "outputs": [],
   "source": [
    "import pynwb\n",
    "import numpy as np\n",
    "import networkx as nx\n",
    "\n",
    "import matplotlib.pyplot as plt\n"
   ]
  },
  {
   "cell_type": "markdown",
   "metadata": {},
   "source": [
    "### Define behavioral classes to represent track"
   ]
  },
  {
   "cell_type": "code",
   "execution_count": 5,
   "metadata": {},
   "outputs": [],
   "source": [
    "class BehavioralPoint():\n",
    "    def __init__(self, center_point, name):\n",
    "        self.x = center_point[0]\n",
    "        self.y = center_point[1]\n",
    "        self.name = name\n",
    "    \n",
    "class BehavioralPath():\n",
    "    def __init__(self, segment, name):\n",
    "        self.segment = segment\n",
    "        self.name = name\n",
    "\n",
    "class BehavioralArea():\n",
    "    def __init__(self, polygon, name):\n",
    "        self.polygon = polygon\n",
    "        self.name = name\n"
   ]
  },
  {
   "cell_type": "markdown",
   "metadata": {},
   "source": [
    "### Make behavioral objects for W-track"
   ]
  },
  {
   "cell_type": "code",
   "execution_count": 103,
   "metadata": {},
   "outputs": [],
   "source": [
    "# W-track path segments\n",
    "wtrack_L = BehavioralPath([(1.6, 2.25), (1.6, 0.65)], \"L\")\n",
    "wtrack_LC = BehavioralPath([(1.6, 0.65), (1.9, 0.65)], \"LC\")\n",
    "wtrack_C = BehavioralPath([(1.9, 0.65), (1.9, 2.25)], \"C\")\n",
    "wtrack_RC = BehavioralPath([(1.9, 0.65), (2.25, 0.65)], \"RC\")\n",
    "wtrack_R = BehavioralPath([(2.25, 0.65), (2.25, 2.25)], \"R\")\n",
    "\n",
    "# W-track points (wells)\n",
    "wtrack_wL = BehavioralPoint((1.6, 2.25), \"LW\")\n",
    "wtrack_wC = BehavioralPoint((1.9, 2.25), \"CW\")\n",
    "wtrack_wR = BehavioralPoint((2.25, 2.25), \"RW\")"
   ]
  },
  {
   "cell_type": "markdown",
   "metadata": {},
   "source": [
    "### Build graph for W-track"
   ]
  },
  {
   "cell_type": "code",
   "execution_count": 104,
   "metadata": {},
   "outputs": [],
   "source": [
    "G = nx.Graph(name='w-track')\n",
    "\n",
    "# Add nodes to the graph\n",
    "# ----------------------\n",
    "# Track segments\n",
    "G.add_node(wtrack_L, name=wtrack_L.name, kind='path')\n",
    "G.add_node(wtrack_LC, name=wtrack_LC.name, kind='path')\n",
    "G.add_node(wtrack_C, name=wtrack_C.name, kind='path')\n",
    "G.add_node(wtrack_RC, name=wtrack_RC.name, kind='path')\n",
    "G.add_node(wtrack_R, name=wtrack_R.name, kind='path')\n",
    "# Wells\n",
    "G.add_node(wtrack_wL, name=wtrack_wL.name, kind='point')\n",
    "G.add_node(wtrack_wC, name=wtrack_wC.name, kind='point')\n",
    "G.add_node(wtrack_wR, name=wtrack_wR.name, kind='point')\n",
    "\n",
    "# Add edges connecting the appropriate nodes\n",
    "# -----------------------------------------\n",
    "# Segment <-> Segment\n",
    "G.add_edge(wtrack_L, wtrack_LC)\n",
    "G.add_edge(wtrack_LC, wtrack_C)\n",
    "G.add_edge(wtrack_RC, wtrack_C)\n",
    "G.add_edge(wtrack_LC, wtrack_RC)\n",
    "G.add_edge(wtrack_RC, wtrack_R)\n",
    "# Segment <-> Well\n",
    "G.add_edge(wtrack_L, wtrack_wL)\n",
    "G.add_edge(wtrack_C, wtrack_wC)\n",
    "G.add_edge(wtrack_R, wtrack_wR)"
   ]
  },
  {
   "cell_type": "markdown",
   "metadata": {},
   "source": [
    "### Plot track topology"
   ]
  },
  {
   "cell_type": "code",
   "execution_count": 105,
   "metadata": {},
   "outputs": [
    {
     "data": {
      "image/png": "[encoded data removed]",
      "text/plain": [
       "<Figure size 432x288 with 1 Axes>"
      ]
     },
     "metadata": {
      "needs_background": "light"
     },
     "output_type": "display_data"
    }
   ],
   "source": [
    "ax = plt.subplot(111)\n",
    "ax.axes.get_xaxis().set_visible(False)\n",
    "ax.axes.get_yaxis().set_visible(False)\n",
    "plt.title(\"W-track topology\")\n",
    "nx.draw_networkx(G, labels=dict(G.nodes.data('name')), fontsize=6)\n"
   ]
  },
  {
   "cell_type": "markdown",
   "metadata": {},
   "source": [
    "### Plot track geometry"
   ]
  },
  {
   "cell_type": "code",
   "execution_count": 114,
   "metadata": {},
   "outputs": [
    {
     "data": {
      "image/png": "[encoded data removed]",
      "text/plain": [
       "<Figure size 432x288 with 1 Axes>"
      ]
     },
     "metadata": {
      "needs_background": "light"
     },
     "output_type": "display_data"
    }
   ],
   "source": [
    "ax = plt.subplot(111)\n",
    "plt.title('W-track geometry')\n",
    "for n, attrs in list(G.nodes.data()):\n",
    "    if attrs['kind']=='point':\n",
    "        plt.scatter([n.x], [n.y], color='r')\n",
    "    if attrs['kind']=='path':\n",
    "        start = n.segment[0]\n",
    "        end = n.segment[1]\n",
    "        plt.plot([start[0], end[0]], [start[1], end[1]], color='k')\n",
    "plt.xlabel('x pos (meters)')\n",
    "plt.ylabel('y pos (meters)')"
   ]
  },
  {
   "cell_type": "code",
   "execution_count": null,
   "metadata": {},
   "outputs": [],
   "source": []
  }
 ],
 "metadata": {
  "kernelspec": {
   "display_name": "Python 3",
   "language": "python",
   "name": "python3"
  },
  "language_info": {
   "codemirror_mode": {
    "name": "ipython",
    "version": 3
   },
   "file_extension": ".py",
   "mimetype": "text/x-python",
   "name": "python",
   "nbconvert_exporter": "python",
   "pygments_lexer": "ipython3",
   "version": "3.6.7"
  }
 },
 "nbformat": 4,
 "nbformat_minor": 2
}
