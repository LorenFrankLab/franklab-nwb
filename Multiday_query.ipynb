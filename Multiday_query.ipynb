{
 "cells": [
  {
   "cell_type": "code",
   "execution_count": null,
   "metadata": {},
   "outputs": [],
   "source": [
    "%load_ext autoreload\n",
    "%autoreload 2\n",
    "\n",
    "from datetime import datetime\n",
    "from dateutil import tz\n",
    "\n",
    "import pynwb\n",
    "import numpy as np\n",
    "\n",
    "# pip install python-intervals, *NOT* pip install intervals\n",
    "import intervals as iv\n",
    "\n",
    "import query_helpers as qu\n",
    "import nspike_helpers as ns\n",
    "\n",
    "import matplotlib.pyplot as plt\n",
    "import matplotlib.dates as mdates\n",
    "import matplotlib.ticker as mticker\n",
    "\n",
    "\n",
    "plt.rcParams.update({'font.size': 14})\n",
    "plt.rcParams.update({'lines.solid_capstyle': 'butt'})\n",
    "mdates.rcParams.update({'date.autoformatter.microsecond': '%H:%M:%S.%f'})"
   ]
  },
  {
   "cell_type": "code",
   "execution_count": null,
   "metadata": {},
   "outputs": [],
   "source": [
    "anim = 'Bon'\n",
    "file1 = './Bon03_test.nwb'\n",
    "file2 = './Bon04_test.nwb'\n",
    "multiday_filename = './Bon_multiday_test.nwb'\n",
    "multiday_linkfalse_filename = './Bon_multiday_test_linkfalse.nwb'"
   ]
  },
  {
   "cell_type": "markdown",
   "metadata": {},
   "source": [
    "### Open 2 existing nwb files, and create master file"
   ]
  },
  {
   "cell_type": "code",
   "execution_count": null,
   "metadata": {},
   "outputs": [],
   "source": [
    "manager = pynwb.get_manager()\n",
    "\n",
    "io1 = pynwb.NWBHDF5IO(file1, mode='r', manager=manager)\n",
    "nwbf1 = io1.read()\n",
    "\n",
    "io2 = pynwb.NWBHDF5IO(file2, mode='r', manager=manager)\n",
    "nwbf2 = io2.read()\n",
    "\n",
    "# # Session-specific params\n",
    "# data_dir = '/opt/data46/FrankData/kkay/Bon/'\n",
    "# #data_dir = '/Users/tjd/Data/FrankData/kkay/Bon'\n",
    "# data_source = 'Animal Bond'\n",
    "# anim = 'Bon' \n",
    "# day = 3\n",
    "\n",
    "# 'Wall clock' (i.e. actual) date and time of the Nspike time = 0 for this experiment.\n",
    "# NOTE: this is not the true zero_time, as we don't have easy access to that without digging in lab notebooks.\n",
    "# TODO: dig in lab notebooks, at least to get the date of recording.\n",
    "dataset_zero_time = datetime(2006, 1, 1, 12, 0, 0, tzinfo=tz.gettz('US/Pacific'))\n",
    "\n",
    "# General params/presets\n",
    "file_create_date = datetime.now(tz.tzlocal())\n",
    "\n",
    "source = 'NSpike data acquisition system'\n",
    "\n",
    "nwb_filename = multiday_filename\n",
    "\n",
    "nwbf_multi = pynwb.NWBFile(\n",
    "                   source=source,\n",
    "                   session_description='Converted NSpike data',\n",
    "                   identifier=anim,\n",
    "                   session_start_time=dataset_zero_time,\n",
    "                   file_create_date=file_create_date,\n",
    "                   lab='Frank Laboratory',\n",
    "                   experimenter='Mattias Karlsson',\n",
    "                   institution='UCSF',\n",
    "                   experiment_description='Multiple days of recordings from awake behaving rat')"
   ]
  },
  {
   "cell_type": "markdown",
   "metadata": {},
   "source": [
    "#### Link to some data from each source file"
   ]
  },
  {
   "cell_type": "code",
   "execution_count": null,
   "metadata": {},
   "outputs": [],
   "source": [
    "es1 = nwbf1.get_acquisition('LFP').electrical_series['boneeg-3-12']\n",
    "es2 = nwbf2.get_acquisition('LFP').electrical_series['boneeg-4-12']"
   ]
  },
  {
   "cell_type": "code",
   "execution_count": null,
   "metadata": {},
   "outputs": [],
   "source": [
    "nwbf_multi.add_acquisition(es1)\n",
    "nwbf_multi.add_acquisition(es2)"
   ]
  },
  {
   "cell_type": "markdown",
   "metadata": {},
   "source": [
    "#### Write out master file\n",
    "Must use same 'manager' as used on read, above"
   ]
  },
  {
   "cell_type": "code",
   "execution_count": null,
   "metadata": {},
   "outputs": [],
   "source": [
    "io_multi = pynwb.NWBHDF5IO(multiday_filename, mode='w', manager=manager)\n",
    "io_multi.write(nwbf_multi, link_data=True)\n",
    "io_multi.close()"
   ]
  },
  {
   "cell_type": "code",
   "execution_count": null,
   "metadata": {},
   "outputs": [],
   "source": [
    "## link_data=False has no effect here (vs. link_data=true)\n",
    "# io_multi = pynwb.NWBHDF5IO(multiday_linkfalse_filename, mode='w', manager=manager)\n",
    "# io_multi.write(nwbf_multi, link_data=False)\n",
    "# io_multi.close()"
   ]
  },
  {
   "cell_type": "code",
   "execution_count": null,
   "metadata": {},
   "outputs": [],
   "source": [
    "io1.close()\n",
    "io2.close()"
   ]
  },
  {
   "cell_type": "markdown",
   "metadata": {},
   "source": [
    "### Load new 'master' file and check whether we can access data"
   ]
  },
  {
   "cell_type": "code",
   "execution_count": null,
   "metadata": {},
   "outputs": [],
   "source": [
    "io_multi_read = pynwb.NWBHDF5IO(multiday_filename, mode='r')\n",
    "nwbf_multi_r = io_multi_read.read()"
   ]
  },
  {
   "cell_type": "code",
   "execution_count": null,
   "metadata": {},
   "outputs": [],
   "source": [
    "print(nwbf_multi_r.acquisition['boneeg-3-12'].data[-10:-1])\n",
    "print(nwbf_multi_r.acquisition['boneeg-4-12'].data[-10:-1])"
   ]
  },
  {
   "cell_type": "markdown",
   "metadata": {},
   "source": [
    "### Copy master file, dereferencing links\n",
    "File goes from 17KB -> 240MB"
   ]
  },
  {
   "cell_type": "code",
   "execution_count": null,
   "metadata": {},
   "outputs": [],
   "source": [
    "io_multi_read.copy_file(multiday_filename, './h5copy_test.nwb')"
   ]
  },
  {
   "cell_type": "code",
   "execution_count": null,
   "metadata": {},
   "outputs": [],
   "source": []
  }
 ],
 "metadata": {
  "kernelspec": {
   "display_name": "Python 3",
   "language": "python",
   "name": "python3"
  },
  "language_info": {
   "codemirror_mode": {
    "name": "ipython",
    "version": 3
   },
   "file_extension": ".py",
   "mimetype": "text/x-python",
   "name": "python",
   "nbconvert_exporter": "python",
   "pygments_lexer": "ipython3",
   "version": "3.6.6"
  }
 },
 "nbformat": 4,
 "nbformat_minor": 2
}
