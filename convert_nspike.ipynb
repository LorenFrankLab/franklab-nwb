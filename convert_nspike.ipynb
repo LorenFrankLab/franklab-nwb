{
 "cells": [
  {
   "cell_type": "code",
   "execution_count": 1,
   "metadata": {},
   "outputs": [
    {
     "name": "stderr",
     "output_type": "stream",
     "text": [
      "/Users/tjd/conda/envs/pynwb/lib/python3.6/site-packages/h5py/__init__.py:36: FutureWarning: Conversion of the second argument of issubdtype from `float` to `np.floating` is deprecated. In future, it will be treated as `np.float64 == np.dtype(float).type`.\n",
      "  from ._conv import register_converters as _register_converters\n"
     ]
    }
   ],
   "source": [
    "%load_ext autoreload\n",
    "%autoreload 2\n",
    "\n",
    "import os\n",
    "\n",
    "import numpy as np\n",
    "from datetime import datetime\n",
    "from dateutil import tz\n",
    "import matplotlib.pyplot as plt\n",
    "import matplotlib.dates as mdates\n",
    "import matplotlib.ticker as mticker\n",
    "\n",
    "\n",
    "import pynwb\n",
    "import nspike_helpers as ns \n",
    "\n",
    "mdates.rcParams.update({'date.autoformatter.microsecond': '%H:%M:%S.%f'})"
   ]
  },
  {
   "cell_type": "code",
   "execution_count": 2,
   "metadata": {},
   "outputs": [],
   "source": [
    "# debug settings\n",
    "limit_num_of_tets = None # To speed up testing. Set to None to load all tets\n",
    "\n",
    "# Session-specific params\n",
    "#data_dir = '/opt/data46/FrankData/kkay/Bon/'\n",
    "data_dir = '/Users/tjd/Data/FrankData/kkay/Bon'\n",
    "data_source = 'Animal Bond'\n",
    "anim = 'Bon' \n",
    "day = 4\n",
    "\n",
    "# 'Wall clock' (i.e. actual) date and time of the Nspike time = 0 for this experiment.\n",
    "# NOTE: this is not the true zero_time, as we don't have easy access to that without digging in lab notebooks.\n",
    "# TODO: dig in lab notebooks, at least to get the date of recording.\n",
    "dataset_zero_time = datetime(2006, 1, 1, 12, 0, 0, tzinfo=tz.gettz('US/Pacific'))\n",
    "\n",
    "# General params/presets\n",
    "file_create_date = datetime.now(tz.tzlocal())\n",
    "\n",
    "source = 'NSpike data acquisition system'\n",
    "eeg_samprate = 1500.0 # Hz\n",
    "\n",
    "eeg_subdir = \"EEG\"\n",
    "epochs_file = \"times.mat\"\n",
    "tetinfo_file = \"tetinfo.mat\"\n",
    "NSpike_timestamps_per_sec = 10000"
   ]
  },
  {
   "cell_type": "code",
   "execution_count": 3,
   "metadata": {},
   "outputs": [
    {
     "name": "stdout",
     "output_type": "stream",
     "text": [
      "2018-10-28 15:08:45.177790-07:00\n",
      "2006-01-01 12:00:00-08:00\n"
     ]
    }
   ],
   "source": [
    "print(file_create_date)\n",
    "print(dataset_zero_time)"
   ]
  },
  {
   "cell_type": "markdown",
   "metadata": {},
   "source": [
    "### Parse inputs and create NWBfile"
   ]
  },
  {
   "cell_type": "code",
   "execution_count": 4,
   "metadata": {},
   "outputs": [],
   "source": [
    "day_str = '%02d' % day\n",
    "\n",
    "nwb_filename = anim + day_str + '_test.nwb'\n",
    "\n",
    "# check the input arguments\n",
    "if not os.path.exists(data_dir):\n",
    "        print('Error: data_dir %s does not exist' % data_dir)\n",
    "        exit(-1)\n",
    "\n",
    "# get filename prefix and file locations\n",
    "prefix = anim.lower()\n",
    "eeg_path = os.path.join(data_dir, eeg_subdir)\n",
    "\n",
    "# Calculate the POSIX timestamp when Nspike clock = 0 (seconds)\n",
    "NSpike_posixtime_offset = dataset_zero_time.timestamp()\n",
    "\n",
    "# We'll still store NSpike/Trodes zero time in nwbfile.session_start_time, \n",
    "# so that we can recreate the experimental timestamps, even though that\n",
    "# violates the definition of session_start_time as zero time. We need some\n",
    "# other way to indicate that the timestamps are POSIX (easy: if they are over\n",
    "# a trillion, then they're POSIX!)"
   ]
  },
  {
   "cell_type": "code",
   "execution_count": 5,
   "metadata": {},
   "outputs": [],
   "source": [
    "nwbf = pynwb.NWBFile(data_source,\n",
    "               'Converted NSpike data from %s' % data_dir,\n",
    "               anim+day_str,\n",
    "               session_start_time=dataset_zero_time,\n",
    "               file_create_date=file_create_date,\n",
    "               lab='Frank Laboratory',\n",
    "               experimenter='Mattias Karlsson',\n",
    "               institution='UCSF',\n",
    "               experiment_description='Recordings from awake behaving rat',\n",
    "               session_id=data_dir)"
   ]
  },
  {
   "cell_type": "markdown",
   "metadata": {},
   "source": [
    "### Animal Behavior"
   ]
  },
  {
   "cell_type": "code",
   "execution_count": 6,
   "metadata": {},
   "outputs": [],
   "source": [
    "# create position, direction and speed\n",
    "position_list = []\n",
    "pos = pynwb.behavior.Position(data_source, position_list, 'Position')\n",
    "\n",
    "direction_list = []\n",
    "dir = pynwb.behavior.CompassDirection(data_source, direction_list, 'Head Direction')\n",
    "\n",
    "speed_list = []\n",
    "speed = pynwb.behavior.BehavioralTimeSeries(data_source, speed_list, 'Speed')\n",
    "\n",
    "# NOTE that day_inds is 0 based\n",
    "time_list = {}\n",
    "nwb_epoch = {}\n",
    "pos_files = ns.get_files_by_day(data_dir, prefix, 'pos')\n",
    "task_files = ns.get_files_by_day(data_dir, prefix, 'task')"
   ]
  },
  {
   "cell_type": "code",
   "execution_count": 7,
   "metadata": {},
   "outputs": [],
   "source": [
    "mat = ns.loadmat_ff(task_files[day], 'task')\n",
    "task_struct = mat[day]\n",
    "# find the pos file for this day and load it\n",
    "\n",
    "mat = ns.loadmat_ff(pos_files[day], 'pos')\n",
    "pos_struct = mat[day]\n",
    "\n",
    "# compile a list of time intervals in an array and create the position, head direction and velocity structures\n",
    "time_list = []\n",
    "\n",
    "# Assume field order: (time,x,y,dir,vel)\n",
    "(time_idx, x_idx, y_idx, dir_idx, vel_idx) = range(5)"
   ]
  },
  {
   "cell_type": "code",
   "execution_count": 8,
   "metadata": {},
   "outputs": [],
   "source": [
    "for epoch_num, pos_epoch in pos_struct.items():\n",
    "\n",
    "    # convert times to POSIX time\n",
    "    timestamps = pos_epoch['data'][:,time_idx] + NSpike_posixtime_offset\n",
    "\n",
    "    # TODO: create a shared TimeSeries for timestamps, across all behavioral timeseries\n",
    "    # ?? timestamps_obj = pynwb.TimeSeries(timestamps=timestamps...)\n",
    "\n",
    "    # collect times of epoch start and end\n",
    "    time_list.append([timestamps[0], timestamps[-1]])\n",
    "\n",
    "    m_per_pixel = pos_epoch['cmperpixel'][0,0]/100 # NWB wants meters per pixel\n",
    "\n",
    "    # we can also create new SpatialSeries for the position, direction and velocity information\n",
    "    #NOTE: Each new spatial series has to have a unique name.\n",
    "    pos.create_spatial_series(name='Position d%d e%d' % (day, epoch_num), \n",
    "                              source='overhead camera',\n",
    "                              timestamps = timestamps,\n",
    "                              data=pos_epoch['data'][:, (x_idx, y_idx)] * m_per_pixel,\n",
    "                              reference_frame='corner of video frame',\n",
    "                              #conversion=m_per_pixel,\n",
    "                              #unit='m'\n",
    "                              ) # *after* conversion\n",
    "\n",
    "    dir.create_spatial_series(name='Head Direction d%d e%d'% (day, epoch_num), \n",
    "                              source='overhead camera',\n",
    "                              timestamps=timestamps,\n",
    "                              data=pos_epoch['data'][:, dir_idx],\n",
    "                              reference_frame='0=facing top of video frame (?), positive clockwise (?)',\n",
    "                              #unit='radians'\n",
    "                              )\n",
    "\n",
    "    speed.create_timeseries(name='Speed d%d e%d' % (day, epoch_num),\n",
    "                             source='overhead camera',\n",
    "                             timestamps=timestamps,\n",
    "                             data=pos_epoch['data'][:, vel_idx] * m_per_pixel,\n",
    "                             unit='m/s',\n",
    "                             #conversion=m_per_pixel,\n",
    "                             description='smoothed movement speed estimate')\n",
    "time_list = np.asarray(time_list)\n",
    "                                \n",
    "    "
   ]
  },
  {
   "cell_type": "code",
   "execution_count": 9,
   "metadata": {},
   "outputs": [
    {
     "data": {
      "text/plain": [
       "<BehavioralTimeSeries 'Speed' at 0x4636283344>"
      ]
     },
     "execution_count": 9,
     "metadata": {},
     "output_type": "execute_result"
    }
   ],
   "source": [
    "# create a Processing module for behavior\n",
    "behav_mod = nwbf.create_processing_module('Behavior', data_source, 'Behavioral variables')\n",
    "# add the position, direction and speed data\n",
    "behav_mod.add_data_interface(pos)\n",
    "behav_mod.add_data_interface(dir)\n",
    "behav_mod.add_data_interface(speed)"
   ]
  },
  {
   "cell_type": "markdown",
   "metadata": {},
   "source": [
    "### Epochs (Not currently implemented)"
   ]
  },
  {
   "cell_type": "code",
   "execution_count": 10,
   "metadata": {},
   "outputs": [],
   "source": [
    "# # create a list to store all of the fields in the task structure and \n",
    "# # a parallel list to store the created task interval structures\n",
    "# task_fields = []\n",
    "# task_intervals = []\n",
    "\n",
    "# # each day will be defined as a single Epoch in NWB so we go through and get the first and last time from the\n",
    "# # position data\n",
    "# day_start = time_list[0,0]\n",
    "# day_end = time_list[-1,1]\n",
    "\n",
    "# nwb_epoch = nwbf.create_epoch('day %s' % day, data_source, day_start, day_end, [], 'day %s' % day)\n",
    "# # add ignore intervals for the spaces between our epochs (it's not clear if this is necessary, but it won't hurt)\n",
    "# # also, there's probably a more \"python-ic\" way to do this, but I don't know what it is 8-)\n",
    "# if len(time_list) > 1:\n",
    "#         n = 1\n",
    "#         while n <= #NO!# len(time_list):\n",
    "#                 #nwb_epoch.add_ignore_interval(time_list[n-1][1], time_list[n][0])\n",
    "#                 n += 1\n",
    "\n",
    "# # now we go through the task structure and add a new interval series or an interval to an existing interval series\n",
    "# # for each element in the task structure\n",
    "# for epoch_num, task_epoch in enumerate(task_struct):\n",
    "#         if task_epoch.size > 0:\n",
    "#                 task_epoch = task_epoch[0,0] # retrieve dict from 1x1 ndarray\n",
    "#                 for field_name, value in task_epoch.items()\n",
    "#                         if field_name not in task_fields:\n",
    "#                                 # add the field_name to the list and create a new IntervalSeries for it\n",
    "#                                 task_fields.append(field_name)\n",
    "# #                               tmp_array = np.ndarray(2);\n",
    "# #                               tmp_array = [time_list[epoch_num][0], time_list[epoch_num][1]]\n",
    "#                                 tmp_interval = IntervalSeries(field_name, 'matlab task structure')\n",
    "#                                 # add the interval for this epoch\n",
    "#                                 tmp_interval.add_interval(*time_list[epoch_ind,:])\n",
    "#                                 task_intervals.append(tmp_interval)\n",
    "#                         else:\n",
    "#                                 # add the interval to appropriate element of the list\n",
    "#                                 task_intervals[task_fields.index(field_name)].add_interval(*time_list[epoch_ind])\n",
    "\n",
    "\n",
    "# # Now add the complete list of task intervals to the behav_mod module\n",
    "# for interval in task_intervals:\n",
    "#         behav_mod.add_data_interface(BehavioralEpochs('task information', interval))"
   ]
  },
  {
   "cell_type": "markdown",
   "metadata": {},
   "source": [
    "## Tetrode info\n",
    "Load in `tetinfo` struct and populate ElectrodeTable, electrode groups, etc."
   ]
  },
  {
   "cell_type": "code",
   "execution_count": 11,
   "metadata": {},
   "outputs": [],
   "source": [
    "# Create the electrode table.\n",
    "# The logic here is as follows:\n",
    "#   Each Tetrode gets its own ElectrodeGroup and ElectrodeTableRegion\n",
    "#   Each individual recording channel gets its own row in nwbfile.electrodes\n",
    "\n",
    "# we first create the ElectrodeTable that all the electrodes will go into\n",
    "nchan_per_tetrode = 4 #these files all contain tetrodes, so we assume four channels\n",
    "tetinfo_filename = \"%s/%s%s\" % (data_dir, prefix, tetinfo_file)\n",
    "recording_device = nwbf.create_device('NSpike acquisition system', data_source)\n",
    "tet_electrode_group = {}\n",
    "tet_electrode_table_region = {}\n",
    "lfp_electrode_table_region = {}"
   ]
  },
  {
   "cell_type": "code",
   "execution_count": 12,
   "metadata": {},
   "outputs": [
    {
     "name": "stdout",
     "output_type": "stream",
     "text": [
      "None\n",
      "Using tetrode numbers:\n",
      "[1, 2, 3, 4, 5, 6, 7, 8, 10, 11, 12, 13, 14, 15, 17, 18, 19, 20, 21, 22, 23, 24, 25, 27, 28, 29, 30]\n"
     ]
    }
   ],
   "source": [
    "mat = ns.loadmat_ff(tetinfo_filename, 'tetinfo')\n",
    "#only look at first epoch because rest are duplicates\n",
    "tets = mat[day][1]\n",
    "\n",
    "# For debugging, limit number of tets to import\n",
    "subset_keys = sorted(tets.keys())[0:limit_num_of_tets]\n",
    "tets = {k:v for (k,v) in tets.items() if k in subset_keys}\n",
    "\n",
    "print(limit_num_of_tets)\n",
    "print(\"Using tetrode numbers:\")\n",
    "print(subset_keys)"
   ]
  },
  {
   "cell_type": "code",
   "execution_count": 13,
   "metadata": {},
   "outputs": [
    {
     "data": {
      "text/plain": [
       "149"
      ]
     },
     "execution_count": 13,
     "metadata": {},
     "output_type": "execute_result"
    }
   ],
   "source": [
    "tets[1]['depth'][0,0][0,0]"
   ]
  },
  {
   "cell_type": "code",
   "execution_count": 14,
   "metadata": {},
   "outputs": [],
   "source": [
    "# kenny's data has a nested [day][epoch][tetrode] structure but duplicates the info across epochs, so we can just\n",
    "# use the first epoch for everything\n",
    "chan_num = 0 # this will hold an incrementing channel number for the entire day of data\n",
    "for tet_num, tet in tets.items():\n",
    "    #print('making electrode group for day %d, tet %d' % (day, tet_ind))\n",
    "    # go through the list of fields\n",
    "    hemisphere = '?'\n",
    "    # tet.area/.subarea are 1-d arrays of Unicode strings\n",
    "    area = str(tet['area'][0]) if 'area' in tet else '?' # h5py barfs on numpy.str_ type objects?\n",
    "    if 'sub_area' in tet: \n",
    "        sub_area = str(tet['sub_area'][0]) # h5py barfs on numpy.str_ type objects?\n",
    "        location = area + ' ' + sub_area\n",
    "    else:\n",
    "        sub_area = '?'\n",
    "        location = area \n",
    "\n",
    "    # tet.depth is a 1x1 cell array in tetinfo struct for some reason (multiple depths?)\n",
    "    # (which contains the expected 1x1 numeric array)\n",
    "    coord = [np.nan, np.nan, tet['depth'][0, 0][0, 0] / 12 / 80 * 25.4] if 'depth' in tet else [np.nan, np.nan, np.nan]\n",
    "    impedance = np.nan\n",
    "    filtering = 'unknown - likely 600Hz-6KHz'\n",
    "\n",
    "    channel_location = [location, location, location, location]\n",
    "    channel_coordinates = [coord, coord, coord, coord]\n",
    "    electrode_name = \"%02d-%02d\" % (day, tet_num)\n",
    "    description = \"tetrode {tet_num} located in {location} on day {day}\".format(tet_num=tet_num,\n",
    "                                                                               location=location,\n",
    "                                                                               day=day)\n",
    "\n",
    "    # we need to create an electrode group for this tetrode\n",
    "    tet_electrode_group[tet_num] = nwbf.create_electrode_group(electrode_name,\n",
    "                                                        data_source,\n",
    "                                                        description,\n",
    "                                                        location,\n",
    "                                                        recording_device)\n",
    "\n",
    "    for i in range(nchan_per_tetrode):\n",
    "            # now add an electrode\n",
    "            nwbf.add_electrode(x = coord[0],\n",
    "                               y = coord[1],\n",
    "                               z = coord[2],\n",
    "                               imp = impedance,\n",
    "                               location = location,\n",
    "                               filtering = filtering,\n",
    "                               group = tet_electrode_group[tet_num],\n",
    "                               group_name = tet_electrode_group[tet_num].name,\n",
    "                               id = chan_num)\n",
    "            chan_num = chan_num + 1\n",
    "\n",
    "    # now that we've created four entries, one for each channel of the tetrode, we create a new\n",
    "    # electrode table region for this tetrode and number it appropriately\n",
    "    table_region_description = 'ntrode %d region' % tet_num\n",
    "    table_region_name = '%d' % tet_num\n",
    "    tet_electrode_table_region[tet_num] = nwbf.create_electrode_table_region(\n",
    "        region=list(range(chan_num-nchan_per_tetrode,chan_num)),\n",
    "        description=table_region_description,\n",
    "        # BUG #679: name must be 'electrodes' or NWB file will not be readable\n",
    "        name='electrodes') #        name=table_region_name)\n",
    "\n",
    "\n",
    "\n",
    "    # Also create electrode_table_regions for each tetrode's LFP recordings\n",
    "    # (Assume that LFP is taken from the first channel)\n",
    "    lfp_electrode_table_region[tet_num] = nwbf.create_electrode_table_region(\n",
    "        [chan_num-nchan_per_tetrode],\n",
    "        table_region_description,\n",
    "        # BUG #679: name must be 'electrodes' or NWB file will not be readable\n",
    "        name='electrodes') #        name=table_region_name)"
   ]
  },
  {
   "cell_type": "code",
   "execution_count": 15,
   "metadata": {},
   "outputs": [],
   "source": [
    "# tet_electrode_table_region[1].region\n",
    "# nwbf.ec_electrode_groups['03-01'].description\n",
    "# tet_electrode_group"
   ]
  },
  {
   "cell_type": "markdown",
   "metadata": {},
   "source": [
    "## LFP"
   ]
  },
  {
   "cell_type": "code",
   "execution_count": 16,
   "metadata": {},
   "outputs": [
    {
     "name": "stdout",
     "output_type": "stream",
     "text": [
      "processing LFP data for day  4\n",
      " -> tet_num: 1\n",
      "loading file: /Users/tjd/Data/FrankData/kkay/Bon/EEG/boneeg04-1-01.mat\n",
      "loading file: /Users/tjd/Data/FrankData/kkay/Bon/EEG/boneeg04-2-01.mat\n",
      "loading file: /Users/tjd/Data/FrankData/kkay/Bon/EEG/boneeg04-3-01.mat\n",
      "loading file: /Users/tjd/Data/FrankData/kkay/Bon/EEG/boneeg04-4-01.mat\n",
      "loading file: /Users/tjd/Data/FrankData/kkay/Bon/EEG/boneeg04-5-01.mat\n",
      "loading file: /Users/tjd/Data/FrankData/kkay/Bon/EEG/boneeg04-6-01.mat\n",
      "loading file: /Users/tjd/Data/FrankData/kkay/Bon/EEG/boneeg04-7-01.mat\n",
      " -> tet_num: 2\n",
      "loading file: /Users/tjd/Data/FrankData/kkay/Bon/EEG/boneeg04-1-02.mat\n",
      "loading file: /Users/tjd/Data/FrankData/kkay/Bon/EEG/boneeg04-2-02.mat\n",
      "loading file: /Users/tjd/Data/FrankData/kkay/Bon/EEG/boneeg04-3-02.mat\n",
      "loading file: /Users/tjd/Data/FrankData/kkay/Bon/EEG/boneeg04-4-02.mat\n",
      "loading file: /Users/tjd/Data/FrankData/kkay/Bon/EEG/boneeg04-5-02.mat\n",
      "loading file: /Users/tjd/Data/FrankData/kkay/Bon/EEG/boneeg04-6-02.mat\n",
      "loading file: /Users/tjd/Data/FrankData/kkay/Bon/EEG/boneeg04-7-02.mat\n",
      " -> tet_num: 3\n",
      "loading file: /Users/tjd/Data/FrankData/kkay/Bon/EEG/boneeg04-1-03.mat\n",
      "loading file: /Users/tjd/Data/FrankData/kkay/Bon/EEG/boneeg04-2-03.mat\n",
      "loading file: /Users/tjd/Data/FrankData/kkay/Bon/EEG/boneeg04-3-03.mat\n",
      "loading file: /Users/tjd/Data/FrankData/kkay/Bon/EEG/boneeg04-4-03.mat\n",
      "loading file: /Users/tjd/Data/FrankData/kkay/Bon/EEG/boneeg04-5-03.mat\n",
      "loading file: /Users/tjd/Data/FrankData/kkay/Bon/EEG/boneeg04-6-03.mat\n",
      "loading file: /Users/tjd/Data/FrankData/kkay/Bon/EEG/boneeg04-7-03.mat\n",
      " -> tet_num: 4\n",
      "loading file: /Users/tjd/Data/FrankData/kkay/Bon/EEG/boneeg04-1-04.mat\n",
      "loading file: /Users/tjd/Data/FrankData/kkay/Bon/EEG/boneeg04-2-04.mat\n",
      "loading file: /Users/tjd/Data/FrankData/kkay/Bon/EEG/boneeg04-3-04.mat\n",
      "loading file: /Users/tjd/Data/FrankData/kkay/Bon/EEG/boneeg04-4-04.mat\n",
      "loading file: /Users/tjd/Data/FrankData/kkay/Bon/EEG/boneeg04-5-04.mat\n",
      "loading file: /Users/tjd/Data/FrankData/kkay/Bon/EEG/boneeg04-6-04.mat\n",
      "loading file: /Users/tjd/Data/FrankData/kkay/Bon/EEG/boneeg04-7-04.mat\n",
      " -> tet_num: 5\n",
      "loading file: /Users/tjd/Data/FrankData/kkay/Bon/EEG/boneeg04-1-05.mat\n",
      "loading file: /Users/tjd/Data/FrankData/kkay/Bon/EEG/boneeg04-2-05.mat\n",
      "loading file: /Users/tjd/Data/FrankData/kkay/Bon/EEG/boneeg04-3-05.mat\n",
      "loading file: /Users/tjd/Data/FrankData/kkay/Bon/EEG/boneeg04-4-05.mat\n",
      "loading file: /Users/tjd/Data/FrankData/kkay/Bon/EEG/boneeg04-5-05.mat\n",
      "loading file: /Users/tjd/Data/FrankData/kkay/Bon/EEG/boneeg04-6-05.mat\n",
      "loading file: /Users/tjd/Data/FrankData/kkay/Bon/EEG/boneeg04-7-05.mat\n",
      " -> tet_num: 6\n",
      "loading file: /Users/tjd/Data/FrankData/kkay/Bon/EEG/boneeg04-1-06.mat\n",
      "loading file: /Users/tjd/Data/FrankData/kkay/Bon/EEG/boneeg04-2-06.mat\n",
      "loading file: /Users/tjd/Data/FrankData/kkay/Bon/EEG/boneeg04-3-06.mat\n",
      "loading file: /Users/tjd/Data/FrankData/kkay/Bon/EEG/boneeg04-4-06.mat\n",
      "loading file: /Users/tjd/Data/FrankData/kkay/Bon/EEG/boneeg04-5-06.mat\n",
      "loading file: /Users/tjd/Data/FrankData/kkay/Bon/EEG/boneeg04-6-06.mat\n",
      "loading file: /Users/tjd/Data/FrankData/kkay/Bon/EEG/boneeg04-7-06.mat\n",
      " -> tet_num: 7\n",
      "loading file: /Users/tjd/Data/FrankData/kkay/Bon/EEG/boneeg04-1-07.mat\n",
      "loading file: /Users/tjd/Data/FrankData/kkay/Bon/EEG/boneeg04-2-07.mat\n",
      "loading file: /Users/tjd/Data/FrankData/kkay/Bon/EEG/boneeg04-3-07.mat\n",
      "loading file: /Users/tjd/Data/FrankData/kkay/Bon/EEG/boneeg04-4-07.mat\n",
      "loading file: /Users/tjd/Data/FrankData/kkay/Bon/EEG/boneeg04-5-07.mat\n",
      "loading file: /Users/tjd/Data/FrankData/kkay/Bon/EEG/boneeg04-6-07.mat\n",
      "loading file: /Users/tjd/Data/FrankData/kkay/Bon/EEG/boneeg04-7-07.mat\n",
      " -> tet_num: 8\n",
      "loading file: /Users/tjd/Data/FrankData/kkay/Bon/EEG/boneeg04-1-08.mat\n",
      "loading file: /Users/tjd/Data/FrankData/kkay/Bon/EEG/boneeg04-2-08.mat\n",
      "loading file: /Users/tjd/Data/FrankData/kkay/Bon/EEG/boneeg04-3-08.mat\n",
      "loading file: /Users/tjd/Data/FrankData/kkay/Bon/EEG/boneeg04-4-08.mat\n",
      "loading file: /Users/tjd/Data/FrankData/kkay/Bon/EEG/boneeg04-5-08.mat\n",
      "loading file: /Users/tjd/Data/FrankData/kkay/Bon/EEG/boneeg04-6-08.mat\n",
      "loading file: /Users/tjd/Data/FrankData/kkay/Bon/EEG/boneeg04-7-08.mat\n",
      " -> tet_num: 10\n",
      "loading file: /Users/tjd/Data/FrankData/kkay/Bon/EEG/boneeg04-1-10.mat\n",
      "loading file: /Users/tjd/Data/FrankData/kkay/Bon/EEG/boneeg04-2-10.mat\n",
      "loading file: /Users/tjd/Data/FrankData/kkay/Bon/EEG/boneeg04-3-10.mat\n",
      "loading file: /Users/tjd/Data/FrankData/kkay/Bon/EEG/boneeg04-4-10.mat\n",
      "loading file: /Users/tjd/Data/FrankData/kkay/Bon/EEG/boneeg04-5-10.mat\n",
      "loading file: /Users/tjd/Data/FrankData/kkay/Bon/EEG/boneeg04-6-10.mat\n",
      "loading file: /Users/tjd/Data/FrankData/kkay/Bon/EEG/boneeg04-7-10.mat\n",
      " -> tet_num: 11\n",
      "loading file: /Users/tjd/Data/FrankData/kkay/Bon/EEG/boneeg04-1-11.mat\n",
      "loading file: /Users/tjd/Data/FrankData/kkay/Bon/EEG/boneeg04-2-11.mat\n",
      "loading file: /Users/tjd/Data/FrankData/kkay/Bon/EEG/boneeg04-3-11.mat\n",
      "loading file: /Users/tjd/Data/FrankData/kkay/Bon/EEG/boneeg04-4-11.mat\n",
      "loading file: /Users/tjd/Data/FrankData/kkay/Bon/EEG/boneeg04-5-11.mat\n",
      "loading file: /Users/tjd/Data/FrankData/kkay/Bon/EEG/boneeg04-6-11.mat\n",
      "loading file: /Users/tjd/Data/FrankData/kkay/Bon/EEG/boneeg04-7-11.mat\n",
      " -> tet_num: 12\n",
      "loading file: /Users/tjd/Data/FrankData/kkay/Bon/EEG/boneeg04-1-12.mat\n",
      "loading file: /Users/tjd/Data/FrankData/kkay/Bon/EEG/boneeg04-2-12.mat\n",
      "loading file: /Users/tjd/Data/FrankData/kkay/Bon/EEG/boneeg04-3-12.mat\n",
      "loading file: /Users/tjd/Data/FrankData/kkay/Bon/EEG/boneeg04-4-12.mat\n",
      "loading file: /Users/tjd/Data/FrankData/kkay/Bon/EEG/boneeg04-5-12.mat\n",
      "loading file: /Users/tjd/Data/FrankData/kkay/Bon/EEG/boneeg04-6-12.mat\n",
      "loading file: /Users/tjd/Data/FrankData/kkay/Bon/EEG/boneeg04-7-12.mat\n",
      " -> tet_num: 13\n",
      "loading file: /Users/tjd/Data/FrankData/kkay/Bon/EEG/boneeg04-1-13.mat\n",
      "loading file: /Users/tjd/Data/FrankData/kkay/Bon/EEG/boneeg04-2-13.mat\n",
      "loading file: /Users/tjd/Data/FrankData/kkay/Bon/EEG/boneeg04-3-13.mat\n",
      "loading file: /Users/tjd/Data/FrankData/kkay/Bon/EEG/boneeg04-4-13.mat\n",
      "loading file: /Users/tjd/Data/FrankData/kkay/Bon/EEG/boneeg04-5-13.mat\n",
      "loading file: /Users/tjd/Data/FrankData/kkay/Bon/EEG/boneeg04-6-13.mat\n",
      "loading file: /Users/tjd/Data/FrankData/kkay/Bon/EEG/boneeg04-7-13.mat\n",
      " -> tet_num: 14\n",
      "loading file: /Users/tjd/Data/FrankData/kkay/Bon/EEG/boneeg04-1-14.mat\n",
      "loading file: /Users/tjd/Data/FrankData/kkay/Bon/EEG/boneeg04-2-14.mat\n",
      "loading file: /Users/tjd/Data/FrankData/kkay/Bon/EEG/boneeg04-3-14.mat\n",
      "loading file: /Users/tjd/Data/FrankData/kkay/Bon/EEG/boneeg04-4-14.mat\n",
      "loading file: /Users/tjd/Data/FrankData/kkay/Bon/EEG/boneeg04-5-14.mat\n",
      "loading file: /Users/tjd/Data/FrankData/kkay/Bon/EEG/boneeg04-6-14.mat\n",
      "loading file: /Users/tjd/Data/FrankData/kkay/Bon/EEG/boneeg04-7-14.mat\n",
      " -> tet_num: 15\n",
      "loading file: /Users/tjd/Data/FrankData/kkay/Bon/EEG/boneeg04-1-15.mat\n",
      "loading file: /Users/tjd/Data/FrankData/kkay/Bon/EEG/boneeg04-2-15.mat\n",
      "loading file: /Users/tjd/Data/FrankData/kkay/Bon/EEG/boneeg04-3-15.mat\n",
      "loading file: /Users/tjd/Data/FrankData/kkay/Bon/EEG/boneeg04-4-15.mat\n",
      "loading file: /Users/tjd/Data/FrankData/kkay/Bon/EEG/boneeg04-5-15.mat\n",
      "loading file: /Users/tjd/Data/FrankData/kkay/Bon/EEG/boneeg04-6-15.mat\n",
      "loading file: /Users/tjd/Data/FrankData/kkay/Bon/EEG/boneeg04-7-15.mat\n",
      " -> tet_num: 17\n",
      "loading file: /Users/tjd/Data/FrankData/kkay/Bon/EEG/boneeg04-1-17.mat\n",
      "loading file: /Users/tjd/Data/FrankData/kkay/Bon/EEG/boneeg04-2-17.mat\n",
      "loading file: /Users/tjd/Data/FrankData/kkay/Bon/EEG/boneeg04-3-17.mat\n",
      "loading file: /Users/tjd/Data/FrankData/kkay/Bon/EEG/boneeg04-4-17.mat\n",
      "loading file: /Users/tjd/Data/FrankData/kkay/Bon/EEG/boneeg04-5-17.mat\n",
      "loading file: /Users/tjd/Data/FrankData/kkay/Bon/EEG/boneeg04-6-17.mat\n",
      "loading file: /Users/tjd/Data/FrankData/kkay/Bon/EEG/boneeg04-7-17.mat\n",
      " -> tet_num: 18\n",
      "loading file: /Users/tjd/Data/FrankData/kkay/Bon/EEG/boneeg04-1-18.mat\n",
      "loading file: /Users/tjd/Data/FrankData/kkay/Bon/EEG/boneeg04-2-18.mat\n",
      "loading file: /Users/tjd/Data/FrankData/kkay/Bon/EEG/boneeg04-3-18.mat\n",
      "loading file: /Users/tjd/Data/FrankData/kkay/Bon/EEG/boneeg04-4-18.mat\n",
      "loading file: /Users/tjd/Data/FrankData/kkay/Bon/EEG/boneeg04-5-18.mat\n",
      "loading file: /Users/tjd/Data/FrankData/kkay/Bon/EEG/boneeg04-6-18.mat\n",
      "loading file: /Users/tjd/Data/FrankData/kkay/Bon/EEG/boneeg04-7-18.mat\n",
      " -> tet_num: 19\n",
      "loading file: /Users/tjd/Data/FrankData/kkay/Bon/EEG/boneeg04-1-19.mat\n",
      "loading file: /Users/tjd/Data/FrankData/kkay/Bon/EEG/boneeg04-2-19.mat\n",
      "loading file: /Users/tjd/Data/FrankData/kkay/Bon/EEG/boneeg04-3-19.mat\n",
      "loading file: /Users/tjd/Data/FrankData/kkay/Bon/EEG/boneeg04-4-19.mat\n",
      "loading file: /Users/tjd/Data/FrankData/kkay/Bon/EEG/boneeg04-5-19.mat\n",
      "loading file: /Users/tjd/Data/FrankData/kkay/Bon/EEG/boneeg04-6-19.mat\n",
      "loading file: /Users/tjd/Data/FrankData/kkay/Bon/EEG/boneeg04-7-19.mat\n",
      " -> tet_num: 20\n",
      "loading file: /Users/tjd/Data/FrankData/kkay/Bon/EEG/boneeg04-1-20.mat\n",
      "loading file: /Users/tjd/Data/FrankData/kkay/Bon/EEG/boneeg04-2-20.mat\n",
      "loading file: /Users/tjd/Data/FrankData/kkay/Bon/EEG/boneeg04-3-20.mat\n",
      "loading file: /Users/tjd/Data/FrankData/kkay/Bon/EEG/boneeg04-4-20.mat\n",
      "loading file: /Users/tjd/Data/FrankData/kkay/Bon/EEG/boneeg04-5-20.mat\n",
      "loading file: /Users/tjd/Data/FrankData/kkay/Bon/EEG/boneeg04-6-20.mat\n",
      "loading file: /Users/tjd/Data/FrankData/kkay/Bon/EEG/boneeg04-7-20.mat\n",
      " -> tet_num: 21\n",
      "loading file: /Users/tjd/Data/FrankData/kkay/Bon/EEG/boneeg04-1-21.mat\n",
      "loading file: /Users/tjd/Data/FrankData/kkay/Bon/EEG/boneeg04-2-21.mat\n",
      "loading file: /Users/tjd/Data/FrankData/kkay/Bon/EEG/boneeg04-3-21.mat\n",
      "loading file: /Users/tjd/Data/FrankData/kkay/Bon/EEG/boneeg04-4-21.mat\n",
      "loading file: /Users/tjd/Data/FrankData/kkay/Bon/EEG/boneeg04-5-21.mat\n",
      "loading file: /Users/tjd/Data/FrankData/kkay/Bon/EEG/boneeg04-6-21.mat\n",
      "loading file: /Users/tjd/Data/FrankData/kkay/Bon/EEG/boneeg04-7-21.mat\n",
      " -> tet_num: 22\n",
      "loading file: /Users/tjd/Data/FrankData/kkay/Bon/EEG/boneeg04-1-22.mat\n",
      "loading file: /Users/tjd/Data/FrankData/kkay/Bon/EEG/boneeg04-2-22.mat\n",
      "loading file: /Users/tjd/Data/FrankData/kkay/Bon/EEG/boneeg04-3-22.mat\n",
      "loading file: /Users/tjd/Data/FrankData/kkay/Bon/EEG/boneeg04-4-22.mat\n",
      "loading file: /Users/tjd/Data/FrankData/kkay/Bon/EEG/boneeg04-5-22.mat\n",
      "loading file: /Users/tjd/Data/FrankData/kkay/Bon/EEG/boneeg04-6-22.mat\n",
      "loading file: /Users/tjd/Data/FrankData/kkay/Bon/EEG/boneeg04-7-22.mat\n",
      " -> tet_num: 23\n",
      "loading file: /Users/tjd/Data/FrankData/kkay/Bon/EEG/boneeg04-1-23.mat\n",
      "loading file: /Users/tjd/Data/FrankData/kkay/Bon/EEG/boneeg04-2-23.mat\n",
      "loading file: /Users/tjd/Data/FrankData/kkay/Bon/EEG/boneeg04-3-23.mat\n",
      "loading file: /Users/tjd/Data/FrankData/kkay/Bon/EEG/boneeg04-4-23.mat\n",
      "loading file: /Users/tjd/Data/FrankData/kkay/Bon/EEG/boneeg04-5-23.mat\n",
      "loading file: /Users/tjd/Data/FrankData/kkay/Bon/EEG/boneeg04-6-23.mat\n",
      "loading file: /Users/tjd/Data/FrankData/kkay/Bon/EEG/boneeg04-7-23.mat\n",
      " -> tet_num: 24\n",
      "loading file: /Users/tjd/Data/FrankData/kkay/Bon/EEG/boneeg04-1-24.mat\n",
      "loading file: /Users/tjd/Data/FrankData/kkay/Bon/EEG/boneeg04-2-24.mat\n",
      "loading file: /Users/tjd/Data/FrankData/kkay/Bon/EEG/boneeg04-3-24.mat\n",
      "loading file: /Users/tjd/Data/FrankData/kkay/Bon/EEG/boneeg04-4-24.mat\n",
      "loading file: /Users/tjd/Data/FrankData/kkay/Bon/EEG/boneeg04-5-24.mat\n",
      "loading file: /Users/tjd/Data/FrankData/kkay/Bon/EEG/boneeg04-6-24.mat\n",
      "loading file: /Users/tjd/Data/FrankData/kkay/Bon/EEG/boneeg04-7-24.mat\n",
      " -> tet_num: 25\n",
      "loading file: /Users/tjd/Data/FrankData/kkay/Bon/EEG/boneeg04-1-25.mat\n",
      "loading file: /Users/tjd/Data/FrankData/kkay/Bon/EEG/boneeg04-2-25.mat\n",
      "loading file: /Users/tjd/Data/FrankData/kkay/Bon/EEG/boneeg04-3-25.mat\n",
      "loading file: /Users/tjd/Data/FrankData/kkay/Bon/EEG/boneeg04-4-25.mat\n",
      "loading file: /Users/tjd/Data/FrankData/kkay/Bon/EEG/boneeg04-5-25.mat\n",
      "loading file: /Users/tjd/Data/FrankData/kkay/Bon/EEG/boneeg04-6-25.mat\n",
      "loading file: /Users/tjd/Data/FrankData/kkay/Bon/EEG/boneeg04-7-25.mat\n",
      " -> tet_num: 27\n",
      "loading file: /Users/tjd/Data/FrankData/kkay/Bon/EEG/boneeg04-1-27.mat\n",
      "loading file: /Users/tjd/Data/FrankData/kkay/Bon/EEG/boneeg04-2-27.mat\n",
      "loading file: /Users/tjd/Data/FrankData/kkay/Bon/EEG/boneeg04-3-27.mat\n",
      "loading file: /Users/tjd/Data/FrankData/kkay/Bon/EEG/boneeg04-4-27.mat\n",
      "loading file: /Users/tjd/Data/FrankData/kkay/Bon/EEG/boneeg04-5-27.mat\n",
      "loading file: /Users/tjd/Data/FrankData/kkay/Bon/EEG/boneeg04-6-27.mat\n",
      "loading file: /Users/tjd/Data/FrankData/kkay/Bon/EEG/boneeg04-7-27.mat\n",
      " -> tet_num: 28\n",
      "loading file: /Users/tjd/Data/FrankData/kkay/Bon/EEG/boneeg04-1-28.mat\n",
      "loading file: /Users/tjd/Data/FrankData/kkay/Bon/EEG/boneeg04-2-28.mat\n",
      "loading file: /Users/tjd/Data/FrankData/kkay/Bon/EEG/boneeg04-3-28.mat\n",
      "loading file: /Users/tjd/Data/FrankData/kkay/Bon/EEG/boneeg04-4-28.mat\n",
      "loading file: /Users/tjd/Data/FrankData/kkay/Bon/EEG/boneeg04-5-28.mat\n",
      "loading file: /Users/tjd/Data/FrankData/kkay/Bon/EEG/boneeg04-6-28.mat\n",
      "loading file: /Users/tjd/Data/FrankData/kkay/Bon/EEG/boneeg04-7-28.mat\n",
      " -> tet_num: 29\n",
      "loading file: /Users/tjd/Data/FrankData/kkay/Bon/EEG/boneeg04-1-29.mat\n",
      "loading file: /Users/tjd/Data/FrankData/kkay/Bon/EEG/boneeg04-2-29.mat\n",
      "loading file: /Users/tjd/Data/FrankData/kkay/Bon/EEG/boneeg04-3-29.mat\n",
      "loading file: /Users/tjd/Data/FrankData/kkay/Bon/EEG/boneeg04-4-29.mat\n",
      "loading file: /Users/tjd/Data/FrankData/kkay/Bon/EEG/boneeg04-5-29.mat\n",
      "loading file: /Users/tjd/Data/FrankData/kkay/Bon/EEG/boneeg04-6-29.mat\n",
      "loading file: /Users/tjd/Data/FrankData/kkay/Bon/EEG/boneeg04-7-29.mat\n",
      " -> tet_num: 30\n",
      "loading file: /Users/tjd/Data/FrankData/kkay/Bon/EEG/boneeg04-1-30.mat\n",
      "loading file: /Users/tjd/Data/FrankData/kkay/Bon/EEG/boneeg04-2-30.mat\n",
      "loading file: /Users/tjd/Data/FrankData/kkay/Bon/EEG/boneeg04-3-30.mat\n",
      "loading file: /Users/tjd/Data/FrankData/kkay/Bon/EEG/boneeg04-4-30.mat\n",
      "loading file: /Users/tjd/Data/FrankData/kkay/Bon/EEG/boneeg04-5-30.mat\n",
      "loading file: /Users/tjd/Data/FrankData/kkay/Bon/EEG/boneeg04-6-30.mat\n",
      "loading file: /Users/tjd/Data/FrankData/kkay/Bon/EEG/boneeg04-7-30.mat\n",
      "CPU times: user 12.2 s, sys: 2.41 s, total: 14.6 s\n",
      "Wall time: 15.1 s\n"
     ]
    }
   ],
   "source": [
    "%%time\n",
    "\n",
    "eeg_files = ns.get_eeg_by_day(eeg_path, prefix, 'eeg')\n",
    "lfp_data = []\n",
    "\n",
    "lfp = pynwb.ecephys.LFP(data_source, lfp_data)\n",
    "# read data from EEG/*eeg*.mat files and build TimeSeries object\n",
    "\n",
    "print('processing LFP data for day %2d' % day)\n",
    "for tet_num in tets.keys():\n",
    "    print(' -> tet_num: %d' % tet_num)\n",
    "    timestamps, data = ns.build_day_eeg(eeg_files[day][tet_num], eeg_samprate)\n",
    "    timestamps += NSpike_posixtime_offset\n",
    "    name = \"{prefix}eeg-{day}-{tet}\".format(prefix=prefix, day=day, tet=tet_num)\n",
    "    lfp.create_electrical_series(name=name, \n",
    "                                 source=source,\n",
    "                                 data=data / 1000, # convert mV to V, as expected\n",
    "                                 electrodes=lfp_electrode_table_region[tet_num],\n",
    "                                 timestamps=timestamps)\n",
    "nwbf.add_acquisition(lfp)\n"
   ]
  },
  {
   "cell_type": "markdown",
   "metadata": {},
   "source": [
    "## Spikes"
   ]
  },
  {
   "cell_type": "code",
   "execution_count": 17,
   "metadata": {},
   "outputs": [],
   "source": [
    "# Create unit metadata first\n",
    "# External clustering software gives names for each cluster--we want to preserve these\n",
    "nwbf.add_unit_column('cluster_name',  '(str) cluster name from clustering software')\n",
    "nwbf.add_unit_column('elec_group',    '(electrodeGroup) nTrode on which spikes were recorded')\n",
    "\n",
    "# # For tetrode data, this will usually be all channels in the tetrode\n",
    "# nwbf.add_unit_column('neighborhood',  '(electrodeTableRegion) list of electrodes on which spikes were clustered')\n",
    "\n",
    "# AKA 'Valid_times'--the times during which a spike from this cluster could have possibly been observed.\n",
    "# (handle periods between behavior epochs, acquisition system dropouts, etc.)\n",
    "nwbf.add_unit_column('obs_intervals', '(intervalSeries) Observation Intervals for the spike times')"
   ]
  },
  {
   "cell_type": "code",
   "execution_count": 18,
   "metadata": {},
   "outputs": [
    {
     "name": "stdout",
     "output_type": "stream",
     "text": [
      "\n",
      "Loading spikes file :/Users/tjd/Data/FrankData/kkay/Bon/bonspikes04.mat\n"
     ]
    }
   ],
   "source": [
    "#get the spike times from the spikes files\n",
    "#each cluster gets a unique number starting at zero\n",
    "\n",
    "spike_files = ns.get_files_by_day(data_dir, prefix, 'spikes')\n",
    "print('\\nLoading spikes file :' + spike_files[day])\n",
    "mat = ns.loadmat_ff(spike_files[day], 'spikes')"
   ]
  },
  {
   "cell_type": "code",
   "execution_count": 19,
   "metadata": {},
   "outputs": [],
   "source": [
    "spike_mod = nwbf.create_processing_module('Spike Data', data_source, 'Clustered Spikes')\n",
    "spike_UnitTimes = pynwb.misc.UnitTimes(data_source)\n",
    "\n",
    "spike_unit = []\n",
    "obs_intervals = {}\n",
    "cluster_by_tet = {}\n",
    "cluster_id = 0\n",
    "\n",
    "# Matlab structs are nested by: day, epoch, tetrode, cluster, but we will want to save all spikes from a give cluster\n",
    "# *across multiple epochs* in same spike list. So we rearrange the nested matlab structures for convenience. We \n",
    "# create a nested dict, keyed by 1) tetrode, 2) cluster number, then 3) epoch. NB the keys are 1-indexed, to be \n",
    "# consistent with the original data collection. (We only process one day at a time for now, so no need to nest days).\n",
    "\n",
    "spike_struct = mat[day]\n",
    "for epoch_num, espikes in spike_struct.items():\n",
    "    for tet_num, tspikes in espikes.items():\n",
    "        # respect tet subset selection done above\n",
    "        if tet_num not in tets.keys():\n",
    "            continue\n",
    "        if tet_num not in cluster_by_tet.keys():\n",
    "            cluster_by_tet[tet_num] = {}\n",
    "        for cluster_num, cspikes in tspikes.items():\n",
    "            if cluster_num not in cluster_by_tet[tet_num].keys():\n",
    "                cluster_by_tet[tet_num][cluster_num] = {}\n",
    "            cluster_by_tet[tet_num][cluster_num][epoch_num] = cspikes\n",
    "                                "
   ]
  },
  {
   "cell_type": "code",
   "execution_count": 25,
   "metadata": {},
   "outputs": [
    {
     "name": "stdout",
     "output_type": "stream",
     "text": [
      "Adding cluster id:  74, name: d4 t1 c1\n"
     ]
    },
    {
     "ename": "ValueError",
     "evalue": "'d4 t1 c1' already exists in 'Spike Data'",
     "output_type": "error",
     "traceback": [
      "\u001b[0;31m---------------------------------------------------------------------------\u001b[0m",
      "\u001b[0;31mValueError\u001b[0m                                Traceback (most recent call last)",
      "\u001b[0;32m<ipython-input-25-92ee9aa359d9>\u001b[0m in \u001b[0;36m<module>\u001b[0;34m\u001b[0m\n\u001b[1;32m     29\u001b[0m         \u001b[0;31m# Add Observation Intervals to nwbfile willy-nilly (1 per cluster),\u001b[0m\u001b[0;34m\u001b[0m\u001b[0;34m\u001b[0m\u001b[0m\n\u001b[1;32m     30\u001b[0m         \u001b[0;31m# so that we can successfully refer to them in the Unit metadata table\u001b[0m\u001b[0;34m\u001b[0m\u001b[0;34m\u001b[0m\u001b[0m\n\u001b[0;32m---> 31\u001b[0;31m         \u001b[0mspike_mod\u001b[0m\u001b[0;34m.\u001b[0m\u001b[0madd_data_interface\u001b[0m\u001b[0;34m(\u001b[0m\u001b[0mobs_intervals\u001b[0m\u001b[0;34m[\u001b[0m\u001b[0mtet_num\u001b[0m\u001b[0;34m]\u001b[0m\u001b[0;34m[\u001b[0m\u001b[0mcluster_num\u001b[0m\u001b[0;34m]\u001b[0m\u001b[0;34m)\u001b[0m\u001b[0;34m\u001b[0m\u001b[0m\n\u001b[0m\u001b[1;32m     32\u001b[0m \u001b[0;34m\u001b[0m\u001b[0m\n\u001b[1;32m     33\u001b[0m         nwbf.add_unit(data = {'cluster_name': cluster_name, \n",
      "\u001b[0;32m~/Src/pynwb/src/pynwb/form/utils.py\u001b[0m in \u001b[0;36mfunc_call\u001b[0;34m(*args, **kwargs)\u001b[0m\n\u001b[1;32m    373\u001b[0m                         \u001b[0mraise_from\u001b[0m\u001b[0;34m(\u001b[0m\u001b[0mExceptionType\u001b[0m\u001b[0;34m(\u001b[0m\u001b[0mmsg\u001b[0m\u001b[0;34m)\u001b[0m\u001b[0;34m,\u001b[0m \u001b[0;32mNone\u001b[0m\u001b[0;34m)\u001b[0m\u001b[0;34m\u001b[0m\u001b[0m\n\u001b[1;32m    374\u001b[0m \u001b[0;34m\u001b[0m\u001b[0m\n\u001b[0;32m--> 375\u001b[0;31m                 \u001b[0;32mreturn\u001b[0m \u001b[0mfunc\u001b[0m\u001b[0;34m(\u001b[0m\u001b[0mself\u001b[0m\u001b[0;34m,\u001b[0m \u001b[0;34m**\u001b[0m\u001b[0mparsed\u001b[0m\u001b[0;34m[\u001b[0m\u001b[0;34m'args'\u001b[0m\u001b[0;34m]\u001b[0m\u001b[0;34m)\u001b[0m\u001b[0;34m\u001b[0m\u001b[0m\n\u001b[0m\u001b[1;32m    376\u001b[0m         \u001b[0;32melse\u001b[0m\u001b[0;34m:\u001b[0m\u001b[0;34m\u001b[0m\u001b[0m\n\u001b[1;32m    377\u001b[0m             \u001b[0;32mdef\u001b[0m \u001b[0mfunc_call\u001b[0m\u001b[0;34m(\u001b[0m\u001b[0;34m*\u001b[0m\u001b[0margs\u001b[0m\u001b[0;34m,\u001b[0m \u001b[0;34m**\u001b[0m\u001b[0mkwargs\u001b[0m\u001b[0;34m)\u001b[0m\u001b[0;34m:\u001b[0m\u001b[0;34m\u001b[0m\u001b[0m\n",
      "\u001b[0;32m~/Src/pynwb/src/pynwb/core.py\u001b[0m in \u001b[0;36m_func\u001b[0;34m(self, **kwargs)\u001b[0m\n\u001b[1;32m    679\u001b[0m                 \u001b[0;32mif\u001b[0m \u001b[0mtmp\u001b[0m\u001b[0;34m.\u001b[0m\u001b[0mname\u001b[0m \u001b[0;32min\u001b[0m \u001b[0md\u001b[0m\u001b[0;34m:\u001b[0m\u001b[0;34m\u001b[0m\u001b[0m\n\u001b[1;32m    680\u001b[0m                     \u001b[0mmsg\u001b[0m \u001b[0;34m=\u001b[0m \u001b[0;34m\"'%s' already exists in '%s'\"\u001b[0m \u001b[0;34m%\u001b[0m \u001b[0;34m(\u001b[0m\u001b[0mtmp\u001b[0m\u001b[0;34m.\u001b[0m\u001b[0mname\u001b[0m\u001b[0;34m,\u001b[0m \u001b[0mself\u001b[0m\u001b[0;34m.\u001b[0m\u001b[0mname\u001b[0m\u001b[0;34m)\u001b[0m\u001b[0;34m\u001b[0m\u001b[0m\n\u001b[0;32m--> 681\u001b[0;31m                     \u001b[0;32mraise\u001b[0m \u001b[0mValueError\u001b[0m\u001b[0;34m(\u001b[0m\u001b[0mmsg\u001b[0m\u001b[0;34m)\u001b[0m\u001b[0;34m\u001b[0m\u001b[0m\n\u001b[0m\u001b[1;32m    682\u001b[0m                 \u001b[0md\u001b[0m\u001b[0;34m[\u001b[0m\u001b[0mtmp\u001b[0m\u001b[0;34m.\u001b[0m\u001b[0mname\u001b[0m\u001b[0;34m]\u001b[0m \u001b[0;34m=\u001b[0m \u001b[0mtmp\u001b[0m\u001b[0;34m\u001b[0m\u001b[0m\n\u001b[1;32m    683\u001b[0m             \u001b[0;32mreturn\u001b[0m \u001b[0mcontainer\u001b[0m\u001b[0;34m\u001b[0m\u001b[0m\n",
      "\u001b[0;31mValueError\u001b[0m: 'd4 t1 c1' already exists in 'Spike Data'"
     ]
    }
   ],
   "source": [
    "# now we create the SpikeEventStructures and their containing EventWaveform objects\n",
    "colidx_timestamps = 0\n",
    "\n",
    "for tet_num in cluster_by_tet.keys():\n",
    "    obs_intervals[tet_num] = {}\n",
    "    for cluster_num in cluster_by_tet[tet_num].keys():\n",
    "        cluster_name = 'd%d t%d c%d' % (day, tet_num, cluster_num)\n",
    "        print('Adding cluster id: %3d, name: %s' % (cluster_id, cluster_name))\n",
    "\n",
    "        cluster_tmp = cluster_by_tet[tet_num][cluster_num]\n",
    "\n",
    "        # construct a full data array and a parallel list of observation intervals\n",
    "        obs_intervals[tet_num][cluster_num] = pynwb.misc.IntervalSeries(name = cluster_name, \n",
    "                                                    source = source,\n",
    "                                                    description = 'Observation intervals for spikes from cluster ' +\n",
    "                                                    str(cluster_num) + ' on tetrode ' + str(tet_num))\n",
    "\n",
    "        spikes_ep = []\n",
    "        for epoch in cluster_tmp.keys():\n",
    "            if cluster_tmp[epoch]['data'].shape[0]:\n",
    "                spikes_ep.append(cluster_tmp[epoch]['data'][:,colidx_timestamps] + NSpike_posixtime_offset)\n",
    "            for obs_intervals_cl_ep in cluster_tmp[epoch]['timerange']:\n",
    "                # 'timerange' for each cell is given in NSpike timestamp units\n",
    "                obs_int = (obs_intervals_cl_ep.T.astype(float)/NSpike_timestamps_per_sec) + NSpike_posixtime_offset\n",
    "                obs_intervals[tet_num][cluster_num].add_interval(*obs_int)\n",
    "\n",
    "        spiketimes = np.concatenate(spikes_ep)\n",
    "\n",
    "        # Add Observation Intervals to nwbfile willy-nilly (1 per cluster), \n",
    "        # so that we can successfully refer to them in the Unit metadata table\n",
    "        spike_mod.add_data_interface(obs_intervals[tet_num][cluster_num])\n",
    "\n",
    "        nwbf.add_unit(data = {'cluster_name': cluster_name, \n",
    "                              'elec_group': tet_electrode_group[tet_num], \n",
    "                              # can't just refer to electrode_table_region itself?: are never added to nwbfile to \n",
    "                              # begin with. Instead, use 'data' field, which is a list of electrodeTable indices.\n",
    "#                               'neighborhood': tet_electrode_table_region[tet_num], # tet_electrode_table_region[tet_num].data, \n",
    "                              'obs_intervals': obs_intervals[tet_num][cluster_num]},\n",
    "                      id = cluster_id)\n",
    "\n",
    "        spike_UnitTimes.add_spike_times(cluster_id, spiketimes)\n",
    "\n",
    "        cluster_id += 1"
   ]
  },
  {
   "cell_type": "code",
   "execution_count": 26,
   "metadata": {},
   "outputs": [
    {
     "data": {
      "text/plain": [
       "<UnitTimes 'UnitTimes' at 0x4698562912>"
      ]
     },
     "execution_count": 26,
     "metadata": {},
     "output_type": "execute_result"
    }
   ],
   "source": [
    "# Add UnitTimes to the spike_mod ProcessingModule\n",
    "spike_mod.add_data_interface(spike_UnitTimes)"
   ]
  },
  {
   "cell_type": "markdown",
   "metadata": {},
   "source": [
    "### Write out NWBfile!"
   ]
  },
  {
   "cell_type": "code",
   "execution_count": 27,
   "metadata": {},
   "outputs": [
    {
     "name": "stderr",
     "output_type": "stream",
     "text": [
      "/Users/tjd/Src/pynwb/src/pynwb/form/build/map.py:720: MissingRequiredWarning: attribute 'description' for 'spike_times' (VectorData)\n",
      "  warnings.warn(msg, MissingRequiredWarning)\n"
     ]
    },
    {
     "name": "stdout",
     "output_type": "stream",
     "text": [
      "Wrote nwb file: Bon04_test.nwb\n"
     ]
    }
   ],
   "source": [
    "# make an NWBFile\n",
    "with pynwb.NWBHDF5IO(nwb_filename, mode='w') as iow:\n",
    "    iow.write(nwbf)\n",
    "print('Wrote nwb file: ' + nwb_filename)"
   ]
  },
  {
   "cell_type": "code",
   "execution_count": 28,
   "metadata": {},
   "outputs": [
    {
     "name": "stdout",
     "output_type": "stream",
     "text": [
      "[0, 1, 2, 3, 4, 5, 6, 7, 8, 9, 10, 11, 12, 13, 14, 15, 16, 17, 18, 19, 20, 21, 22, 23, 24, 25, 26, 27, 28, 29, 30, 31, 32, 33, 34, 35, 36, 37, 38, 39, 40, 41, 42, 43, 44, 45, 46, 47, 48, 49, 50, 51, 52, 53, 54, 55, 56, 57, 58, 59, 60, 61, 62, 63, 64, 65, 66, 67, 68, 69, 70, 71, 72, 73, 74, 75, 76, 77, 78, 79, 80, 81, 82, 83, 84, 85, 86, 87, 88, 89, 90, 91, 92, 93, 94, 95, 96, 97, 98, 99, 100, 101, 102, 103, 104, 105, 106, 107]\n",
      "(<TableColumn 'cluster_name' at 0x4698355640>, <TableColumn 'elec_group' at 0x4698354240>, <TableColumn 'obs_intervals' at 0x4698356592>)\n"
     ]
    }
   ],
   "source": [
    "print(nwbf.electrodes.id.data)\n",
    "print(nwbf.units.columns)"
   ]
  },
  {
   "cell_type": "markdown",
   "metadata": {},
   "source": [
    "### Read our NWBfile, and check some roundtrip data"
   ]
  },
  {
   "cell_type": "code",
   "execution_count": 29,
   "metadata": {},
   "outputs": [],
   "source": [
    "io = pynwb.NWBHDF5IO(nwb_filename, mode='r')\n",
    "nwbf_read = io.read()"
   ]
  },
  {
   "cell_type": "code",
   "execution_count": 25,
   "metadata": {},
   "outputs": [
    {
     "name": "stdout",
     "output_type": "stream",
     "text": [
      "(423,)\n",
      "d4 t1 c2\n",
      "<HDF5 dataset \"timestamps\": shape (14,), type \"<f8\">\n"
     ]
    }
   ],
   "source": [
    "cl_id = 1\n",
    "print(nwbf_read.modules['Spike Data']['UnitTimes'].get_unit_spike_times(cl_id).shape)\n",
    "clname_idx = nwbf_read.units.colnames.index('cluster_name')\n",
    "obsint_idx = nwbf_read.units.colnames.index('obs_intervals')\n",
    "print(nwbf_read.units.columns[clname_idx][cl_id])\n",
    "print(nwbf_read.units.columns[obsint_idx][cl_id].timestamps)\n"
   ]
  },
  {
   "cell_type": "code",
   "execution_count": 26,
   "metadata": {},
   "outputs": [
    {
     "data": {
      "text/plain": [
       "{'boneeg-4-1': <ElectricalSeries 'boneeg-4-1' at 0x4711714320>,\n",
       " 'boneeg-4-10': <ElectricalSeries 'boneeg-4-10' at 0x4711712136>,\n",
       " 'boneeg-4-11': <ElectricalSeries 'boneeg-4-11' at 0x4711711856>,\n",
       " 'boneeg-4-12': <ElectricalSeries 'boneeg-4-12' at 0x4711711576>,\n",
       " 'boneeg-4-13': <ElectricalSeries 'boneeg-4-13' at 0x4711711352>,\n",
       " 'boneeg-4-14': <ElectricalSeries 'boneeg-4-14' at 0x4711711016>,\n",
       " 'boneeg-4-15': <ElectricalSeries 'boneeg-4-15' at 0x4711711296>,\n",
       " 'boneeg-4-17': <ElectricalSeries 'boneeg-4-17' at 0x4711768016>,\n",
       " 'boneeg-4-18': <ElectricalSeries 'boneeg-4-18' at 0x4711767680>,\n",
       " 'boneeg-4-19': <ElectricalSeries 'boneeg-4-19' at 0x4711767400>,\n",
       " 'boneeg-4-2': <ElectricalSeries 'boneeg-4-2' at 0x4711767120>,\n",
       " 'boneeg-4-20': <ElectricalSeries 'boneeg-4-20' at 0x4711766840>,\n",
       " 'boneeg-4-21': <ElectricalSeries 'boneeg-4-21' at 0x4711766560>,\n",
       " 'boneeg-4-22': <ElectricalSeries 'boneeg-4-22' at 0x4711766168>,\n",
       " 'boneeg-4-23': <ElectricalSeries 'boneeg-4-23' at 0x4711766000>,\n",
       " 'boneeg-4-24': <ElectricalSeries 'boneeg-4-24' at 0x4711765776>,\n",
       " 'boneeg-4-25': <ElectricalSeries 'boneeg-4-25' at 0x4711765384>,\n",
       " 'boneeg-4-27': <ElectricalSeries 'boneeg-4-27' at 0x4711765104>,\n",
       " 'boneeg-4-28': <ElectricalSeries 'boneeg-4-28' at 0x4711764824>,\n",
       " 'boneeg-4-29': <ElectricalSeries 'boneeg-4-29' at 0x4711764544>,\n",
       " 'boneeg-4-3': <ElectricalSeries 'boneeg-4-3' at 0x4711764432>,\n",
       " 'boneeg-4-30': <ElectricalSeries 'boneeg-4-30' at 0x4711764096>,\n",
       " 'boneeg-4-4': <ElectricalSeries 'boneeg-4-4' at 0x4711767960>,\n",
       " 'boneeg-4-5': <ElectricalSeries 'boneeg-4-5' at 0x4711816944>,\n",
       " 'boneeg-4-6': <ElectricalSeries 'boneeg-4-6' at 0x4711816664>,\n",
       " 'boneeg-4-7': <ElectricalSeries 'boneeg-4-7' at 0x4711816384>,\n",
       " 'boneeg-4-8': <ElectricalSeries 'boneeg-4-8' at 0x4711816104>}"
      ]
     },
     "execution_count": 26,
     "metadata": {},
     "output_type": "execute_result"
    }
   ],
   "source": [
    "# Get one of the electrical_series objects and work with it.\n",
    "example_es_name, example_es = list(nwbf_read.get_acquisition('LFP').electrical_series.items())[-1]\n",
    "nwbf_read.get_acquisition('LFP').electrical_series"
   ]
  },
  {
   "cell_type": "code",
   "execution_count": 30,
   "metadata": {},
   "outputs": [
    {
     "name": "stdout",
     "output_type": "stream",
     "text": [
      "<matplotlib.ticker.ScalarFormatter object at 0x117cff550>\n",
      "plot #1\n",
      "<matplotlib.ticker.FuncFormatter object at 0x117cf16a0>\n",
      "1136154942.0\n",
      "1136154942.0\n",
      "1136154942.0\n",
      "1136154942.0\n",
      "1136154942.0\n",
      "1136154942.0\n",
      "1136154942.0\n",
      "1136154942.0\n"
     ]
    },
    {
     "data": {
      "image/png": "[encoded data removed]",
      "text/plain": [
       "<Figure size 1080x720 with 1 Axes>"
      ]
     },
     "metadata": {
      "needs_background": "light"
     },
     "output_type": "display_data"
    }
   ],
   "source": [
    "def fmt_sec_from_midnight (x, pos):\n",
    "    x_posix = mdates.num2epoch(x)\n",
    "    x_dt = mdates.num2date(x) \n",
    "    prev_midnight = x_dt.replace(hour=0, minute=0, second=0, microsecond=0)\n",
    "    return (x_dt - prev_midnight).total_seconds()\n",
    "#    return \"%0.6f\" % mdates.num2epoch(x)\n",
    "\n",
    "def fmt_truncate_posix (x, pos, oom=6):\n",
    "#     offset_str = \"%de%d + \\n\" % (x // 10 ** oom, oom)\n",
    "    ellipsis = \"\\u2026\"\n",
    "    offset_str = \"%d\" % (x // 10 ** oom)\n",
    "    # oom zero-padded digits before decimal point and up to 6 digits past it \n",
    "    # (no trailing zeros)\n",
    "    # NB no way to do this with single format string: %05.11g gives too many digits past \n",
    "    #the decimal when integer part is small.\n",
    "    remainder_str = (\"%%0%dd\" % oom) % (x % 10 ** oom) + \\\n",
    "                    (\"%0.6g\" % (x % 1))[1:] # omit leading 0\n",
    "    if pos == 1: # first visible tick\n",
    "        print (x)\n",
    "#         return offset_str + ellipsis + \"\\n\" + ellipsis + remainder_str\n",
    "        return offset_str + remainder_str\n",
    "    else:\n",
    "        return \"\\u2026\" + remainder_str\n",
    "\n",
    "fig1 = plt.figure(1, figsize=(15,10))\n",
    "ax1 = fig1.add_subplot(1,1,1)\n",
    "print(ax1.xaxis.major.formatter)\n",
    "xtick_locator = mticker.AutoLocator()\n",
    "xtick_formatter = mticker.FuncFormatter(fmt_truncate_posix)\n",
    "# xtick_formatter = mdates.AutoDateFormatter(xtick_locator)\n",
    "# xtick_formatter = mticker.ScalarFormatter(xtick_locator)\n",
    "\n",
    "\n",
    "for i in [1]: #range(len(list(nwbf_read.get_acquisition('LFP').electrical_series.items()))):\n",
    "    example_es_name, example_es = list(nwbf_read.get_acquisition('LFP').electrical_series.items())[i]\n",
    "    nwbf_read.get_acquisition('LFP').electrical_series\n",
    "    #ts = (example_es.timestamps.value[-1001:-1]*1e9).astype('datetime64[ns]')\n",
    "    ts = example_es.timestamps.value[-10001:-1] \n",
    "    print(\"plot #%d\" % i)\n",
    "    ax1.plot(ts, example_es.data[0:10000] * 1000)\n",
    "\n",
    "ax1.set_title(example_es_name)\n",
    "ax1.set_xlabel('Time (s)')\n",
    "# ax1.set_xlabel('Time (s; prefix = 113615\\u2026)')\n",
    "ax1.set_ylabel('Amplitude (mV)')\n",
    "ax1.xaxis.set_major_locator(xtick_locator)\n",
    "ax1.xaxis.set_major_formatter(xtick_formatter)\n",
    "print(ax1.xaxis.major.formatter)\n",
    "\n",
    "\n",
    "# xtick_locator = mdates.AutoDateLocator()\n",
    "\n",
    "\n",
    "#fig1.autofmt_xdate()"
   ]
  },
  {
   "cell_type": "code",
   "execution_count": 37,
   "metadata": {},
   "outputs": [],
   "source": [
    "#io.close()"
   ]
  },
  {
   "cell_type": "code",
   "execution_count": null,
   "metadata": {},
   "outputs": [],
   "source": []
  },
  {
   "cell_type": "code",
   "execution_count": null,
   "metadata": {},
   "outputs": [],
   "source": []
  },
  {
   "cell_type": "code",
   "execution_count": null,
   "metadata": {},
   "outputs": [],
   "source": []
  }
 ],
 "metadata": {
  "kernelspec": {
   "display_name": "Python 3",
   "language": "python",
   "name": "python3"
  },
  "language_info": {
   "codemirror_mode": {
    "name": "ipython",
    "version": 3
   },
   "file_extension": ".py",
   "mimetype": "text/x-python",
   "name": "python",
   "nbconvert_exporter": "python",
   "pygments_lexer": "ipython3",
   "version": "3.6.6"
  }
 },
 "nbformat": 4,
 "nbformat_minor": 2
}
