{
 "cells": [
  {
   "cell_type": "code",
   "execution_count": null,
   "metadata": {},
   "outputs": [],
   "source": [
    "import pynwb\n",
    "import numpy as np\n",
    "import matplotlib.pyplot as plt\n",
    "plt.rcParams.update({'font.size': 12})\n",
    "plt.rcParams.update({'lines.solid_capstyle': 'butt'})\n"
   ]
  },
  {
   "cell_type": "markdown",
   "metadata": {},
   "source": [
    "### Helper functions"
   ]
  },
  {
   "cell_type": "code",
   "execution_count": null,
   "metadata": {},
   "outputs": [],
   "source": [
    "def times_in_intervals(times, intervals):\n",
    "    times.sort()\n",
    "    # Sort intervals by start time\n",
    "    intervals = intervals[intervals[:,0].argsort()]\n",
    "    return times_in_intervals_rec(times, intervals)\n",
    "\n",
    "def times_in_intervals_rec(times, intervals):\n",
    "    if times.size == 0:\n",
    "        return True\n",
    "    if intervals.size == 0:\n",
    "        return False\n",
    "    t = times[0]\n",
    "    start_time = intervals[0, 0]\n",
    "    end_time = intervals[0, 1]\n",
    "    if t >= start_time:\n",
    "        if t <= end_time:\n",
    "            return times_in_intervals_rec(times[1:], intervals)\n",
    "        else:\n",
    "            return times_in_intervals_rec(times, intervals[1:, :])\n",
    "    else:\n",
    "        return False"
   ]
  },
  {
   "cell_type": "markdown",
   "metadata": {},
   "source": [
    "### Data import parameters"
   ]
  },
  {
   "cell_type": "code",
   "execution_count": null,
   "metadata": {},
   "outputs": [],
   "source": [
    "data_dir = '/home/tjd/Src/nwbquery/examples/franklab/ff_import'\n",
    "animday = 'Bon04'\n",
    "nwb_filename = data_dir + '/' + animday + '_test.nwb'"
   ]
  },
  {
   "cell_type": "markdown",
   "metadata": {},
   "source": [
    "### Read NWB file"
   ]
  },
  {
   "cell_type": "code",
   "execution_count": null,
   "metadata": {},
   "outputs": [],
   "source": [
    "io = pynwb.NWBHDF5IO(nwb_filename, mode='r')\n",
    "nwbf = io.read()"
   ]
  },
  {
   "cell_type": "markdown",
   "metadata": {},
   "source": [
    "### Collect spike times and observation intervals"
   ]
  },
  {
   "cell_type": "code",
   "execution_count": null,
   "metadata": {
    "scrolled": true
   },
   "outputs": [],
   "source": [
    "# Select cluster \n",
    "# TODO select cluster by metadata\n",
    "cluster_id = 30\n",
    "\n",
    "# Get cluster name\n",
    "clname_idx = nwbf.units.colnames.index('cluster_name')\n",
    "cluster_name = animday + ' ' + nwbf.units.columns[clname_idx][cluster_id]\n",
    "print('Cluster name = ' + cluster_name)\n",
    "\n",
    "# Get spike times\n",
    "spikes_t = nwbf.modules['Spike Data']['UnitTimes'].get_unit_spike_times(cluster_id)\n",
    "print('# of spikes = %d' % spikes_t.size)\n",
    "print('Time of 1st/last spike (s): %0.4f / %0.4f \\n' % (spikes_t[0], spikes_t[-1]))\n",
    "\n",
    "# Get spike observation intervals\n",
    "obsint_idx = nwbf.units.colnames.index('obs_intervals')\n",
    "obs_IntervalSeries = nwbf.units.columns[obsint_idx][cluster_id] # returns IntervalSeries\n",
    "assert np.all(np.abs(obs_IntervalSeries.data)==1), \"Multiple interval types in an IntervalSeries not supported\"\n",
    "obs_intervals = np.reshape(obs_IntervalSeries.timestamps, (-1,2))\n",
    "print('# of intervals = %d' % obs_intervals.shape[0])\n",
    "print('Spike Observation Intervals (s): ')\n",
    "print(obs_intervals)\n",
    "print()\n",
    "\n",
    "assert times_in_intervals(spikes_t, obs_intervals), 'Spike times found outside of observation intervals'"
   ]
  },
  {
   "cell_type": "markdown",
   "metadata": {},
   "source": [
    "### Plot spiking and some sample Time Queries"
   ]
  },
  {
   "cell_type": "code",
   "execution_count": null,
   "metadata": {},
   "outputs": [],
   "source": [
    "fig1 = plt.figure(1, figsize=(15,6))\n",
    "ax1 = fig1.add_subplot(1,1,1)\n",
    "labels = []\n",
    "labels.append((1,'Acquired Spiking Data'))\n",
    "\n",
    "obsint_h = ax1.plot(obs_intervals.T, np.full(obs_intervals.T.shape, 1), 'b', linewidth=25, marker='', alpha=0.1)\n",
    "spikes_h = ax1.plot(spikes_t, np.full(spikes_t.shape, 1), marker='|', markersize=10, linestyle='', color='b')\n",
    "\n",
    "# Time queries\n",
    "tqs = []\n",
    "# (query, short_label, long_label, mockup answers)\n",
    "# Get spikes from epoch 1\n",
    "tqs.append((obs_intervals[0,:], 'A', 'Full epoch', obs_intervals[0,:]))\n",
    "# Get spikes from all run epochs\n",
    "tqs.append((obs_intervals[(1,3,5),:], 'B', 'Multiple epochs', obs_intervals[(1,3,5),:]))\n",
    "# Get spikes from valid interval with no spiking\n",
    "tqs.append(([5900, 6200], 'C', 'Full overlap, no spikes', [5900, 6200]))\n",
    "# partial overlap between query and obs_int\n",
    "tqs.append(([6600, 7050], 'D', 'Partial overlap', [6600, 6811]))\n",
    "# non-overlap between query and obs_int\n",
    "tqs.append(([9500, 9900], 'E', 'No overlap', []))\n",
    "\n",
    "y_offset = -5\n",
    "spacing = 6\n",
    "cmap = plt.get_cmap(\"tab10\")\n",
    "plots_h = []\n",
    "for i, tq in enumerate(tqs):\n",
    "    tq_intervals = np.array(tq[0]).T\n",
    "    ypos = y_offset-i*spacing\n",
    "    labels.append((ypos, '[ %s ]  %s' % (tq[1], tq[2])))\n",
    "    line_h = ax1.plot(tq_intervals,np.full(tq_intervals.shape, ypos), \n",
    "                        color=cmap(i), linewidth=5, marker='')\n",
    "    ax1.vlines(tq_intervals, ypos, -1, color=cmap(i), linestyle='--', alpha=0.2)\n",
    "    plots_h.append(line_h[0])\n",
    "    \n",
    "    # plot query response\n",
    "    r_intervals = np.array(tq[3], ndmin=2)\n",
    "    r_spikes = []\n",
    "    if r_intervals.size:\n",
    "        for r_int in r_intervals:\n",
    "            r_spikes.extend([s for s in spikes_t if s >= r_int[0] and s <= r_int[1]])\n",
    "\n",
    "        ax1.plot(r_intervals.T, np.full(r_intervals.T.shape, ypos-3),\n",
    "                color='b', linewidth=25, marker='', alpha=0.1)\n",
    "        spikes_h = ax1.plot(r_spikes, np.full(len(r_spikes), ypos-3), marker='|', markersize=10, linestyle='', color='b')\n",
    "    \n",
    "#     obsint_h = ax1.plot(obs_intervals.T, np.full(obs_intervals.T.shape, 1), 'b', linewidth=25, marker='', alpha=0.1)\n",
    "#     spikes_h = ax1.plot(spikes_t, np.full(spikes_t.shape, 1), marker='|', markersize=10, linestyle='', color='b')\n",
    "\n",
    "ax1.set_ylim([ypos-spacing,2*spacing])\n",
    "ax1.set_yticks([l[0] for l in labels])\n",
    "ax1.set_yticklabels([l[1] for l in labels])\n",
    "\n",
    "ax1.set_xlabel('Time (s)')\n",
    "ax1.legend([spikes_h[0], obsint_h[0]], ['Spike times', 'Spike observation Intervals'],\n",
    "           labelspacing=1, borderpad=1, loc='upper right' )\n",
    "# ax1.legend([spikes_h, obsint_h] + plots_h,\n",
    "#            ['Spike times', 'Spike observation Intervals'] + [l[1] for l in labels],\n",
    "#            labelspacing=1, borderpad=1 )\n",
    "plt.tight_layout()\n",
    "fig1.savefig('./spike_timequeries.png', dpi=200)\n",
    "None"
   ]
  },
  {
   "cell_type": "code",
   "execution_count": null,
   "metadata": {},
   "outputs": [],
   "source": [
    "tq"
   ]
  },
  {
   "cell_type": "markdown",
   "metadata": {},
   "source": [
    "### Compute average firing rate across intervals"
   ]
  },
  {
   "cell_type": "code",
   "execution_count": null,
   "metadata": {},
   "outputs": [],
   "source": [
    "def mean_firing_rate(spikes_t, obs_intervals):\n",
    "    assert times_in_intervals(spikes_t, obs_intervals), 'Spike times found outside of observation intervals'\n",
    "    return spikes_t.size / np.diff(obs_intervals, axis=1).sum()\n",
    "\n",
    "fr_mean_Hz = mean_firing_rate(spikes_t, obs_intervals)\n",
    "print('Mean firing rate of cluster %s: %0.3f Hz' % (cluster_name, fr_mean_Hz) )"
   ]
  },
  {
   "cell_type": "markdown",
   "metadata": {},
   "source": [
    "### Collect some behavioral intervals"
   ]
  },
  {
   "cell_type": "code",
   "execution_count": null,
   "metadata": {},
   "outputs": [],
   "source": [
    "speed = nwbf.modules['Behavior']['Speed']['Speed d4 e1']\n",
    "nwbf.session_start_time.timestamp() #TODO\n",
    "electrode_query = nwbf.electrodes['location']"
   ]
  },
  {
   "cell_type": "code",
   "execution_count": null,
   "metadata": {},
   "outputs": [],
   "source": [
    "speed_ts = np.array(speed.timestamps)-nwbf.session_start_time.timestamp()\n",
    "speed_data = np.array(speed.data)\n",
    "\n",
    "speed_gt5_ts = speed_ts[speed_data[:]>5]\n",
    "\n",
    "fig2 = plt.figure(2, figsize=(15,4))\n",
    "ax2 = fig2.add_subplot(1,1,1)\n",
    "# ax2.hist(speed.data,100);\n",
    "ax2.plot(speed_gt5_ts, np.full(speed_gt5_ts.shape, 1), 'x')"
   ]
  },
  {
   "cell_type": "code",
   "execution_count": null,
   "metadata": {},
   "outputs": [],
   "source": []
  }
 ],
 "metadata": {
  "kernelspec": {
   "display_name": "Python 3",
   "language": "python",
   "name": "python3"
  },
  "language_info": {
   "codemirror_mode": {
    "name": "ipython",
    "version": 3
   },
   "file_extension": ".py",
   "mimetype": "text/x-python",
   "name": "python",
   "nbconvert_exporter": "python",
   "pygments_lexer": "ipython3",
   "version": "3.6.6"
  }
 },
 "nbformat": 4,
 "nbformat_minor": 2
}
