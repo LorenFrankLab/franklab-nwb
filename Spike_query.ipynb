{
 "cells": [
  {
   "cell_type": "code",
   "execution_count": null,
   "metadata": {},
   "outputs": [],
   "source": [
    "%load_ext autoreload\n",
    "%autoreload 2\n",
    "\n",
    "import pynwb\n",
    "import numpy as np\n",
    "\n",
    "# pip install python-intervals, *NOT* pip install intervals\n",
    "import intervals as iv\n",
    "\n",
    "import query_helpers as qu\n",
    "\n",
    "import matplotlib.pyplot as plt\n",
    "plt.rcParams.update({'font.size': 12})\n",
    "plt.rcParams.update({'lines.solid_capstyle': 'butt'})\n"
   ]
  },
  {
   "cell_type": "markdown",
   "metadata": {},
   "source": [
    "### Data import parameters"
   ]
  },
  {
   "cell_type": "code",
   "execution_count": null,
   "metadata": {},
   "outputs": [],
   "source": [
    "# data_dir = '/home/tjd/Src/nwbquery/examples/franklab/ff_import'\n",
    "data_dir = '/Users/tjd/Src/nwbquery/examples/franklab/ff_import'\n",
    "animday = 'Bon04'\n",
    "nwb_filename = data_dir + '/' + animday + '_test.nwb'"
   ]
  },
  {
   "cell_type": "markdown",
   "metadata": {},
   "source": [
    "### Read NWB file"
   ]
  },
  {
   "cell_type": "code",
   "execution_count": null,
   "metadata": {},
   "outputs": [],
   "source": [
    "io = pynwb.NWBHDF5IO(nwb_filename, mode='r')\n",
    "nwbf = io.read()"
   ]
  },
  {
   "cell_type": "markdown",
   "metadata": {},
   "source": [
    "### Collect spike times and observation intervals"
   ]
  },
  {
   "cell_type": "code",
   "execution_count": null,
   "metadata": {},
   "outputs": [],
   "source": [
    "# Select cluster \n",
    "# TODO select cluster by metadata\n",
    "cluster_id = 30\n",
    "\n",
    "# Get cluster name\n",
    "clname_idx = nwbf.units.colnames.index('cluster_name')\n",
    "cluster_name = animday + ' ' + nwbf.units.columns[clname_idx][cluster_id]\n",
    "print('Cluster name = ' + cluster_name)\n",
    "\n",
    "# Get spike times\n",
    "spikes_t = nwbf.modules['Spike Data']['UnitTimes'].get_unit_spike_times(cluster_id)\n",
    "print('# of spikes = %d' % spikes_t.size)\n",
    "print('Time of 1st/last spike (s): %0.4f / %0.4f \\n' % (spikes_t[0], spikes_t[-1]))\n",
    "\n",
    "# Get spike observation intervals\n",
    "obsint_idx = nwbf.units.colnames.index('obs_intervals')\n",
    "obs_IntervalSeries = nwbf.units.columns[obsint_idx][cluster_id] # returns IntervalSeries\n",
    "obs_intervals = qu.intervals_from_IntervalSeries(obs_IntervalSeries)\n",
    "\n",
    "    \n",
    "print('# of intervals = %d' % len(obs_intervals))\n",
    "print('Spike Observation Intervals (s): ')\n",
    "print(obs_intervals)\n",
    "print()\n",
    "\n",
    "assert qu.times_in_intervals(spikes_t, obs_intervals), 'Spike times found outside of observation intervals'"
   ]
  },
  {
   "cell_type": "markdown",
   "metadata": {},
   "source": [
    "### Do some sample Time Queries"
   ]
  },
  {
   "cell_type": "code",
   "execution_count": null,
   "metadata": {},
   "outputs": [],
   "source": [
    "# Time queries\n",
    "tqs = []\n",
    "# (query, short_label, long_label, mockup answers)\n",
    "# Get spikes from epoch 1\n",
    "tqs.append((obs_intervals[0], 'A', 'Full epoch'))\n",
    "# Get spikes from all sleep epochs\n",
    "tqs.append((obs_intervals[0] | obs_intervals[2] | obs_intervals[4] | obs_intervals[6], 'B', 'Multiple epochs'))\n",
    "# Get spikes from valid interval with no spiking\n",
    "tqs.append((iv.closed(5900, 6200), 'C', 'Full overlap, no spikes'))\n",
    "# partial overlap between query and obs_int\n",
    "tqs.append((iv.closed(6600, 7050), 'D', 'Partial overlap'))\n",
    "# non-overlap between query and obs_int\n",
    "tqs.append((iv.closed(9500, 9900), 'E', 'No overlap'))\n",
    "\n",
    "\n",
    "# TODO: harmonize timestamps across speed (POSIX time?) and spikes/obs_ints. During import.\n",
    "speed = nwbf.modules['Behavior']['Speed']['Speed d4 e4']\n",
    "speed_ts = np.array(speed.timestamps)-nwbf.session_start_time.timestamp()\n",
    "speed_data = np.array(speed.data)\n",
    "\n",
    "speed_threshold_fn = lambda x: x > 0.05 # m/s\n",
    "speed_gt_intervals = qu.intervals_from_continuous(speed_data, speed_ts, speed_threshold_fn)\n",
    "speed_gt_ep3_intervals = speed_gt_intervals & obs_intervals[2] # limit to run epochs\n",
    "\n",
    "tqs.append((speed_gt_intervals, 'F', 'Complex behavioral query'))\n",
    "\n",
    "# responses\n",
    "rs = []\n",
    "for tq in tqs:\n",
    "    tq_intervals = tq[0]\n",
    "    r_intervals = tq_intervals & obs_intervals # intersection operator!\n",
    "#     print(iv.to_string(r_intervals))\n",
    "    r_spikes = qu.times_in_intervals(spikes_t,r_intervals)\n",
    "    print(len(r_spikes))\n",
    "    rs.append((r_intervals, r_spikes))\n",
    "    "
   ]
  },
  {
   "cell_type": "markdown",
   "metadata": {},
   "source": [
    "### Plot spiking and some sample Time Queries"
   ]
  },
  {
   "cell_type": "code",
   "execution_count": null,
   "metadata": {},
   "outputs": [],
   "source": [
    "fig1 = plt.figure(1, figsize=(15,6))\n",
    "ax1 = fig1.add_subplot(1,1,1)\n",
    "labels = []\n",
    "labels.append((1,'Acquired Spiking Data'))\n",
    "\n",
    "ypos = 1\n",
    "\n",
    "int_h, times_h = qu.plot_pointprocess(obs_intervals, spikes_t, axis=ax1)\n",
    "# obsint_h = ax1.plot(obs_intervals_np.T, np.full(obs_intervals_np.T.shape, ypos), \n",
    "#                     color='b', linewidth=25, marker='', alpha=0.1)\n",
    "# spikes_h = ax1.plot(spikes_t, np.full(spikes_t.shape, ypos), \n",
    "#                     marker='|', markersize=10, linestyle='', color='b')"
   ]
  },
  {
   "cell_type": "code",
   "execution_count": null,
   "metadata": {},
   "outputs": [],
   "source": [
    "y_offset = -5\n",
    "spacing = 6\n",
    "cmap = plt.get_cmap(\"tab10\")\n",
    "plots_h = []\n",
    "for i, tq in enumerate(tqs):\n",
    "    tq_intervals = array_from_intervals(tq[0]).T\n",
    "    ypos = y_offset-i*spacing\n",
    "    labels.append((ypos, '[ %s ]  %s' % (tq[1], tq[2])))\n",
    "    line_h = ax1.plot(tq_intervals,np.full(tq_intervals.shape, ypos), \n",
    "                        color=cmap(i), linewidth=5, marker='')\n",
    "    ax1.vlines(tq_intervals, ypos, -1, color=cmap(i), linestyle='--', alpha=0.2)\n",
    "    plots_h.append(line_h[0])\n",
    "    \n",
    "    # plot query response\n",
    "    r_intervals = array_from_intervals(rs[i][0]).T\n",
    "    r_spikes = rs[i][1]\n",
    "\n",
    "    ax1.plot(r_intervals, np.full(r_intervals.shape, ypos-3),\n",
    "            color='b', linewidth=25, marker='', alpha=0.1)\n",
    "    spikes_h = ax1.plot(r_spikes, np.full(len(r_spikes), ypos-3), \n",
    "                        marker='|', \n",
    "                        markersize=10, \n",
    "                        linestyle='', \n",
    "                        color='b')\n",
    "    \n",
    "#     obsint_h = ax1.plot(obs_intervals_np.T, np.full(obs_intervals_np.T.shape, 1), 'b', linewidth=25, marker='', alpha=0.1)\n",
    "#     spikes_h = ax1.plot(spikes_t, np.full(spikes_t.shape, 1), marker='|', markersize=10, linestyle='', color='b')\n",
    "\n",
    "ax1.set_ylim([ypos-spacing,2*spacing])\n",
    "ax1.set_yticks([l[0] for l in labels])\n",
    "ax1.set_yticklabels([l[1] for l in labels])\n",
    "\n",
    "ax1.set_xlabel('Time (s)')\n",
    "ax1.legend([spikes_h[0], obsint_h[0]], ['Spike times', 'Spike observation Intervals'],\n",
    "           labelspacing=1, borderpad=1, loc='upper right' )\n",
    "# ax1.legend([spikes_h, obsint_h] + plots_h,\n",
    "#            ['Spike times', 'Spike observation Intervals'] + [l[1] for l in labels],\n",
    "#            labelspacing=1, borderpad=1 )\n",
    "plt.tight_layout()\n",
    "fig1.savefig('./spike_timequeries.png', dpi=200)\n",
    "# ax1.set_xlim((4000,4100))\n",
    "None"
   ]
  },
  {
   "cell_type": "code",
   "execution_count": null,
   "metadata": {},
   "outputs": [],
   "source": [
    "ax1.set_xlim(rs[-1][1][0]-1, rs[-1][1][0]+20)\n",
    "fig1"
   ]
  },
  {
   "cell_type": "markdown",
   "metadata": {},
   "source": [
    "### Compute average firing rate across intervals"
   ]
  },
  {
   "cell_type": "code",
   "execution_count": null,
   "metadata": {},
   "outputs": [],
   "source": [
    "def mean_firing_rate(spikes_t, obs_intervals):\n",
    "    assert times_in_intervals(spikes_t, obs_intervals), 'Spike times found outside of observation intervals'\n",
    "    obs_intervals = array_from_intervals(obs_intervals)\n",
    "    return spikes_t.size / np.diff(obs_intervals, axis=1).sum()\n",
    "\n",
    "fr_mean_Hz = mean_firing_rate(spikes_t, obs_intervals)\n",
    "print('Mean firing rate of cluster %s: %0.3f Hz' % (cluster_name, fr_mean_Hz) )"
   ]
  },
  {
   "cell_type": "markdown",
   "metadata": {},
   "source": [
    "### Collect some behavioral intervals"
   ]
  },
  {
   "cell_type": "code",
   "execution_count": null,
   "metadata": {},
   "outputs": [],
   "source": [
    "speed_threshold = lambda x: x > 5\n",
    "speed_gt_intervals = intervals_from_continuous(speed_data, speed_threshold)\n",
    "speed_gt_run_intervals = speed_gt_intervals & tqs[1][0] # limit to run epochs\n",
    "speed_gt_run_spikes = times_in_intervals(spikes_t, speed_gt_run_intervals)"
   ]
  },
  {
   "cell_type": "code",
   "execution_count": null,
   "metadata": {},
   "outputs": [],
   "source": [
    "# Get intervals when threshold is met\n",
    "fig2 = plt.figure(2, figsize=(15,4))\n",
    "ax2 = fig2.add_subplot(1,1,1)\n",
    "iv_to_plot = array_from_intervals(speed_gt_run_intervals).T\n",
    "ax2.plot(iv_to_plot, np.full(iv_to_plot.shape, 1),\n",
    "         color='b', linewidth=25, marker='', alpha=0.1)\n",
    "ax2.plot(speed_gt_run_spikes, np.full(len(speed_gt_run_spikes), 1), \n",
    "                        marker='|', \n",
    "                        markersize=10, \n",
    "                        linestyle='', \n",
    "                        color='b')\n",
    "\n",
    "# ax2.set_xlim((0,500))\n",
    "None"
   ]
  },
  {
   "cell_type": "code",
   "execution_count": null,
   "metadata": {},
   "outputs": [],
   "source": [
    "io.close()"
   ]
  },
  {
   "cell_type": "code",
   "execution_count": null,
   "metadata": {},
   "outputs": [],
   "source": []
  }
 ],
 "metadata": {
  "kernelspec": {
   "display_name": "Python 3",
   "language": "python",
   "name": "python3"
  },
  "language_info": {
   "codemirror_mode": {
    "name": "ipython",
    "version": 3
   },
   "file_extension": ".py",
   "mimetype": "text/x-python",
   "name": "python",
   "nbconvert_exporter": "python",
   "pygments_lexer": "ipython3",
   "version": "3.6.6"
  }
 },
 "nbformat": 4,
 "nbformat_minor": 2
}
