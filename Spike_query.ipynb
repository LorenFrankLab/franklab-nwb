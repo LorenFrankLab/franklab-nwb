{
 "cells": [
  {
   "cell_type": "code",
   "execution_count": null,
   "metadata": {},
   "outputs": [],
   "source": [
    "import pynwb\n",
    "import numpy as np"
   ]
  },
  {
   "cell_type": "markdown",
   "metadata": {},
   "source": [
    "### Helper functions"
   ]
  },
  {
   "cell_type": "code",
   "execution_count": null,
   "metadata": {},
   "outputs": [],
   "source": [
    "def times_in_intervals(times, intervals):\n",
    "    times.sort()\n",
    "    # Sort intervals by start time\n",
    "    intervals = intervals[intervals[:,0].argsort()]\n",
    "    return times_in_intervals_rec(times, intervals)\n",
    "\n",
    "def times_in_intervals_rec(times, intervals):\n",
    "    if times.size == 0:\n",
    "        return True\n",
    "    if intervals.size == 0:\n",
    "        return False\n",
    "    t = times[0]\n",
    "    start_time = intervals[0, 0]\n",
    "    end_time = intervals[0, 1]\n",
    "    if t >= start_time:\n",
    "        if t <= end_time:\n",
    "            return times_in_intervals_rec(times[1:], intervals)\n",
    "        else:\n",
    "            return times_in_intervals_rec(times, intervals[1:, :])\n",
    "    else:\n",
    "        return False"
   ]
  },
  {
   "cell_type": "markdown",
   "metadata": {},
   "source": [
    "### Data import parameters"
   ]
  },
  {
   "cell_type": "code",
   "execution_count": null,
   "metadata": {},
   "outputs": [],
   "source": [
    "data_dir = '/home/tjd/Src/nwbquery/examples/franklab/ff_import'\n",
    "animday = 'Bon04'\n",
    "nwb_filename = data_dir + '/' + animday + '_test.nwb'"
   ]
  },
  {
   "cell_type": "markdown",
   "metadata": {},
   "source": [
    "### Read NWB file"
   ]
  },
  {
   "cell_type": "code",
   "execution_count": null,
   "metadata": {},
   "outputs": [],
   "source": [
    "io = pynwb.NWBHDF5IO(nwb_filename, mode='r')\n",
    "nwbf_read = io.read()"
   ]
  },
  {
   "cell_type": "markdown",
   "metadata": {},
   "source": [
    "### Collect spike times and observation intervals"
   ]
  },
  {
   "cell_type": "code",
   "execution_count": null,
   "metadata": {},
   "outputs": [],
   "source": [
    "# Select cluster \n",
    "# TODO select cluster by metadata\n",
    "cluster_id = 30\n",
    "\n",
    "# Get cluster name\n",
    "clname_idx = nwbf_read.units.colnames.index('cluster_name')\n",
    "cluster_name = animday + ' ' + nwbf_read.units.columns[clname_idx][cluster_id]\n",
    "print('Cluster name = ' + cluster_name)\n",
    "\n",
    "# Get spike times\n",
    "spikes_t = nwbf_read.modules['Spike Data']['UnitTimes'].get_unit_spike_times(cluster_id)\n",
    "print('# of spikes = %d' % spikes_t.size)\n",
    "print('Time of 1st/last spike (s): %0.4f / %0.4f \\n' % (spikes_t[0], spikes_t[-1]))\n",
    "\n",
    "# Get spike observation intervals\n",
    "obsint_idx = nwbf_read.units.colnames.index('obs_intervals')\n",
    "obs_IntervalSeries = nwbf_read.units.columns[obsint_idx][cluster_id] # returns IntervalSeries\n",
    "assert np.all(np.abs(obs_IntervalSeries.data)==1), \"Multiple interval types in an IntervalSeries not supported\"\n",
    "obs_intervals = np.reshape(obs_IntervalSeries.timestamps, (-1,2))\n",
    "print('# of intervals = %d' % obs_intervals.shape[0])\n",
    "print('Spike Observation Intervals (s): ')\n",
    "print(obs_intervals)\n",
    "print()\n",
    "\n",
    "assert times_in_intervals(spikes_t, obs_intervals), 'Spike times found outside of observation intervals'"
   ]
  },
  {
   "cell_type": "markdown",
   "metadata": {},
   "source": [
    "### Compute average firing rate across intervals"
   ]
  },
  {
   "cell_type": "code",
   "execution_count": null,
   "metadata": {},
   "outputs": [],
   "source": [
    "def mean_firing_rate(spikes_t, obs_intervals):\n",
    "    assert times_in_intervals(spikes_t, obs_intervals), 'Spike times found outside of observation intervals'\n",
    "    return spikes_t.size / np.diff(obs_intervals, axis=1).sum()\n",
    "\n",
    "fr_mean_Hz = mean_firing_rate(spikes_t, obs_intervals)\n",
    "print('Mean firing rate of cluster %s: %0.3f Hz' % (cluster_name, fr_mean_Hz) )\n"
   ]
  },
  {
   "cell_type": "code",
   "execution_count": null,
   "metadata": {},
   "outputs": [],
   "source": []
  }
 ],
 "metadata": {
  "kernelspec": {
   "display_name": "Python 3",
   "language": "python",
   "name": "python3"
  },
  "language_info": {
   "codemirror_mode": {
    "name": "ipython",
    "version": 3
   },
   "file_extension": ".py",
   "mimetype": "text/x-python",
   "name": "python",
   "nbconvert_exporter": "python",
   "pygments_lexer": "ipython3",
   "version": "3.6.6"
  }
 },
 "nbformat": 4,
 "nbformat_minor": 2
}
